{
 "cells": [
  {
   "cell_type": "markdown",
   "metadata": {},
   "source": [
    "### Keras \n",
    "\n",
    "https://keras.io/applications/#available-models\n",
    "\n",
    "https://keras.io/getting-started/faq/#how-can-i-save-a-keras-model\n"
   ]
  },
  {
   "cell_type": "code",
   "execution_count": 18,
   "metadata": {
    "ExecuteTime": {
     "end_time": "2018-08-19T02:18:20.181612Z",
     "start_time": "2018-08-19T02:18:20.153071Z"
    }
   },
   "outputs": [
    {
     "name": "stdout",
     "output_type": "stream",
     "text": [
      "3.6.5 |Anaconda, Inc.| (default, Apr 26 2018, 08:42:37) \n",
      "[GCC 4.2.1 Compatible Clang 4.0.1 (tags/RELEASE_401/final)]\n",
      "numpy version 1.14.3\n",
      "tensforflow version 1.10.1\n",
      "keras version 2.2.2\n"
     ]
    }
   ],
   "source": [
    "import numpy as np\n",
    "import pickle, time, sys\n",
    "from copy import deepcopy\n",
    "from shutil import copy\n",
    "import import_ipynb\n",
    "from tqdm import tqdm_notebook as tqdm\n",
    "import RMT_Util\n",
    "\n",
    "import matplotlib\n",
    "import matplotlib.pyplot as plt\n",
    "%matplotlib inline\n",
    "\n",
    "import powerlaw\n",
    "\n",
    "import tensorflow as tf\n",
    "import keras\n",
    "from keras.callbacks import TensorBoard, EarlyStopping\n",
    "from keras.optimizers import SGD\n",
    "from keras.initializers import Constant\n",
    "import keras.backend as K\n",
    "from keras.models import load_model\n",
    "\n",
    "\n",
    "from keras.applications import vgg16, vgg19, inception_resnet_v2, mobilenet, nasnet \n",
    "\n",
    "import sklearn\n",
    "from sklearn.decomposition import TruncatedSVD\n",
    "from sklearn.random_projection import sparse_random_matrix\n",
    "\n",
    "\n",
    "print(sys.version)\n",
    "print(\"numpy version {}\".format(np.__version__))\n",
    "print(\"tensforflow version {}\".format(tf.__version__))\n",
    "print(\"keras version {}\".format(keras.__version__))"
   ]
  },
  {
   "cell_type": "code",
   "execution_count": 19,
   "metadata": {
    "ExecuteTime": {
     "end_time": "2018-08-19T02:18:22.147205Z",
     "start_time": "2018-08-19T02:18:21.103515Z"
    }
   },
   "outputs": [],
   "source": [
    "#sess = tf.InteractiveSession()\n",
    "#sess.run(tf.global_variables_initializer())"
   ]
  },
  {
   "cell_type": "code",
   "execution_count": 30,
   "metadata": {},
   "outputs": [],
   "source": [
    "kmodel = vgg16.VGG16\n",
    "#model = kmodel(weights=None)\n",
    "model = kmodel(weights='imagenet')"
   ]
  },
  {
   "cell_type": "code",
   "execution_count": 31,
   "metadata": {},
   "outputs": [
    {
     "name": "stdout",
     "output_type": "stream",
     "text": [
      "ls: *h5: No such file or directory\r\n"
     ]
    }
   ],
   "source": [
    "!rm vgg16.h5\n",
    "!ls *h5"
   ]
  },
  {
   "cell_type": "code",
   "execution_count": 32,
   "metadata": {},
   "outputs": [],
   "source": [
    "model.save(\"vgg16.h5\")"
   ]
  },
  {
   "cell_type": "code",
   "execution_count": 33,
   "metadata": {},
   "outputs": [
    {
     "name": "stderr",
     "output_type": "stream",
     "text": [
      "/Users/charleshmartin/anaconda3/lib/python3.6/site-packages/keras/engine/saving.py:269: UserWarning: No training configuration found in save file: the model was *not* compiled. Compile it manually.\n",
      "  warnings.warn('No training configuration found in save file: '\n"
     ]
    }
   ],
   "source": [
    "pmodel = load_model('vgg16.h5')"
   ]
  },
  {
   "cell_type": "code",
   "execution_count": 34,
   "metadata": {},
   "outputs": [
    {
     "name": "stdout",
     "output_type": "stream",
     "text": [
      "0 <keras.engine.input_layer.InputLayer object at 0x1a42262160>\n",
      "1 <keras.layers.convolutional.Conv2D object at 0x1a422620f0>\n",
      "2 <keras.layers.convolutional.Conv2D object at 0x1a42262da0>\n",
      "3 <keras.layers.pooling.MaxPooling2D object at 0x1a422626d8>\n",
      "4 <keras.layers.convolutional.Conv2D object at 0x1a42262b70>\n",
      "5 <keras.layers.convolutional.Conv2D object at 0x1a42262dd8>\n",
      "6 <keras.layers.pooling.MaxPooling2D object at 0x1a4220ef28>\n",
      "7 <keras.layers.convolutional.Conv2D object at 0x1a4220eeb8>\n",
      "8 <keras.layers.convolutional.Conv2D object at 0x1a4220ec88>\n",
      "9 <keras.layers.convolutional.Conv2D object at 0x1a4220eb38>\n",
      "10 <keras.layers.pooling.MaxPooling2D object at 0x1a4220e940>\n",
      "11 <keras.layers.convolutional.Conv2D object at 0x1a4220e7f0>\n",
      "12 <keras.layers.convolutional.Conv2D object at 0x1a4220e5c0>\n",
      "13 <keras.layers.convolutional.Conv2D object at 0x1a4220e400>\n",
      "14 <keras.layers.pooling.MaxPooling2D object at 0x1a4220e240>\n",
      "15 <keras.layers.convolutional.Conv2D object at 0x1a4220e0b8>\n",
      "16 <keras.layers.convolutional.Conv2D object at 0x1a42262f28>\n",
      "17 <keras.layers.convolutional.Conv2D object at 0x1a1c5c9240>\n",
      "18 <keras.layers.pooling.MaxPooling2D object at 0x1a1c5c9e48>\n",
      "19 <keras.layers.core.Flatten object at 0x1a1c5c9a58>\n",
      "20 <keras.layers.core.Dense object at 0x1a4224b358>\n",
      "21 <keras.layers.core.Dense object at 0x1a4224b3c8>\n",
      "22 <keras.layers.core.Dense object at 0x1a4224b278>\n"
     ]
    }
   ],
   "source": [
    "for il, l in enumerate(pmodel.layers):\n",
    "        print(il,l)"
   ]
  },
  {
   "cell_type": "markdown",
   "metadata": {},
   "source": [
    "### Get weights from last l, should be power law"
   ]
  },
  {
   "cell_type": "code",
   "execution_count": 35,
   "metadata": {},
   "outputs": [
    {
     "data": {
      "text/plain": [
       "(4096, 1000)"
      ]
     },
     "execution_count": 35,
     "metadata": {},
     "output_type": "execute_result"
    }
   ],
   "source": [
    "W = l.get_weights()[0]\n",
    "W.shape"
   ]
  },
  {
   "cell_type": "code",
   "execution_count": 36,
   "metadata": {},
   "outputs": [
    {
     "data": {
      "image/png": "[encoded data removed]",
      "text/plain": [
       "<Figure size 432x288 with 1 Axes>"
      ]
     },
     "metadata": {},
     "output_type": "display_data"
    }
   ],
   "source": [
    "X = np.dot(W.T,W)\n",
    "evals = np.linalg.eigvals(X)\n",
    "plt.hist(evals, bins=100);"
   ]
  },
  {
   "cell_type": "code",
   "execution_count": null,
   "metadata": {},
   "outputs": [],
   "source": []
  },
  {
   "cell_type": "code",
   "execution_count": null,
   "metadata": {},
   "outputs": [],
   "source": []
  }
 ],
 "metadata": {
  "kernelspec": {
   "display_name": "Python 3",
   "language": "python",
   "name": "python3"
  },
  "language_info": {
   "codemirror_mode": {
    "name": "ipython",
    "version": 3
   },
   "file_extension": ".py",
   "mimetype": "text/x-python",
   "name": "python",
   "nbconvert_exporter": "python",
   "pygments_lexer": "ipython3",
   "version": "3.6.5"
  }
 },
 "nbformat": 4,
 "nbformat_minor": 2
}
