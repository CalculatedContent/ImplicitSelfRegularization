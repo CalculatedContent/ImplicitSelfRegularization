{
 "cells": [
  {
   "cell_type": "markdown",
   "metadata": {},
   "source": [
    "## Mini AlexNet Baseline w/Dropout Results\n",
    "\n",
    "### use Batchnorm and Dropout on all layers\n",
    "\n",
    "Expects:\n",
    "\n",
    "- weight.h5 files in ./weights \n",
    "- CIFAR10 data in ../data/cifar-10-batches-py/\n",
    "- Layer 8 becomes Layer 9 here\n",
    "\n",
    "and while the keras code needs py27, the notebooks can use py3.6 \n"
   ]
  },
  {
   "cell_type": "code",
   "execution_count": 1,
   "metadata": {
    "ExecuteTime": {
     "end_time": "2018-09-02T22:48:41.680621Z",
     "start_time": "2018-09-02T22:48:38.326772Z"
    }
   },
   "outputs": [
    {
     "name": "stderr",
     "output_type": "stream",
     "text": [
      "/Users/charleshmartin/anaconda3/lib/python3.6/importlib/_bootstrap.py:219: RuntimeWarning: compiletime version 3.5 of module 'tensorflow.python.framework.fast_tensor_util' does not match runtime version 3.6\n",
      "  return f(*args, **kwds)\n",
      "/Users/charleshmartin/anaconda3/lib/python3.6/site-packages/h5py/__init__.py:36: FutureWarning: Conversion of the second argument of issubdtype from `float` to `np.floating` is deprecated. In future, it will be treated as `np.float64 == np.dtype(float).type`.\n",
      "  from ._conv import register_converters as _register_converters\n",
      "Using TensorFlow backend.\n"
     ]
    },
    {
     "name": "stdout",
     "output_type": "stream",
     "text": [
      "importing Jupyter notebook from RMT_Util.ipynb\n",
      "3.6.5 |Anaconda, Inc.| (default, Apr 26 2018, 08:42:37) \n",
      "[GCC 4.2.1 Compatible Clang 4.0.1 (tags/RELEASE_401/final)]\n",
      "numpy version 1.14.3\n",
      "scipy version 1.1.0\n",
      "tensforflow version 1.10.1\n",
      "keras version 2.2.2\n",
      "sklearn version 0.19.1\n",
      "powerlaw version 1.4.3\n"
     ]
    }
   ],
   "source": [
    "import sys\n",
    "import pickle, time\n",
    "from copy import deepcopy\n",
    "from shutil import copy\n",
    "from tqdm import tqdm_notebook as tqdm\n",
    "\n",
    "import numpy as np\n",
    "import tensorflow as tf\n",
    "import keras\n",
    "from keras.models import Sequential\n",
    "from keras.layers import Dense, Flatten\n",
    "from keras.layers.convolutional import Conv2D, MaxPooling2D\n",
    "from keras.layers.normalization import BatchNormalization\n",
    "from keras.callbacks import TensorBoard, EarlyStopping\n",
    "from keras.optimizers import SGD\n",
    "from keras.initializers import Constant\n",
    "import keras.backend as K\n",
    "\n",
    "import matplotlib\n",
    "import matplotlib.pyplot as plt\n",
    "%matplotlib inline\n",
    "\n",
    "import sklearn\n",
    "from sklearn.decomposition import TruncatedSVD\n",
    "from sklearn.random_projection import sparse_random_matrix\n",
    "\n",
    "import import_ipynb\n",
    "import RMT_Util"
   ]
  },
  {
   "cell_type": "code",
   "execution_count": 2,
   "metadata": {},
   "outputs": [],
   "source": [
    "DataDIR = \"/Users/charleshmartin/work/DLGeneralization/data\"\n",
    "ModelDIR = \"/Users/charleshmartin/work-tmp/MiniAlexNet\"\n",
    "WeightsDIR = ModelDIR+\"/weights\"\n",
    "ResultsDIR = ModelDIR+\"/results\""
   ]
  },
  {
   "cell_type": "code",
   "execution_count": 3,
   "metadata": {
    "ExecuteTime": {
     "end_time": "2018-09-02T22:48:41.743119Z",
     "start_time": "2018-09-02T22:48:41.682478Z"
    }
   },
   "outputs": [],
   "source": [
    "DATA_DIR = DataDIR\n",
    "\n",
    "BASELINE_outfile = ResultsDIR+'/cifar10_alexnet.out'\n",
    "\n",
    "BASELINE_final_weightfile = WeightsDIR+'/alexnet.b16.final.h5'\n",
    "BASELINE_per_epoch_weightfile = WeightsDIR+\"/alexnet.b16.e{}.h5\"\n",
    "NUM_BASELINE_EPOCHS = 100\n",
    "\n",
    "\n",
    "DROPOUT_outfile = ResultsDIR+'/cifar10_alexnet.dp.out '\n",
    "\n",
    "DROPOUT_final_weightfile = WeightsDIR+'/alexnet.dp.b16.final.h5'\n",
    "DROPOUT_per_epoch_weightfile = WeightsDIR+\"/alexnet.dp.b16.e{}.h5\"\n",
    "NUM_DROPOUT_EPOCHS = 100\n",
    "\n",
    "DROPOUT_ensemble_weightfile = WeightsDIR+\"/alexnet.dp.b16.id{}.h5\"\n",
    "\n",
    "DROPOUT_init_weighfile = WeightsDIR+'/alexnet.dp.b16.e0.h5'\n",
    "\n",
    "NUM_ENSEMBLE_RUNS = 10\n",
    "N7, M7 = 4096, 384\n",
    "N8, M8 = 384, 192\n",
    "\n",
    "Q7 = float(N7)/float(M7)\n",
    "Q8 = float(N8)/float(M8)\n",
    "\n",
    "LAYER_FC1 = 7\n",
    "LAYER_FC2 = 9\n",
    "\n",
    "ENTROPY_FILE = \"img/mini-alexnet-dropout-entropy-per-epoch.png\"\n",
    "RANK_FILE = \"img/mini-alexnet-dropout-rank-per-epoch.png\"\n",
    "ACCURACY_FILE = \"img/mini-alexnet-dropout-accuracy-per-epoch.png\"\n",
    "\n",
    "\n",
    "TITLE_FC1 = r\"Mini AlexNet w/Dropout FC1: $\\rho_{NR}(\\lambda)$ \"\n",
    "TITLE_FC2 = r\"Mini AlexNet w/Dropout FC2: $\\rho_{NR}(\\lambda)$ \"\n",
    "\n",
    "\n",
    "TITLE_RAND_FC1 = r\"Mini-AlexNet w/Dropout FC1:\"+\"\\n\"+r\"$\\rho_{NR}(\\lambda)$ shuffled 100X\"\n",
    "TITLE_RAND_FC2 = r\"Mini-AlexNet w/Dropout FC2:\"+\"\\n\"+r\"$\\rho_{NR}(\\lambda)$ shuffled 100X\"\n",
    "\n",
    "XLABEL_FC1 = r\"Eigenvalues $\\lambda$ of $\\mathbf{X}=\\mathbf{W}_{FC1}^{T}\\mathbf{W}_{FC1}$\"\n",
    "XLABEL_FC2 = r\"Eigenvalues $\\lambda$ of $\\mathbf{X}=\\mathbf{W}_{FC2}^{T}\\mathbf{W}_{FC2}$\"\n",
    "\n",
    "XLABEL = r\"Eigenvalues $\\lambda$ of $\\mathbf{X}=\\mathbf{W}}^{T}\\mathbf{W}$\"\n",
    "YLABEL = r\"$\\rho_{NR}(\\lambda)$ shuffled $100X$\"\n",
    "\n",
    "FC1_FILENAME_1 = \"img/mini-alexnet-dropout-fc1-9spikes.png\"\n",
    "FC2_FILENAME_1 = \"img/mini-alexnet-dropout-fc2-9spikes.png\"\n",
    "\n",
    "FC1_FILENAME_2 = \"img/mini-alexnet-dropout-fc1-10spikes.png\"\n",
    "FC2_FILENAME_2 = \"img/mini-alexnet-dropout-fc2-10spikes.png\"\n",
    "\n",
    "RAND_FC1_FILENAME = \"img/mini-alexnet-dropout-fc1-rand.png\"\n",
    "RAND_FC2_FILENAME = \"img/mini-alexnet-dropout-fc2-rand.png\"\n"
   ]
  },
  {
   "cell_type": "code",
   "execution_count": 4,
   "metadata": {
    "ExecuteTime": {
     "end_time": "2018-09-02T22:48:41.749255Z",
     "start_time": "2018-09-02T22:48:41.745216Z"
    }
   },
   "outputs": [],
   "source": [
    "matplotlib.rcParams.update({'font.size': 14})\n",
    "plt.rcParams['figure.figsize'] = [5,5]"
   ]
  },
  {
   "cell_type": "markdown",
   "metadata": {},
   "source": [
    "### Check weights files are present"
   ]
  },
  {
   "cell_type": "code",
   "execution_count": 5,
   "metadata": {
    "ExecuteTime": {
     "end_time": "2018-09-02T22:48:42.600999Z",
     "start_time": "2018-09-02T22:48:42.420483Z"
    }
   },
   "outputs": [
    {
     "name": "stdout",
     "output_type": "stream",
     "text": [
      "ls: WeightsDIR/*dp*: No such file or directory\r\n"
     ]
    }
   ],
   "source": [
    "!ls WeightsDIR/*dp* | head"
   ]
  },
  {
   "cell_type": "markdown",
   "metadata": {},
   "source": [
    "## Baseline (first, for comparison)"
   ]
  },
  {
   "cell_type": "code",
   "execution_count": 6,
   "metadata": {
    "ExecuteTime": {
     "end_time": "2018-09-02T22:48:42.938818Z",
     "start_time": "2018-09-02T22:48:42.604576Z"
    }
   },
   "outputs": [
    {
     "name": "stdout",
     "output_type": "stream",
     "text": [
      "_________________________________________________________________\n",
      "Layer (type)                 Output Shape              Param #   \n",
      "=================================================================\n",
      "conv2d_1 (Conv2D)            (None, 28, 28, 96)        7296      \n",
      "_________________________________________________________________\n",
      "max_pooling2d_1 (MaxPooling2 (None, 10, 10, 96)        0         \n",
      "_________________________________________________________________\n",
      "batch_normalization_1 (Batch (None, 10, 10, 96)        384       \n",
      "_________________________________________________________________\n",
      "conv2d_2 (Conv2D)            (None, 10, 10, 256)       614656    \n",
      "_________________________________________________________________\n",
      "max_pooling2d_2 (MaxPooling2 (None, 4, 4, 256)         0         \n",
      "_________________________________________________________________\n",
      "batch_normalization_2 (Batch (None, 4, 4, 256)         1024      \n",
      "_________________________________________________________________\n",
      "flatten_1 (Flatten)          (None, 4096)              0         \n",
      "_________________________________________________________________\n",
      "dense_1 (Dense)              (None, 384)               1573248   \n",
      "_________________________________________________________________\n",
      "dense_2 (Dense)              (None, 192)               73920     \n",
      "_________________________________________________________________\n",
      "dense_3 (Dense)              (None, 10)                1930      \n",
      "=================================================================\n",
      "Total params: 2,272,458\n",
      "Trainable params: 2,271,754\n",
      "Non-trainable params: 704\n",
      "_________________________________________________________________\n",
      "None\n"
     ]
    }
   ],
   "source": [
    "model = RMT_Util.Alexnet_Model()\n",
    "\n",
    "sess = tf.InteractiveSession()\n",
    "sess.run(tf.global_variables_initializer())\n",
    "\n",
    "model.load_weights(BASELINE_final_weightfile)\n",
    "print(model.summary())\n"
   ]
  },
  {
   "cell_type": "code",
   "execution_count": 7,
   "metadata": {},
   "outputs": [
    {
     "name": "stderr",
     "output_type": "stream",
     "text": [
      "/Users/charleshmartin/anaconda3/lib/python3.6/site-packages/tensorflow/python/client/session.py:1645: UserWarning: An interactive session is already active. This can cause out-of-memory errors in some cases. You must explicitly call `InteractiveSession.close()` to release resources held by the other session(s).\n",
      "  warnings.warn('An interactive session is already active. This can '\n"
     ]
    }
   ],
   "source": [
    "opt = SGD(lr=0.01, momentum=0.9)\n",
    "model.compile(loss='mse', optimizer=opt, metrics=['accuracy'])\n",
    "\n",
    "sess = tf.InteractiveSession()\n",
    "sess.run(tf.global_variables_initializer())"
   ]
  },
  {
   "cell_type": "code",
   "execution_count": 8,
   "metadata": {},
   "outputs": [
    {
     "name": "stdout",
     "output_type": "stream",
     "text": [
      "Loading test images...\n"
     ]
    }
   ],
   "source": [
    "test_images, test_labels = RMT_Util.read_test_images(datadir=DATA_DIR)"
   ]
  },
  {
   "cell_type": "code",
   "execution_count": 9,
   "metadata": {},
   "outputs": [
    {
     "data": {
      "application/vnd.jupyter.widget-view+json": {
       "model_id": "16bec4b7fd7141d384ebd3329f594f15",
       "version_major": 2,
       "version_minor": 0
      },
      "text/plain": [
       "HBox(children=(IntProgress(value=0), HTML(value='')))"
      ]
     },
     "metadata": {},
     "output_type": "display_data"
    },
    {
     "name": "stdout",
     "output_type": "stream",
     "text": [
      "10000/10000 [==============================] - 9s 939us/step\n",
      "10000/10000 [==============================] - 9s 940us/step\n",
      "10000/10000 [==============================] - 9s 917us/step\n",
      "10000/10000 [==============================] - 9s 915us/step\n",
      "10000/10000 [==============================] - 9s 936us/step\n",
      "10000/10000 [==============================] - 10s 986us/step\n",
      "10000/10000 [==============================] - 10s 1ms/step\n",
      "10000/10000 [==============================] - 10s 986us/step\n",
      "10000/10000 [==============================] - 10s 991us/step\n",
      "10000/10000 [==============================] - 10s 950us/step\n",
      "10000/10000 [==============================] - 9s 940us/step\n",
      "10000/10000 [==============================] - 9s 921us/step\n",
      "10000/10000 [==============================] - 9s 925us/step\n",
      "10000/10000 [==============================] - 10s 978us/step\n",
      "10000/10000 [==============================] - 10s 954us/step\n",
      "10000/10000 [==============================] - 10s 970us/step\n",
      "10000/10000 [==============================] - 10s 979us/step\n",
      "10000/10000 [==============================] - 10s 993us/step\n",
      "10000/10000 [==============================] - 9s 933us/step\n",
      "10000/10000 [==============================] - 9s 918us/step\n",
      "10000/10000 [==============================] - 9s 904us/step\n",
      "10000/10000 [==============================] - 9s 900us/step\n",
      "10000/10000 [==============================] - 9s 917us/step\n",
      "10000/10000 [==============================] - 9s 930us/step\n",
      "10000/10000 [==============================] - 9s 919us/step\n",
      "10000/10000 [==============================] - 9s 910us/step\n",
      "10000/10000 [==============================] - 10s 963us/step\n",
      "10000/10000 [==============================] - 9s 938us/step\n",
      "10000/10000 [==============================] - 10s 993us/step\n",
      "10000/10000 [==============================] - 10s 961us/step\n",
      "10000/10000 [==============================] - 9s 923us/step\n",
      "10000/10000 [==============================] - 9s 904us/step\n",
      "10000/10000 [==============================] - 9s 911us/step\n",
      "10000/10000 [==============================] - 9s 904us/step\n",
      "10000/10000 [==============================] - 9s 900us/step\n",
      "10000/10000 [==============================] - 9s 900us/step\n",
      "10000/10000 [==============================] - 9s 910us/step\n",
      "10000/10000 [==============================] - 9s 899us/step\n",
      "10000/10000 [==============================] - 9s 904us/step\n",
      "10000/10000 [==============================] - 9s 898us/step\n",
      "10000/10000 [==============================] - 9s 906us/step\n",
      "10000/10000 [==============================] - 9s 904us/step\n",
      "10000/10000 [==============================] - 9s 898us/step\n",
      "10000/10000 [==============================] - 9s 916us/step\n",
      "10000/10000 [==============================] - 9s 917us/step\n",
      "10000/10000 [==============================] - 9s 921us/step\n",
      "10000/10000 [==============================] - 9s 900us/step\n",
      "10000/10000 [==============================] - 9s 902us/step\n",
      "10000/10000 [==============================] - 9s 896us/step\n",
      "10000/10000 [==============================] - 9s 899us/step\n",
      "10000/10000 [==============================] - 9s 906us/step\n",
      "10000/10000 [==============================] - 9s 920us/step\n",
      "10000/10000 [==============================] - 9s 928us/step\n",
      "10000/10000 [==============================] - 9s 936us/step\n",
      "10000/10000 [==============================] - 9s 918us/step\n",
      "10000/10000 [==============================] - 9s 905us/step\n",
      "10000/10000 [==============================] - 9s 910us/step\n",
      "10000/10000 [==============================] - 9s 928us/step\n",
      "10000/10000 [==============================] - 9s 918us/step\n",
      "10000/10000 [==============================] - 9s 909us/step\n",
      "10000/10000 [==============================] - 9s 900us/step\n",
      "10000/10000 [==============================] - 9s 903us/step\n",
      "10000/10000 [==============================] - 9s 897us/step\n",
      "10000/10000 [==============================] - 9s 900us/step\n",
      "10000/10000 [==============================] - 9s 900us/step\n",
      "10000/10000 [==============================] - 9s 899us/step\n",
      "10000/10000 [==============================] - 9s 921us/step\n",
      "10000/10000 [==============================] - 9s 925us/step\n",
      "10000/10000 [==============================] - 9s 939us/step\n",
      "10000/10000 [==============================] - 10s 952us/step\n",
      "10000/10000 [==============================] - 9s 921us/step\n",
      "10000/10000 [==============================] - 9s 932us/step\n",
      "10000/10000 [==============================] - 9s 898us/step\n",
      "10000/10000 [==============================] - 9s 900us/step\n",
      "10000/10000 [==============================] - 9s 894us/step\n",
      "10000/10000 [==============================] - 9s 941us/step\n",
      "10000/10000 [==============================] - 10s 966us/step\n",
      "10000/10000 [==============================] - 10s 955us/step\n",
      "10000/10000 [==============================] - 10s 980us/step\n",
      "10000/10000 [==============================] - 9s 929us/step\n",
      "10000/10000 [==============================] - 9s 902us/step\n",
      "10000/10000 [==============================] - 9s 899us/step\n",
      "10000/10000 [==============================] - 9s 901us/step\n",
      "10000/10000 [==============================] - 9s 898us/step\n",
      "10000/10000 [==============================] - 9s 908us/step\n",
      "10000/10000 [==============================] - 9s 920us/step\n",
      "10000/10000 [==============================] - 9s 912us/step\n",
      "10000/10000 [==============================] - 9s 900us/step\n",
      "10000/10000 [==============================] - 9s 896us/step\n",
      "10000/10000 [==============================] - 9s 898us/step\n",
      "10000/10000 [==============================] - 9s 900us/step\n",
      "10000/10000 [==============================] - 9s 900us/step\n",
      "10000/10000 [==============================] - 9s 908us/step\n",
      "10000/10000 [==============================] - 9s 902us/step\n",
      "10000/10000 [==============================] - 9s 906us/step\n",
      "10000/10000 [==============================] - 9s 899us/step\n",
      "10000/10000 [==============================] - 9s 902us/step\n",
      "10000/10000 [==============================] - 9s 902us/step\n",
      "10000/10000 [==============================] - 9s 899us/step\n",
      "10000/10000 [==============================] - 9s 896us/step\n",
      "\n"
     ]
    }
   ],
   "source": [
    "bsln_train_accs = RMT_Util.read_training_accuracies(BASELINE_outfile)\n",
    "assert(len(bsln_train_accs)==NUM_BASELINE_EPOCHS)\n",
    "\n",
    "bsln_test_accs = []\n",
    "for epoch in tqdm(range(NUM_BASELINE_EPOCHS)):\n",
    "    modelfile = BASELINE_per_epoch_weightfile.format(epoch)\n",
    "    model.load_weights(modelfile)\n",
    "    acc =  model.evaluate(np.array(test_images),np.array(test_labels), batch_size=256)\n",
    "    bsln_test_accs.append(acc[1])"
   ]
  },
  {
   "cell_type": "markdown",
   "metadata": {
    "ExecuteTime": {
     "end_time": "2018-04-11T00:20:35.143766Z",
     "start_time": "2018-04-11T00:20:35.141086Z"
    }
   },
   "source": [
    "## Entropy and Accuracies per Epoch"
   ]
  },
  {
   "cell_type": "code",
   "execution_count": 10,
   "metadata": {
    "ExecuteTime": {
     "end_time": "2018-09-02T22:53:44.605609Z",
     "start_time": "2018-09-02T22:48:42.941336Z"
    }
   },
   "outputs": [
    {
     "data": {
      "application/vnd.jupyter.widget-view+json": {
       "model_id": "2420b4d0b94947039de3705cdcf8b8b2",
       "version_major": 2,
       "version_minor": 0
      },
      "text/plain": [
       "HBox(children=(IntProgress(value=0), HTML(value='')))"
      ]
     },
     "metadata": {},
     "output_type": "display_data"
    },
    {
     "name": "stdout",
     "output_type": "stream",
     "text": [
      "\n"
     ]
    }
   ],
   "source": [
    "fc1_bsln_entropies, fc2_bsln_entropies = [], []\n",
    "fc1_bsln_ranks, fc2_bsln_ranks = [], []\n",
    "\n",
    "for epoch in tqdm(range(NUM_BASELINE_EPOCHS)):\n",
    "    model.load_weights(BASELINE_per_epoch_weightfile.format(epoch))   \n",
    "    fc1_bsln_entropies.append(RMT_Util.layer_entropy(model,LAYER_FC1))\n",
    "    fc2_bsln_entropies.append(RMT_Util.layer_entropy(model,LAYER_FC2-1)) # note\n",
    "    \n",
    "    fc1_bsln_ranks.append(RMT_Util.layer_soft_rank(model,LAYER_FC1))\n",
    "    fc2_bsln_ranks.append(RMT_Util.layer_soft_rank(model,LAYER_FC2-1)) # note"
   ]
  },
  {
   "cell_type": "code",
   "execution_count": 11,
   "metadata": {
    "ExecuteTime": {
     "end_time": "2018-09-02T22:53:44.624543Z",
     "start_time": "2018-09-02T22:53:44.612704Z"
    }
   },
   "outputs": [],
   "source": [
    "assert(len(fc1_bsln_entropies)==NUM_BASELINE_EPOCHS)\n",
    "assert(len(fc2_bsln_entropies)==NUM_BASELINE_EPOCHS)\n",
    "\n",
    "assert(len(fc1_bsln_ranks)==NUM_BASELINE_EPOCHS)\n",
    "assert(len(fc2_bsln_ranks)==NUM_BASELINE_EPOCHS)"
   ]
  },
  {
   "cell_type": "markdown",
   "metadata": {},
   "source": [
    "## Baseline  w/Dropout \n",
    "\n",
    "### (Batchnorm on FC1 and FC2)"
   ]
  },
  {
   "cell_type": "code",
   "execution_count": 12,
   "metadata": {
    "ExecuteTime": {
     "end_time": "2018-09-02T22:53:46.378957Z",
     "start_time": "2018-09-02T22:53:44.627751Z"
    }
   },
   "outputs": [
    {
     "name": "stderr",
     "output_type": "stream",
     "text": [
      "/Users/charleshmartin/anaconda3/lib/python3.6/site-packages/tensorflow/python/client/session.py:1645: UserWarning: An interactive session is already active. This can cause out-of-memory errors in some cases. You must explicitly call `InteractiveSession.close()` to release resources held by the other session(s).\n",
      "  warnings.warn('An interactive session is already active. This can '\n"
     ]
    }
   ],
   "source": [
    "model = RMT_Util.Alexnet_Model(batchnorm=True)\n",
    "sess = tf.InteractiveSession()\n",
    "sess.run(tf.global_variables_initializer())"
   ]
  },
  {
   "cell_type": "code",
   "execution_count": 13,
   "metadata": {
    "ExecuteTime": {
     "end_time": "2018-09-02T22:58:41.312483Z",
     "start_time": "2018-09-02T22:53:46.381726Z"
    }
   },
   "outputs": [
    {
     "data": {
      "application/vnd.jupyter.widget-view+json": {
       "model_id": "9f1134199fc245938045337b7aba9e45",
       "version_major": 2,
       "version_minor": 0
      },
      "text/plain": [
       "HBox(children=(IntProgress(value=0), HTML(value='')))"
      ]
     },
     "metadata": {},
     "output_type": "display_data"
    },
    {
     "name": "stdout",
     "output_type": "stream",
     "text": [
      "\n"
     ]
    }
   ],
   "source": [
    "fc1_entropies, fc2_entropies = [], []\n",
    "fc1_ranks, fc2_ranks = [], []\n",
    "\n",
    "for epoch in tqdm(range(NUM_DROPOUT_EPOCHS)):\n",
    "    model.load_weights(DROPOUT_per_epoch_weightfile.format(epoch))   \n",
    "    fc1_entropies.append(RMT_Util.layer_entropy(model, LAYER_FC1))\n",
    "    fc2_entropies.append(RMT_Util.layer_entropy(model, LAYER_FC2))\n",
    "    \n",
    "    fc1_ranks.append(RMT_Util.layer_soft_rank(model, LAYER_FC1))\n",
    "    fc2_ranks.append(RMT_Util.layer_soft_rank(model, LAYER_FC2))"
   ]
  },
  {
   "cell_type": "code",
   "execution_count": 14,
   "metadata": {
    "ExecuteTime": {
     "end_time": "2018-09-02T22:58:41.324487Z",
     "start_time": "2018-09-02T22:58:41.316494Z"
    }
   },
   "outputs": [],
   "source": [
    "assert(len(fc1_entropies)==NUM_DROPOUT_EPOCHS)\n",
    "assert(len(fc2_entropies)==NUM_DROPOUT_EPOCHS)\n",
    "\n",
    "assert(len(fc1_ranks)==NUM_DROPOUT_EPOCHS)\n",
    "assert(len(fc2_ranks)==NUM_DROPOUT_EPOCHS)"
   ]
  },
  {
   "cell_type": "code",
   "execution_count": 15,
   "metadata": {
    "ExecuteTime": {
     "end_time": "2018-09-02T22:58:41.871741Z",
     "start_time": "2018-09-02T22:58:41.328486Z"
    }
   },
   "outputs": [
    {
     "name": "stdout",
     "output_type": "stream",
     "text": [
      "saved file img/mini-alexnet-dropout-entropy-per-epoch.png\n"
     ]
    },
    {
     "data": {
      "image/png": "[encoded data removed]",
      "text/plain": [
       "<Figure size 360x360 with 1 Axes>"
      ]
     },
     "metadata": {},
     "output_type": "display_data"
    }
   ],
   "source": [
    "plt.scatter(range(0,len(fc1_entropies)), fc1_entropies, marker='.', color='cyan', label=\"FC1 dropout\")\n",
    "plt.scatter(range(0,len(fc2_entropies)), fc2_entropies, marker='.', color='lime', label=\"FC2 dropout\")\n",
    "plt.scatter(range(0,len(fc1_bsln_entropies)), fc1_bsln_entropies, marker='.', color='blue', label=\"FC1 baseline\")\n",
    "plt.scatter(range(0,len(fc2_bsln_entropies)), fc2_bsln_entropies, marker='.', color='green', label=\"FC2 baseline\")\n",
    "\n",
    "#lt.ylim([0.905,0.920])\n",
    "plt.title('Mini-AlexNet w/Dropout:'+'\\n'+'Entropy vs Epoch')\n",
    "plt.xlabel(\"Epoch (e)\")\n",
    "plt.ylabel(r\"Matrix Entropy $\\mathcal{S}(\\mathbf{W}^{e}_{l})$\")\n",
    "plt.legend()\n",
    "plt.tight_layout()\n",
    "\n",
    "plt.savefig(ENTROPY_FILE)\n",
    "print(\"saved file {}\".format(ENTROPY_FILE))"
   ]
  },
  {
   "cell_type": "code",
   "execution_count": 16,
   "metadata": {
    "ExecuteTime": {
     "end_time": "2018-09-02T22:58:42.412691Z",
     "start_time": "2018-09-02T22:58:41.874144Z"
    }
   },
   "outputs": [
    {
     "name": "stdout",
     "output_type": "stream",
     "text": [
      "saved file img/mini-alexnet-dropout-rank-per-epoch.png\n"
     ]
    },
    {
     "data": {
      "image/png": "[encoded data removed]",
      "text/plain": [
       "<Figure size 360x360 with 1 Axes>"
      ]
     },
     "metadata": {},
     "output_type": "display_data"
    }
   ],
   "source": [
    "plt.scatter(range(0,len(fc1_ranks)), fc1_ranks, marker='.', color='cyan', label=\"FC1 dropout\")\n",
    "plt.scatter(range(0,len(fc2_ranks)), fc2_ranks, marker='.', color='lime', label=\"FC2 dropout\")\n",
    "plt.scatter(range(0,len(fc1_ranks)), fc1_bsln_ranks, marker='.', color='blue', label=\"FC1 baseline\")\n",
    "plt.scatter(range(0,len(fc2_ranks)), fc2_bsln_ranks, marker='.', color='green', label=\"FC2 baseline\")\n",
    "\n",
    "#lt.ylim([0.905,0.920])\n",
    "plt.title('Mini-AlexNet w/Dropout:'+'\\n'+'Stable Rank vs Epoch')\n",
    "plt.xlabel(\"Epoch (e)\")\n",
    "plt.ylabel(r\"Stable Rank $\\mathcal{R}_{s}(\\mathbf{W}^{e}_{l})$\")\n",
    "plt.legend()\n",
    "plt.tight_layout()\n",
    "\n",
    "plt.savefig(RANK_FILE)\n",
    "print(\"saved file {}\".format(RANK_FILE))"
   ]
  },
  {
   "cell_type": "markdown",
   "metadata": {},
   "source": [
    "#### Read Dropout Training accuracies from output file\n",
    "\n",
    "Notice: there is no epoch=0 training accuracy"
   ]
  },
  {
   "cell_type": "code",
   "execution_count": 17,
   "metadata": {
    "ExecuteTime": {
     "end_time": "2018-09-02T22:58:42.807592Z",
     "start_time": "2018-09-02T22:58:42.416093Z"
    }
   },
   "outputs": [],
   "source": [
    "dp_train_accs = RMT_Util.read_training_accuracies(DROPOUT_outfile)\n",
    "assert(len(dp_train_accs)==NUM_DROPOUT_EPOCHS)"
   ]
  },
  {
   "cell_type": "markdown",
   "metadata": {
    "ExecuteTime": {
     "end_time": "2018-04-11T00:59:51.698081Z",
     "start_time": "2018-04-11T00:59:38.838Z"
    }
   },
   "source": [
    "#### Recompute Baseline Test accuracies "
   ]
  },
  {
   "cell_type": "code",
   "execution_count": 18,
   "metadata": {
    "ExecuteTime": {
     "end_time": "2018-09-02T22:58:43.295313Z",
     "start_time": "2018-09-02T22:58:42.813826Z"
    }
   },
   "outputs": [
    {
     "name": "stderr",
     "output_type": "stream",
     "text": [
      "/Users/charleshmartin/anaconda3/lib/python3.6/site-packages/tensorflow/python/client/session.py:1645: UserWarning: An interactive session is already active. This can cause out-of-memory errors in some cases. You must explicitly call `InteractiveSession.close()` to release resources held by the other session(s).\n",
      "  warnings.warn('An interactive session is already active. This can '\n"
     ]
    }
   ],
   "source": [
    "opt = SGD(lr=0.01, momentum=0.9)\n",
    "model.compile(loss='mse', optimizer=opt, metrics=['accuracy'])\n",
    "\n",
    "sess = tf.InteractiveSession()\n",
    "sess.run(tf.global_variables_initializer())"
   ]
  },
  {
   "cell_type": "code",
   "execution_count": 19,
   "metadata": {
    "ExecuteTime": {
     "end_time": "2018-09-02T22:58:48.654671Z",
     "start_time": "2018-09-02T22:58:43.298057Z"
    }
   },
   "outputs": [
    {
     "name": "stdout",
     "output_type": "stream",
     "text": [
      "Loading test images...\n"
     ]
    }
   ],
   "source": [
    "test_images, test_labels = RMT_Util.read_test_images(datadir=DATA_DIR)"
   ]
  },
  {
   "cell_type": "code",
   "execution_count": 20,
   "metadata": {
    "ExecuteTime": {
     "end_time": "2018-09-03T00:10:38.887031Z",
     "start_time": "2018-09-02T22:58:48.657821Z"
    }
   },
   "outputs": [
    {
     "data": {
      "application/vnd.jupyter.widget-view+json": {
       "model_id": "1239392ebeb0451d807d3d68d1c9f049",
       "version_major": 2,
       "version_minor": 0
      },
      "text/plain": [
       "HBox(children=(IntProgress(value=0), HTML(value='')))"
      ]
     },
     "metadata": {},
     "output_type": "display_data"
    },
    {
     "name": "stdout",
     "output_type": "stream",
     "text": [
      "10000/10000 [==============================] - 9s 914us/step\n",
      "10000/10000 [==============================] - 9s 913us/step\n",
      "10000/10000 [==============================] - 9s 925us/step\n",
      "10000/10000 [==============================] - 9s 924us/step\n",
      "10000/10000 [==============================] - 9s 921us/step\n",
      "10000/10000 [==============================] - 9s 919us/step\n",
      "10000/10000 [==============================] - 9s 922us/step\n",
      "10000/10000 [==============================] - 9s 917us/step\n",
      "10000/10000 [==============================] - 9s 917us/step\n",
      "10000/10000 [==============================] - 9s 921us/step\n",
      "10000/10000 [==============================] - 9s 915us/step\n",
      "10000/10000 [==============================] - 9s 917us/step\n",
      "10000/10000 [==============================] - 9s 924us/step\n",
      "10000/10000 [==============================] - 9s 921us/step\n",
      "10000/10000 [==============================] - 9s 929us/step\n",
      "10000/10000 [==============================] - 9s 940us/step\n",
      "10000/10000 [==============================] - 9s 928us/step\n",
      "10000/10000 [==============================] - 9s 922us/step\n",
      "10000/10000 [==============================] - 9s 923us/step\n",
      "10000/10000 [==============================] - 9s 924us/step\n",
      "10000/10000 [==============================] - 9s 931us/step\n",
      "10000/10000 [==============================] - 9s 942us/step\n",
      "10000/10000 [==============================] - 9s 930us/step\n",
      "10000/10000 [==============================] - 9s 927us/step\n",
      "10000/10000 [==============================] - 9s 929us/step\n",
      "10000/10000 [==============================] - 9s 923us/step\n",
      "10000/10000 [==============================] - 9s 927us/step\n",
      "10000/10000 [==============================] - 9s 943us/step\n",
      "10000/10000 [==============================] - 9s 930us/step\n",
      "10000/10000 [==============================] - 9s 933us/step\n",
      "10000/10000 [==============================] - 9s 924us/step\n",
      "10000/10000 [==============================] - 9s 927us/step\n",
      "10000/10000 [==============================] - 9s 927us/step\n",
      "10000/10000 [==============================] - 9s 924us/step\n",
      "10000/10000 [==============================] - 9s 929us/step\n",
      "10000/10000 [==============================] - 9s 927us/step\n",
      "10000/10000 [==============================] - 9s 930us/step\n",
      "10000/10000 [==============================] - 9s 924us/step\n",
      "10000/10000 [==============================] - 9s 928us/step\n",
      "10000/10000 [==============================] - 9s 925us/step\n",
      "10000/10000 [==============================] - 9s 937us/step\n",
      "10000/10000 [==============================] - 9s 929us/step\n",
      "10000/10000 [==============================] - 9s 925us/step\n",
      "10000/10000 [==============================] - 9s 927us/step\n",
      "10000/10000 [==============================] - 9s 929us/step\n",
      "10000/10000 [==============================] - 9s 926us/step\n",
      "10000/10000 [==============================] - 9s 922us/step\n",
      "10000/10000 [==============================] - 9s 920us/step\n",
      "10000/10000 [==============================] - 9s 918us/step\n",
      "10000/10000 [==============================] - 9s 933us/step\n",
      "10000/10000 [==============================] - 9s 925us/step\n",
      "10000/10000 [==============================] - 9s 923us/step\n",
      "10000/10000 [==============================] - 9s 928us/step\n",
      "10000/10000 [==============================] - 9s 943us/step\n",
      "10000/10000 [==============================] - 9s 926us/step\n",
      "10000/10000 [==============================] - 9s 923us/step\n",
      "10000/10000 [==============================] - 9s 922us/step\n",
      "10000/10000 [==============================] - 9s 927us/step\n",
      "10000/10000 [==============================] - 9s 927us/step\n",
      "10000/10000 [==============================] - 9s 935us/step\n",
      "10000/10000 [==============================] - 9s 929us/step\n",
      "10000/10000 [==============================] - 9s 930us/step\n",
      "10000/10000 [==============================] - 9s 922us/step\n",
      "10000/10000 [==============================] - 9s 930us/step\n",
      "10000/10000 [==============================] - 9s 915us/step\n",
      "10000/10000 [==============================] - 9s 914us/step\n",
      "10000/10000 [==============================] - 9s 929us/step\n",
      "10000/10000 [==============================] - 9s 916us/step\n",
      "10000/10000 [==============================] - 9s 924us/step\n",
      "10000/10000 [==============================] - 9s 915us/step\n",
      "10000/10000 [==============================] - 9s 925us/step\n",
      "10000/10000 [==============================] - 9s 925us/step\n",
      "10000/10000 [==============================] - 9s 916us/step\n",
      "10000/10000 [==============================] - 9s 926us/step\n",
      "10000/10000 [==============================] - 9s 921us/step\n",
      "10000/10000 [==============================] - 9s 915us/step\n",
      "10000/10000 [==============================] - 9s 918us/step\n",
      "10000/10000 [==============================] - 9s 925us/step\n",
      "10000/10000 [==============================] - 9s 919us/step\n",
      "10000/10000 [==============================] - 9s 925us/step\n",
      "10000/10000 [==============================] - 9s 917us/step\n",
      "10000/10000 [==============================] - 9s 914us/step\n",
      "10000/10000 [==============================] - 9s 918us/step\n",
      "10000/10000 [==============================] - 9s 917us/step\n",
      "10000/10000 [==============================] - 9s 916us/step\n",
      "10000/10000 [==============================] - 9s 914us/step\n",
      "10000/10000 [==============================] - 9s 919us/step\n",
      "10000/10000 [==============================] - 9s 916us/step\n",
      "10000/10000 [==============================] - 9s 921us/step\n",
      "10000/10000 [==============================] - 9s 916us/step\n",
      "10000/10000 [==============================] - 9s 918us/step\n",
      "10000/10000 [==============================] - 9s 921us/step\n",
      "10000/10000 [==============================] - 9s 925us/step\n",
      "10000/10000 [==============================] - 9s 917us/step\n",
      "10000/10000 [==============================] - 9s 913us/step\n",
      "10000/10000 [==============================] - 9s 920us/step\n",
      "10000/10000 [==============================] - 9s 920us/step\n",
      "10000/10000 [==============================] - 9s 914us/step\n",
      "10000/10000 [==============================] - 9s 919us/step\n",
      "10000/10000 [==============================] - 9s 910us/step\n",
      "\n"
     ]
    }
   ],
   "source": [
    "dp_test_accs = []\n",
    "for epoch in tqdm(range(NUM_DROPOUT_EPOCHS)):\n",
    "    modelfile = DROPOUT_per_epoch_weightfile.format(epoch)\n",
    "    model.load_weights(modelfile)\n",
    "    acc =  model.evaluate(test_images, test_labels, batch_size=256)\n",
    "    dp_test_accs.append(acc[1])"
   ]
  },
  {
   "cell_type": "code",
   "execution_count": null,
   "metadata": {},
   "outputs": [],
   "source": []
  },
  {
   "cell_type": "code",
   "execution_count": null,
   "metadata": {},
   "outputs": [],
   "source": []
  },
  {
   "cell_type": "markdown",
   "metadata": {},
   "source": [
    "### Training and test Accuracies vs Epoch\n",
    "\n",
    "## NO Overtraining w/Dropout"
   ]
  },
  {
   "cell_type": "code",
   "execution_count": 21,
   "metadata": {
    "ExecuteTime": {
     "end_time": "2018-09-03T00:10:38.904531Z",
     "start_time": "2018-09-03T00:10:38.892634Z"
    }
   },
   "outputs": [
    {
     "data": {
      "text/plain": [
       "(100, 100)"
      ]
     },
     "execution_count": 21,
     "metadata": {},
     "output_type": "execute_result"
    }
   ],
   "source": [
    "len(dp_train_accs), len(dp_test_accs)"
   ]
  },
  {
   "cell_type": "code",
   "execution_count": 22,
   "metadata": {
    "ExecuteTime": {
     "end_time": "2018-09-03T00:10:39.586361Z",
     "start_time": "2018-09-03T00:10:38.907306Z"
    }
   },
   "outputs": [
    {
     "name": "stdout",
     "output_type": "stream",
     "text": [
      "saved file img/mini-alexnet-dropout-accuracy-per-epoch.png\n"
     ]
    },
    {
     "data": {
      "image/png": "[encoded data removed]",
      "text/plain": [
       "<Figure size 360x360 with 1 Axes>"
      ]
     },
     "metadata": {},
     "output_type": "display_data"
    }
   ],
   "source": [
    "x = range(NUM_DROPOUT_EPOCHS)\n",
    "\n",
    "plt.scatter(x, bsln_train_accs,  marker='.',color='blue', label=\"baseline train\")\n",
    "plt.scatter(x, dp_train_accs,  marker='.',color='blueviolet', label='dropoout train')\n",
    "\n",
    "plt.scatter(x, bsln_test_accs,  marker='.',color='green', label=\"baseline test\")\n",
    "plt.scatter(x, dp_test_accs,  marker='.',color='teal', label='dropout test')\n",
    "\n",
    "\n",
    "plt.title('Mini-AlexNet w/Dropout:'+'\\n'+'Accuracies vs Epoch')\n",
    "plt.xlabel(\"Epoch (e)\")\n",
    "plt.ylabel(\"Accuracy\")\n",
    "plt.legend()\n",
    "plt.tight_layout()\n",
    "\n",
    "plt.savefig(ACCURACY_FILE)\n",
    "print(\"saved file {}\".format(ACCURACY_FILE))"
   ]
  },
  {
   "cell_type": "markdown",
   "metadata": {},
   "source": [
    "### Fit Marchenko Pastur to ESD\n",
    "\n",
    "Layer 7 and 8(9): both have a very close outlier (finite size or bleeding out ?) just near the MP edge.  This makes it hard to fit $\\sigma_{emp}^{2}$, so we compare to the ESD of shuffled X and make sure the estimate is smaller\n",
    "$$\\sigma_{emp}^{2}<\\sigma_{shuf}^{2}$$ "
   ]
  },
  {
   "cell_type": "markdown",
   "metadata": {},
   "source": [
    "###  ESD of Shuffled X"
   ]
  },
  {
   "cell_type": "code",
   "execution_count": 23,
   "metadata": {
    "ExecuteTime": {
     "end_time": "2018-09-03T00:12:25.438473Z",
     "start_time": "2018-09-03T00:10:39.588693Z"
    }
   },
   "outputs": [
    {
     "name": "stdout",
     "output_type": "stream",
     "text": [
      "get_shuffled_eigenvalues\n"
     ]
    },
    {
     "data": {
      "application/vnd.jupyter.widget-view+json": {
       "model_id": "2bc54ac133e346708525dd4baf7144a8",
       "version_major": 2,
       "version_minor": 0
      },
      "text/plain": [
       "HBox(children=(IntProgress(value=0), HTML(value='')))"
      ]
     },
     "metadata": {},
     "output_type": "display_data"
    },
    {
     "name": "stdout",
     "output_type": "stream",
     "text": [
      "\n"
     ]
    }
   ],
   "source": [
    "Q = Q7\n",
    "model.load_weights(DROPOUT_final_weightfile)\n",
    "W7 = model.layers[LAYER_FC1].get_weights()[0]\n",
    "W7.shape\n",
    "evals = RMT_Util.get_shuffled_eigenvalues(W7, layer=LAYER_FC1)\n",
    "evals = (np.array(evals).flatten())"
   ]
  },
  {
   "cell_type": "code",
   "execution_count": 24,
   "metadata": {
    "ExecuteTime": {
     "end_time": "2018-09-03T00:12:26.000061Z",
     "start_time": "2018-09-03T00:12:25.441251Z"
    }
   },
   "outputs": [
    {
     "name": "stdout",
     "output_type": "stream",
     "text": [
      "% spikes outside bulk 0.00\n",
      "% sigma 1.2538\n",
      "1.2538188753737491\n",
      "1.2538188753737491\n",
      "saved figure img/mini-alexnet-dropout-fc1-rand.png\n"
     ]
    },
    {
     "name": "stderr",
     "output_type": "stream",
     "text": [
      "RMT_Util.ipynb:7: RuntimeWarning: divide by zero encountered in true_divide\n",
      "  \"## RMT Util\\n\",\n",
      "RMT_Util.ipynb:7: RuntimeWarning: invalid value encountered in sqrt\n",
      "  \"## RMT Util\\n\",\n"
     ]
    },
    {
     "data": {
      "image/png": "[encoded data removed]",
      "text/plain": [
       "<Figure size 360x360 with 1 Axes>"
      ]
     },
     "metadata": {},
     "output_type": "display_data"
    }
   ],
   "source": [
    "sigma = RMT_Util.plot_ESD_and_fit(model=None, eigenvalues=evals, Q=Q)\n",
    "print(sigma)\n",
    "\n",
    "print(sigma)\n",
    "plt.title(TITLE_RAND_FC1)\n",
    "plt.xlabel(XLABEL_FC1)\n",
    "plt.ylabel(YLABEL)\n",
    "plt.tight_layout()\n",
    "\n",
    "filename=RAND_FC1_FILENAME\n",
    "plt.savefig(filename)\n",
    "print(\"saved figure {}\".format(filename))"
   ]
  },
  {
   "cell_type": "markdown",
   "metadata": {},
   "source": [
    "### Various MP Fits\n",
    "\n",
    "Use in paper ?  Only if really interesting"
   ]
  },
  {
   "cell_type": "code",
   "execution_count": 25,
   "metadata": {
    "ExecuteTime": {
     "end_time": "2018-09-03T00:12:27.572416Z",
     "start_time": "2018-09-03T00:12:26.002440Z"
    }
   },
   "outputs": [
    {
     "name": "stderr",
     "output_type": "stream",
     "text": [
      "RMT_Util.ipynb:7: RuntimeWarning: divide by zero encountered in true_divide\n",
      "  \"## RMT Util\\n\",\n",
      "RMT_Util.ipynb:7: RuntimeWarning: invalid value encountered in sqrt\n",
      "  \"## RMT Util\\n\",\n"
     ]
    },
    {
     "name": "stdout",
     "output_type": "stream",
     "text": [
      "% spikes outside bulk 2.40\n",
      "% sigma 1.2464\n",
      "1.2464242859936685\n",
      "saved figure img/mini-alexnet-dropout-fc1-9spikes.png\n"
     ]
    },
    {
     "data": {
      "image/png": "[encoded data removed]",
      "text/plain": [
       "<Figure size 360x360 with 1 Axes>"
      ]
     },
     "metadata": {},
     "output_type": "display_data"
    }
   ],
   "source": [
    "Q = Q7\n",
    "sigma = RMT_Util.plot_ESD_and_fit(model=model, weightfile=DROPOUT_final_weightfile, layer=LAYER_FC1, \n",
    "                            Q=Q, num_spikes=9, sigma=None, color='blue')\n",
    "\n",
    "print(sigma)\n",
    "plt.title(TITLE_FC1)\n",
    "plt.xlabel(XLABEL_FC1)\n",
    "plt.ylabel(YLABEL)\n",
    "plt.tight_layout()\n",
    "\n",
    "filename=FC1_FILENAME_1\n",
    "plt.savefig(filename)\n",
    "print(\"saved figure {}\".format(filename))"
   ]
  },
  {
   "cell_type": "code",
   "execution_count": 26,
   "metadata": {
    "ExecuteTime": {
     "end_time": "2018-09-03T00:12:29.119160Z",
     "start_time": "2018-09-03T00:12:27.575219Z"
    }
   },
   "outputs": [
    {
     "name": "stderr",
     "output_type": "stream",
     "text": [
      "RMT_Util.ipynb:7: RuntimeWarning: divide by zero encountered in true_divide\n",
      "  \"## RMT Util\\n\",\n",
      "RMT_Util.ipynb:7: RuntimeWarning: invalid value encountered in sqrt\n",
      "  \"## RMT Util\\n\",\n"
     ]
    },
    {
     "name": "stdout",
     "output_type": "stream",
     "text": [
      "% spikes outside bulk 2.67\n",
      "% sigma 1.2173\n",
      "1.2464242859936685\n",
      "saved figure img/mini-alexnet-dropout-fc1-10spikes.png\n"
     ]
    },
    {
     "data": {
      "image/png": "[encoded data removed]",
      "text/plain": [
       "<Figure size 360x360 with 1 Axes>"
      ]
     },
     "metadata": {},
     "output_type": "display_data"
    }
   ],
   "source": [
    "Q = Q7\n",
    "RMT_Util.plot_ESD_and_fit(model=model, weightfile=DROPOUT_final_weightfile, layer=LAYER_FC1, \n",
    "                            Q=Q, num_spikes=10, sigma=None, color='blue')\n",
    "\n",
    "print(sigma)\n",
    "plt.title(TITLE_FC1)\n",
    "plt.xlabel(XLABEL_FC1)\n",
    "plt.ylabel(YLABEL)\n",
    "plt.tight_layout()\n",
    "\n",
    "filename=FC1_FILENAME_2\n",
    "plt.savefig(filename)\n",
    "print(\"saved figure {}\".format(filename))"
   ]
  },
  {
   "cell_type": "code",
   "execution_count": 27,
   "metadata": {
    "ExecuteTime": {
     "end_time": "2018-09-03T00:12:31.030538Z",
     "start_time": "2018-09-03T00:12:29.121521Z"
    }
   },
   "outputs": [
    {
     "name": "stdout",
     "output_type": "stream",
     "text": [
      "get_shuffled_eigenvalues\n"
     ]
    },
    {
     "data": {
      "application/vnd.jupyter.widget-view+json": {
       "model_id": "5c3939ff9f274fa39422e9ab282db652",
       "version_major": 2,
       "version_minor": 0
      },
      "text/plain": [
       "HBox(children=(IntProgress(value=0), HTML(value='')))"
      ]
     },
     "metadata": {},
     "output_type": "display_data"
    },
    {
     "name": "stdout",
     "output_type": "stream",
     "text": [
      "\n"
     ]
    }
   ],
   "source": [
    "Q = Q8\n",
    "model.load_weights(DROPOUT_final_weightfile)\n",
    "W8 = model.layers[LAYER_FC2].get_weights()[0]\n",
    "W8.shape\n",
    "evals = RMT_Util.get_shuffled_eigenvalues(W8, layer=LAYER_FC2)\n",
    "evals = (np.array(evals).flatten())"
   ]
  },
  {
   "cell_type": "code",
   "execution_count": 28,
   "metadata": {
    "ExecuteTime": {
     "end_time": "2018-09-03T00:12:31.485257Z",
     "start_time": "2018-09-03T00:12:31.033598Z"
    }
   },
   "outputs": [
    {
     "name": "stdout",
     "output_type": "stream",
     "text": [
      "% spikes outside bulk 0.00\n",
      "% sigma 1.0345\n",
      "1.0344700315841424\n",
      "1.0344700315841424\n"
     ]
    },
    {
     "name": "stderr",
     "output_type": "stream",
     "text": [
      "RMT_Util.ipynb:7: RuntimeWarning: divide by zero encountered in true_divide\n",
      "  \"## RMT Util\\n\",\n",
      "RMT_Util.ipynb:7: RuntimeWarning: invalid value encountered in sqrt\n",
      "  \"## RMT Util\\n\",\n"
     ]
    },
    {
     "name": "stdout",
     "output_type": "stream",
     "text": [
      "saved figure img/mini-alexnet-dropout-fc2-rand.png\n"
     ]
    },
    {
     "data": {
      "image/png": "[encoded data removed]",
      "text/plain": [
       "<Figure size 360x360 with 1 Axes>"
      ]
     },
     "metadata": {},
     "output_type": "display_data"
    }
   ],
   "source": [
    "sigma = RMT_Util.plot_ESD_and_fit(model=None, eigenvalues=evals, Q=Q)\n",
    "print(sigma)\n",
    "\n",
    "print(sigma)\n",
    "plt.title(TITLE_RAND_FC2)\n",
    "plt.xlabel(XLABEL_FC2)\n",
    "plt.ylabel(YLABEL)\n",
    "plt.tight_layout()\n",
    "\n",
    "filename=RAND_FC2_FILENAME\n",
    "plt.savefig(filename)\n",
    "print(\"saved figure {}\".format(filename))"
   ]
  },
  {
   "cell_type": "code",
   "execution_count": 29,
   "metadata": {
    "ExecuteTime": {
     "end_time": "2018-09-03T00:12:32.181833Z",
     "start_time": "2018-09-03T00:12:31.488085Z"
    }
   },
   "outputs": [
    {
     "name": "stderr",
     "output_type": "stream",
     "text": [
      "RMT_Util.ipynb:7: RuntimeWarning: divide by zero encountered in true_divide\n",
      "  \"## RMT Util\\n\",\n",
      "RMT_Util.ipynb:7: RuntimeWarning: invalid value encountered in sqrt\n",
      "  \"## RMT Util\\n\",\n"
     ]
    },
    {
     "name": "stdout",
     "output_type": "stream",
     "text": [
      "% spikes outside bulk 4.92\n",
      "% sigma 0.9081\n",
      "1.0344700315841424\n",
      "saved figure img/mini-alexnet-dropout-fc2-9spikes.png\n"
     ]
    },
    {
     "data": {
      "image/png": "[encoded data removed]",
      "text/plain": [
       "<Figure size 360x360 with 1 Axes>"
      ]
     },
     "metadata": {},
     "output_type": "display_data"
    }
   ],
   "source": [
    "Q = Q8\n",
    "RMT_Util.plot_ESD_and_fit(model = model, weightfile = DROPOUT_final_weightfile, \n",
    "                          layer=LAYER_FC2, Q=Q, num_spikes=9, sigma=None, color='blue')\n",
    "\n",
    "print(sigma)\n",
    "plt.title(TITLE_FC2)\n",
    "plt.xlabel(XLABEL_FC2)\n",
    "plt.ylabel(YLABEL)\n",
    "plt.tight_layout()\n",
    "\n",
    "filename=FC2_FILENAME_1\n",
    "plt.savefig(filename)\n",
    "print(\"saved figure {}\".format(filename))"
   ]
  },
  {
   "cell_type": "code",
   "execution_count": 30,
   "metadata": {
    "ExecuteTime": {
     "end_time": "2018-09-03T00:12:32.642570Z",
     "start_time": "2018-09-03T00:12:32.183959Z"
    }
   },
   "outputs": [
    {
     "name": "stderr",
     "output_type": "stream",
     "text": [
      "RMT_Util.ipynb:7: RuntimeWarning: divide by zero encountered in true_divide\n",
      "  \"## RMT Util\\n\",\n",
      "RMT_Util.ipynb:7: RuntimeWarning: invalid value encountered in sqrt\n",
      "  \"## RMT Util\\n\",\n"
     ]
    },
    {
     "name": "stdout",
     "output_type": "stream",
     "text": [
      "% spikes outside bulk 5.49\n",
      "% sigma 0.8925\n",
      "1.0344700315841424\n",
      "saved figure img/mini-alexnet-dropout-fc2-10spikes.png\n"
     ]
    },
    {
     "data": {
      "image/png": "[encoded data removed]",
      "text/plain": [
       "<Figure size 360x360 with 1 Axes>"
      ]
     },
     "metadata": {},
     "output_type": "display_data"
    }
   ],
   "source": [
    "Q = Q8\n",
    "RMT_Util.plot_ESD_and_fit(model = model, weightfile = DROPOUT_final_weightfile, \n",
    "                          layer=LAYER_FC2, Q=Q, num_spikes=10, sigma=None, color='blue')\n",
    "\n",
    "print(sigma)\n",
    "plt.title(TITLE_FC2)\n",
    "plt.xlabel(XLABEL_FC2)\n",
    "plt.ylabel(YLABEL)\n",
    "plt.tight_layout()\n",
    "\n",
    "filename=FC2_FILENAME_2\n",
    "plt.savefig(filename)\n",
    "print(\"saved figure {}\".format(filename))"
   ]
  },
  {
   "cell_type": "markdown",
   "metadata": {},
   "source": [
    "## Scree Plots:  "
   ]
  },
  {
   "cell_type": "code",
   "execution_count": 31,
   "metadata": {
    "ExecuteTime": {
     "end_time": "2018-09-03T00:12:33.065106Z",
     "start_time": "2018-09-03T00:12:32.644478Z"
    }
   },
   "outputs": [
    {
     "data": {
      "image/png": "[encoded data removed]",
      "text/plain": [
       "<Figure size 360x360 with 1 Axes>"
      ]
     },
     "metadata": {},
     "output_type": "display_data"
    }
   ],
   "source": [
    "RMT_Util.scree_plot(model, DROPOUT_final_weightfile, layer=LAYER_FC1, label=\"FC1\")\n",
    "plt.title(\"Mini AlexNet w/Dropout:  Scree Plot FC1\")\n",
    "plt.show()\n"
   ]
  },
  {
   "cell_type": "code",
   "execution_count": 32,
   "metadata": {
    "ExecuteTime": {
     "end_time": "2018-09-03T00:12:33.213574Z",
     "start_time": "2018-09-03T00:12:33.067325Z"
    }
   },
   "outputs": [
    {
     "data": {
      "image/png": "[encoded data removed]",
      "text/plain": [
       "<Figure size 360x360 with 1 Axes>"
      ]
     },
     "metadata": {},
     "output_type": "display_data"
    }
   ],
   "source": [
    "RMT_Util.scree_plot(model, DROPOUT_final_weightfile, layer=LAYER_FC2, label=\"FC2\")\n",
    "plt.title(\"Mini AlexNet w/Dropout:  Scree Plot FC2\")\n",
    "plt.show()"
   ]
  },
  {
   "cell_type": "code",
   "execution_count": null,
   "metadata": {},
   "outputs": [],
   "source": []
  },
  {
   "cell_type": "code",
   "execution_count": null,
   "metadata": {},
   "outputs": [],
   "source": []
  }
 ],
 "metadata": {
  "kernelspec": {
   "display_name": "Python 3",
   "language": "python",
   "name": "python3"
  },
  "language_info": {
   "codemirror_mode": {
    "name": "ipython",
    "version": 3
   },
   "file_extension": ".py",
   "mimetype": "text/x-python",
   "name": "python",
   "nbconvert_exporter": "python",
   "pygments_lexer": "ipython3",
   "version": "3.6.5"
  },
  "widgets": {
   "state": {
    "271fdd46fa0c4eaa89f7a84a15a0a2db": {
     "views": [
      {
       "cell_index": 35
      }
     ]
    },
    "369c1bda32bc48c0aa2727942b24eba2": {
     "views": [
      {
       "cell_index": 15
      }
     ]
    },
    "4542f54dbed344279350cea482f38de2": {
     "views": [
      {
       "cell_index": 30
      }
     ]
    },
    "61e07a27c7ef422cb14d5f8ce80608bb": {
     "views": [
      {
       "cell_index": 11
      }
     ]
    },
    "9033b3a9279a43bdb48bc4fb3977d6a6": {
     "views": [
      {
       "cell_index": 24
      }
     ]
    }
   },
   "version": "1.2.0"
  }
 },
 "nbformat": 4,
 "nbformat_minor": 2
}
