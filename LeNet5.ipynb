{
 "cells": [
  {
   "cell_type": "markdown",
   "metadata": {},
   "source": [
    "# LeNet 5 in Keras 2.0\n",
    "\n",
    "### Based on the Keras MNIST example\n",
    "\n",
    "https://github.com/keras-team/keras/blob/master/examples/mnist_cnn.py\n",
    "\n",
    "and\n",
    "\n",
    "\n",
    "and LeCun's website\n",
    "http://yann.lecun.com/exdb/lenet/\n",
    "\n",
    "see also:\n",
    "\n",
    "https://www.slideshare.net/SomnathBanerjee17/lenet-to-resnet\n",
    "\n",
    "http://slazebni.cs.illinois.edu/spring17/lec01_cnn_architectures.pdf"
   ]
  },
  {
   "cell_type": "code",
   "execution_count": 1,
   "metadata": {
    "ExecuteTime": {
     "end_time": "2018-08-28T21:53:39.038046Z",
     "start_time": "2018-08-28T21:53:37.057077Z"
    }
   },
   "outputs": [
    {
     "name": "stderr",
     "output_type": "stream",
     "text": [
      "/Users/charlesmartin14/anaconda3/lib/python3.6/importlib/_bootstrap.py:219: RuntimeWarning: compiletime version 3.5 of module 'tensorflow.python.framework.fast_tensor_util' does not match runtime version 3.6\n",
      "  return f(*args, **kwds)\n",
      "/Users/charlesmartin14/.local/lib/python3.6/site-packages/h5py/__init__.py:34: FutureWarning: Conversion of the second argument of issubdtype from `float` to `np.floating` is deprecated. In future, it will be treated as `np.float64 == np.dtype(float).type`.\n",
      "  from ._conv import register_converters as _register_converters\n",
      "Using TensorFlow backend.\n"
     ]
    }
   ],
   "source": [
    "import numpy as np\n",
    "import tensorflow as tf\n",
    "import keras\n",
    "\n",
    "from keras.datasets import mnist\n",
    "from keras.models import Sequential\n",
    "from keras.layers import Dense, Dropout, Flatten\n",
    "from keras.layers import Conv2D, MaxPooling2D\n",
    "from keras import backend as K\n",
    "\n",
    "from scipy.linalg import svd\n",
    "\n",
    "import import_ipynb\n",
    "\n",
    "import matplotlib\n",
    "import matplotlib.pyplot as plt\n",
    "%matplotlib inline"
   ]
  },
  {
   "cell_type": "code",
   "execution_count": 2,
   "metadata": {
    "ExecuteTime": {
     "end_time": "2018-08-28T21:53:39.665141Z",
     "start_time": "2018-08-28T21:53:39.039688Z"
    }
   },
   "outputs": [
    {
     "name": "stdout",
     "output_type": "stream",
     "text": [
      "importing notebook from RMT_Util.ipynb\n",
      "3.6.5 |Anaconda custom (64-bit)| (default, Apr 26 2018, 08:42:37) \n",
      "[GCC 4.2.1 Compatible Clang 4.0.1 (tags/RELEASE_401/final)]\n",
      "numpy version 1.14.2\n",
      "scipy version 1.0.1\n",
      "tensforflow version 1.5.0-dev20171116\n",
      "keras version 2.1.5\n",
      "sklearn version 0.19.1\n",
      "powerlaw version 1.4.3\n"
     ]
    }
   ],
   "source": [
    "import RMT_Util"
   ]
  },
  {
   "cell_type": "markdown",
   "metadata": {},
   "source": [
    "### Display"
   ]
  },
  {
   "cell_type": "code",
   "execution_count": 3,
   "metadata": {
    "ExecuteTime": {
     "end_time": "2018-08-28T21:53:39.670936Z",
     "start_time": "2018-08-28T21:53:39.667507Z"
    }
   },
   "outputs": [],
   "source": [
    "import matplotlib.pyplot as plt\n",
    "plt.rcParams['figure.figsize'] = [5,5]\n",
    "matplotlib.rcParams.update({'font.size': 16})"
   ]
  },
  {
   "cell_type": "markdown",
   "metadata": {},
   "source": [
    "### Params"
   ]
  },
  {
   "cell_type": "code",
   "execution_count": 4,
   "metadata": {
    "ExecuteTime": {
     "end_time": "2018-08-28T21:53:39.676072Z",
     "start_time": "2018-08-28T21:53:39.673041Z"
    }
   },
   "outputs": [],
   "source": [
    "batch_size = 128\n",
    "num_classes = 10\n",
    "epochs = 10"
   ]
  },
  {
   "cell_type": "markdown",
   "metadata": {},
   "source": [
    "### MNIST Data\n",
    "\n",
    "Recale from [0,255] to [0,1.0]\n",
    "\n",
    "### Differences from original LeNet:\n",
    "\n",
    "(32 x 32) now (28 x 28) => Conv2D sizes a bit up for grabs\n",
    "\n",
    "sigmoid activations\n",
    "\n"
   ]
  },
  {
   "cell_type": "code",
   "execution_count": 5,
   "metadata": {
    "ExecuteTime": {
     "end_time": "2018-08-28T21:53:40.186444Z",
     "start_time": "2018-08-28T21:53:39.678413Z"
    }
   },
   "outputs": [
    {
     "name": "stdout",
     "output_type": "stream",
     "text": [
      "x_train shape: (60000, 28, 28, 1)\n",
      "60000 train samples\n",
      "10000 test samples\n",
      "labels, categorical:  (60000, 10) (10000, 10)\n"
     ]
    }
   ],
   "source": [
    "# input image dimensions\n",
    "img_rows, img_cols = 28, 28\n",
    "\n",
    "# the data, split between train and test sets\n",
    "(x_train, y_train), (x_test, y_test) = mnist.load_data()\n",
    "\n",
    "if K.image_data_format() == 'channels_first':\n",
    "    x_train = x_train.reshape(x_train.shape[0], 1, img_rows, img_cols)\n",
    "    x_test = x_test.reshape(x_test.shape[0], 1, img_rows, img_cols)\n",
    "    input_shape = (1, img_rows, img_cols)\n",
    "else:\n",
    "    x_train = x_train.reshape(x_train.shape[0], img_rows, img_cols, 1)\n",
    "    x_test = x_test.reshape(x_test.shape[0], img_rows, img_cols, 1)\n",
    "    input_shape = (img_rows, img_cols, 1)\n",
    "\n",
    "x_train = x_train.astype('float32')\n",
    "x_test = x_test.astype('float32')\n",
    "x_train /= 255\n",
    "x_test /= 255\n",
    "print('x_train shape:', x_train.shape)\n",
    "print(x_train.shape[0], 'train samples')\n",
    "print(x_test.shape[0], 'test samples')\n",
    "\n",
    "y_train = keras.utils.to_categorical(y_train, num_classes)\n",
    "y_test = keras.utils.to_categorical(y_test, num_classes)\n",
    "print('labels, categorical: ',y_train.shape, y_test.shape)"
   ]
  },
  {
   "cell_type": "markdown",
   "metadata": {
    "ExecuteTime": {
     "end_time": "2018-04-27T17:38:00.490278Z",
     "start_time": "2018-04-27T17:38:00.487790Z"
    }
   },
   "source": [
    "## LeNet 5 Modern Version\n",
    "\n",
    "Uses ReLu , Dropout"
   ]
  },
  {
   "cell_type": "code",
   "execution_count": 6,
   "metadata": {
    "ExecuteTime": {
     "end_time": "2018-08-28T21:53:40.262387Z",
     "start_time": "2018-08-28T21:53:40.188571Z"
    }
   },
   "outputs": [
    {
     "name": "stderr",
     "output_type": "stream",
     "text": [
      "/Users/charlesmartin14/anaconda3/lib/python3.6/site-packages/ipykernel_launcher.py:4: UserWarning: Update your `Conv2D` call to the Keras 2 API: `Conv2D(20, kernel_size=(5, 5), activation=\"relu\", input_shape=(28, 28, 1..., padding=\"same\")`\n",
      "  after removing the cwd from sys.path.\n",
      "/Users/charlesmartin14/anaconda3/lib/python3.6/site-packages/ipykernel_launcher.py:8: UserWarning: Update your `Conv2D` call to the Keras 2 API: `Conv2D(50, kernel_size=(5, 5), activation=\"relu\", padding=\"same\")`\n",
      "  \n"
     ]
    }
   ],
   "source": [
    "model = Sequential()\n",
    "\n",
    " # first set of CONV => RELU => POOL\n",
    "model.add(Conv2D(20, kernel_size=(5,5),activation='relu',border_mode=\"same\",input_shape=input_shape))\n",
    "model.add(MaxPooling2D(pool_size=(2, 2)))\n",
    "\n",
    "# second set of CONV => RELU => POOL\n",
    "model.add(Conv2D(50, kernel_size=(5,5), activation='relu', border_mode=\"same\"))\n",
    "model.add(MaxPooling2D(pool_size=(2, 2)))\n",
    "      \n",
    "# set of FC => RELU layers\n",
    "model.add(Flatten())\n",
    "model.add(Dense(500, activation='relu'))\n",
    "\n",
    "model.add(Dense(num_classes, activation='softmax'))"
   ]
  },
  {
   "cell_type": "code",
   "execution_count": 7,
   "metadata": {
    "ExecuteTime": {
     "end_time": "2018-08-28T21:53:40.271407Z",
     "start_time": "2018-08-28T21:53:40.264273Z"
    }
   },
   "outputs": [
    {
     "name": "stdout",
     "output_type": "stream",
     "text": [
      "_________________________________________________________________\n",
      "Layer (type)                 Output Shape              Param #   \n",
      "=================================================================\n",
      "conv2d_1 (Conv2D)            (None, 28, 28, 20)        520       \n",
      "_________________________________________________________________\n",
      "max_pooling2d_1 (MaxPooling2 (None, 14, 14, 20)        0         \n",
      "_________________________________________________________________\n",
      "conv2d_2 (Conv2D)            (None, 14, 14, 50)        25050     \n",
      "_________________________________________________________________\n",
      "max_pooling2d_2 (MaxPooling2 (None, 7, 7, 50)          0         \n",
      "_________________________________________________________________\n",
      "flatten_1 (Flatten)          (None, 2450)              0         \n",
      "_________________________________________________________________\n",
      "dense_1 (Dense)              (None, 500)               1225500   \n",
      "_________________________________________________________________\n",
      "dense_2 (Dense)              (None, 10)                5010      \n",
      "=================================================================\n",
      "Total params: 1,256,080\n",
      "Trainable params: 1,256,080\n",
      "Non-trainable params: 0\n",
      "_________________________________________________________________\n"
     ]
    }
   ],
   "source": [
    "model.summary()"
   ]
  },
  {
   "cell_type": "code",
   "execution_count": 8,
   "metadata": {
    "ExecuteTime": {
     "end_time": "2018-08-28T21:53:40.301598Z",
     "start_time": "2018-08-28T21:53:40.273188Z"
    }
   },
   "outputs": [],
   "source": [
    "model.compile(loss=keras.losses.categorical_crossentropy,\n",
    "              optimizer=keras.optimizers.Adadelta(),\n",
    "              metrics=['accuracy'])\n"
   ]
  },
  {
   "cell_type": "code",
   "execution_count": 9,
   "metadata": {
    "ExecuteTime": {
     "end_time": "2018-08-28T22:09:00.881327Z",
     "start_time": "2018-08-28T21:53:40.303559Z"
    }
   },
   "outputs": [
    {
     "name": "stdout",
     "output_type": "stream",
     "text": [
      "Train on 60000 samples, validate on 10000 samples\n",
      "Epoch 1/10\n",
      "60000/60000 [==============================] - 84s 1ms/step - loss: 0.1872 - acc: 0.9425 - val_loss: 0.0389 - val_acc: 0.9879\n",
      "Epoch 2/10\n",
      "60000/60000 [==============================] - 82s 1ms/step - loss: 0.0476 - acc: 0.9855 - val_loss: 0.0291 - val_acc: 0.9900\n",
      "Epoch 3/10\n",
      "60000/60000 [==============================] - 90s 1ms/step - loss: 0.0309 - acc: 0.9905 - val_loss: 0.0331 - val_acc: 0.9879\n",
      "Epoch 4/10\n",
      "60000/60000 [==============================] - 100s 2ms/step - loss: 0.0220 - acc: 0.9933 - val_loss: 0.0244 - val_acc: 0.9914\n",
      "Epoch 5/10\n",
      "60000/60000 [==============================] - 97s 2ms/step - loss: 0.0166 - acc: 0.9950 - val_loss: 0.0252 - val_acc: 0.9915\n",
      "Epoch 6/10\n",
      "60000/60000 [==============================] - 100s 2ms/step - loss: 0.0128 - acc: 0.9958 - val_loss: 0.0260 - val_acc: 0.9915\n",
      "Epoch 7/10\n",
      "60000/60000 [==============================] - 88s 1ms/step - loss: 0.0095 - acc: 0.9971 - val_loss: 0.0320 - val_acc: 0.9912\n",
      "Epoch 8/10\n",
      "60000/60000 [==============================] - 93s 2ms/step - loss: 0.0077 - acc: 0.9976 - val_loss: 0.0242 - val_acc: 0.9927\n",
      "Epoch 9/10\n",
      "60000/60000 [==============================] - 94s 2ms/step - loss: 0.0061 - acc: 0.9982 - val_loss: 0.0266 - val_acc: 0.9923\n",
      "Epoch 10/10\n",
      "60000/60000 [==============================] - 89s 1ms/step - loss: 0.0042 - acc: 0.9987 - val_loss: 0.0271 - val_acc: 0.9926\n",
      "Test loss: 0.02714005845637721\n",
      "Test accuracy: 0.9926\n"
     ]
    }
   ],
   "source": [
    "model.fit(x_train, y_train,\n",
    "          batch_size=batch_size,\n",
    "          epochs=epochs,\n",
    "          verbose=1,\n",
    "          validation_data=(x_test, y_test))\n",
    "score = model.evaluate(x_test, y_test, verbose=0)\n",
    "print('Test loss:', score[0])\n",
    "print('Test accuracy:', score[1])"
   ]
  },
  {
   "cell_type": "markdown",
   "metadata": {},
   "source": [
    "### Marhcenko Pastur Fit"
   ]
  },
  {
   "cell_type": "code",
   "execution_count": 10,
   "metadata": {
    "ExecuteTime": {
     "end_time": "2018-08-28T22:09:01.317207Z",
     "start_time": "2018-08-28T22:09:00.886672Z"
    }
   },
   "outputs": [],
   "source": [
    "W = model.layers[5].get_weights()[0]\n",
    "u, sv, vh = svd(W)\n",
    "evals = sv*sv"
   ]
  },
  {
   "cell_type": "code",
   "execution_count": 11,
   "metadata": {
    "ExecuteTime": {
     "end_time": "2018-08-28T22:09:02.263807Z",
     "start_time": "2018-08-28T22:09:01.319557Z"
    }
   },
   "outputs": [
    {
     "name": "stderr",
     "output_type": "stream",
     "text": [
      "RMT_Util.ipynb:7: RuntimeWarning: divide by zero encountered in true_divide\n",
      "  \"## RMT Util\\n\",\n",
      "RMT_Util.ipynb:7: RuntimeWarning: invalid value encountered in sqrt\n",
      "  \"## RMT Util\\n\",\n"
     ]
    },
    {
     "name": "stdout",
     "output_type": "stream",
     "text": [
      "% spikes outside bulk 5.26\n",
      "% sigma 1.3020\n"
     ]
    },
    {
     "data": {
      "image/png": "[encoded data removed]",
      "text/plain": [
       "<Figure size 432x288 with 1 Axes>"
      ]
     },
     "metadata": {},
     "output_type": "display_data"
    }
   ],
   "source": [
    "Q = W.shape[0]/W.shape[1]\n",
    "num_spikes = 25\n",
    "sigma = RMT_Util.plot_ESD_and_fit(model=None, eigenvalues=evals, weightfile=None, \n",
    "                          layer=5,  Q=Q, num_spikes=num_spikes, sigma=None, color='blue')\n",
    "plt.title(r\"LeNet5:  $\\rho_{emp}(\\lambda)$ and MP fit\")\n",
    "plt.xlabel(\"Eigenvalues of $\\mathbf{X}= \\mathbf{W}^{T}\\mathbf{W}$\")\n",
    "plt.ylabel(r\"$\\rho_{emp}(\\lambda)$\")\n",
    "plt.legend()\n",
    "plt.savefig('img/lenet5.png', bbox_inches='tight')"
   ]
  },
  {
   "cell_type": "code",
   "execution_count": 12,
   "metadata": {
    "ExecuteTime": {
     "end_time": "2018-08-28T22:09:02.956945Z",
     "start_time": "2018-08-28T22:09:02.266879Z"
    }
   },
   "outputs": [
    {
     "name": "stderr",
     "output_type": "stream",
     "text": [
      "RMT_Util.ipynb:7: RuntimeWarning: divide by zero encountered in true_divide\n",
      "  \"## RMT Util\\n\",\n",
      "RMT_Util.ipynb:7: RuntimeWarning: invalid value encountered in sqrt\n",
      "  \"## RMT Util\\n\",\n"
     ]
    },
    {
     "name": "stdout",
     "output_type": "stream",
     "text": [
      "% spikes outside bulk 5.26\n",
      "% sigma 1.3020\n"
     ]
    },
    {
     "data": {
      "image/png": "[encoded data removed]",
      "text/plain": [
       "<Figure size 432x288 with 1 Axes>"
      ]
     },
     "metadata": {},
     "output_type": "display_data"
    }
   ],
   "source": [
    "Q = W.shape[0]/W.shape[1]\n",
    "num_spikes = 25\n",
    "sigma = RMT_Util.plot_ESD_and_fit(model=None, eigenvalues=evals, weightfile=None, \n",
    "                          layer=5,  Q=Q, num_spikes=num_spikes, sigma=None, color='blue')\n",
    "plt.title(r\"LeNet5: ... zoomed in\")\n",
    "plt.xlabel(\"Eigenvalues of $\\mathbf{X}= \\mathbf{W}^{T}\\mathbf{W}$\")\n",
    "plt.ylabel(r\"$\\rho_{emp}(\\lambda)$\")\n",
    "plt.xlim(0,5)\n",
    "plt.legend()\n",
    "plt.savefig('img/lenet5_zoomed.png', bbox_inches='tight')"
   ]
  },
  {
   "cell_type": "code",
   "execution_count": 28,
   "metadata": {
    "ExecuteTime": {
     "end_time": "2018-08-28T22:15:48.485567Z",
     "start_time": "2018-08-28T22:15:47.907623Z"
    }
   },
   "outputs": [
    {
     "name": "stderr",
     "output_type": "stream",
     "text": [
      "RMT_Util.ipynb:7: RuntimeWarning: divide by zero encountered in true_divide\n",
      "  \"## RMT Util\\n\",\n",
      "RMT_Util.ipynb:7: RuntimeWarning: invalid value encountered in sqrt\n",
      "  \"## RMT Util\\n\",\n"
     ]
    },
    {
     "name": "stdout",
     "output_type": "stream",
     "text": [
      "% spikes outside bulk 5.35\n",
      "% sigma 1.3000\n"
     ]
    },
    {
     "data": {
      "image/png": "[encoded data removed]",
      "text/plain": [
       "<Figure size 432x288 with 1 Axes>"
      ]
     },
     "metadata": {},
     "output_type": "display_data"
    }
   ],
   "source": [
    "Q = W.shape[0]/W.shape[1]\n",
    "num_spikes = 25\n",
    "sigma = RMT_Util.plot_ESD_and_fit(eigenvalues=evals[evals<10],\n",
    "                          layer=5,  Q=Q, num_spikes=num_spikes, sigma=1.3, color='blue')\n",
    "plt.title(r\"LeNet5: ... zoomed in*\")\n",
    "plt.xlabel(\"Eigenvalues of $\\mathbf{X}= \\mathbf{W}^{T}\\mathbf{W}$\")\n",
    "plt.ylabel(r\"$\\rho_{emp}(\\lambda)$\")\n",
    "plt.xlim(0,5)\n",
    "plt.legend()\n",
    "plt.savefig('img/lenet5_zoomed2.png', bbox_inches='tight')"
   ]
  },
  {
   "cell_type": "code",
   "execution_count": null,
   "metadata": {},
   "outputs": [],
   "source": []
  }
 ],
 "metadata": {
  "kernelspec": {
   "display_name": "Python 3",
   "language": "python",
   "name": "python3"
  },
  "language_info": {
   "codemirror_mode": {
    "name": "ipython",
    "version": 3
   },
   "file_extension": ".py",
   "mimetype": "text/x-python",
   "name": "python",
   "nbconvert_exporter": "python",
   "pygments_lexer": "ipython3",
   "version": "3.6.5"
  }
 },
 "nbformat": 4,
 "nbformat_minor": 2
}
