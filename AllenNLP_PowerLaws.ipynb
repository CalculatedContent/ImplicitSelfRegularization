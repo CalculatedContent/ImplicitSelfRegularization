{
 "cells": [
  {
   "cell_type": "markdown",
   "metadata": {},
   "source": [
    "# AllenNLP Power Law fits for Linear Layers\n",
    "\n",
    "https://allennlp.org/models\n",
    "\n",
    "\n",
    "Machine Comprehension\n",
    "\n",
    "MAC: https://s3-us-west-2.amazonaws.com/allennlp/models/ner-model-2018.04.26.tar.gz\n",
    "\n",
    "Textual Entailment\n",
    "\n",
    "ELMO: https://s3-us-west-2.amazonaws.com/allennlp/models/decomposable-attention-elmo-2018.02.19.tar.gza\n",
    "\n",
    "Semantic Role Labeling\n",
    "\n",
    "SRL:  https://s3-us-west-2.amazonaws.com/allennlp/models/srl-model-2018.05.25.tar.gz\n",
    "\n",
    "Coreference Resolution\n",
    "\n",
    "COREF: https://s3-us-west-2.amazonaws.com/allennlp/models/coref-model-2018.02.05.tar.gz\n",
    "\n",
    "Constituency Parsing\n",
    "\n",
    "CP: https://s3-us-west-2.amazonaws.com/allennlp/models/elmo-constituency-parser-2018.03.14.tar.gz\n",
    "\n",
    "Named Entity Recognition\n",
    "\n",
    "\n",
    "NER:  https://s3-us-west-2.amazonaws.com/allennlp/models/ner-model-2018.04.26.tar.gz"
   ]
  },
  {
   "cell_type": "code",
   "execution_count": 1,
   "metadata": {
    "ExecuteTime": {
     "end_time": "2018-09-14T15:56:20.572882Z",
     "start_time": "2018-09-14T15:56:19.775936Z"
    }
   },
   "outputs": [],
   "source": [
    "import numpy as np\n",
    "import scipy as sp\n",
    "\n",
    "import pandas as pd\n",
    "\n",
    "import matplotlib\n",
    "import numpy as np\n",
    "import matplotlib.pyplot as plt\n",
    "%matplotlib inline  "
   ]
  },
  {
   "cell_type": "code",
   "execution_count": 2,
   "metadata": {
    "ExecuteTime": {
     "end_time": "2018-09-14T15:56:22.624299Z",
     "start_time": "2018-09-14T15:56:20.574684Z"
    }
   },
   "outputs": [
    {
     "name": "stdout",
     "output_type": "stream",
     "text": [
      "importing notebook from RMT_Util.ipynb\n"
     ]
    },
    {
     "name": "stderr",
     "output_type": "stream",
     "text": [
      "/Users/charlesmartin14/anaconda3/lib/python3.6/importlib/_bootstrap.py:219: RuntimeWarning: compiletime version 3.5 of module 'tensorflow.python.framework.fast_tensor_util' does not match runtime version 3.6\n",
      "  return f(*args, **kwds)\n",
      "/Users/charlesmartin14/.local/lib/python3.6/site-packages/h5py/__init__.py:34: FutureWarning: Conversion of the second argument of issubdtype from `float` to `np.floating` is deprecated. In future, it will be treated as `np.float64 == np.dtype(float).type`.\n",
      "  from ._conv import register_converters as _register_converters\n",
      "Using TensorFlow backend.\n"
     ]
    },
    {
     "name": "stdout",
     "output_type": "stream",
     "text": [
      "3.6.5 |Anaconda custom (64-bit)| (default, Apr 26 2018, 08:42:37) \n",
      "[GCC 4.2.1 Compatible Clang 4.0.1 (tags/RELEASE_401/final)]\n",
      "numpy version 1.14.2\n",
      "scipy version 1.0.1\n",
      "tensforflow version 1.5.0-dev20171116\n",
      "keras version 2.1.5\n",
      "sklearn version 0.19.1\n",
      "powerlaw version 1.4.3\n"
     ]
    }
   ],
   "source": [
    "import import_ipynb\n",
    "import RMT_Util"
   ]
  },
  {
   "cell_type": "code",
   "execution_count": 3,
   "metadata": {
    "ExecuteTime": {
     "end_time": "2018-09-14T15:56:22.633972Z",
     "start_time": "2018-09-14T15:56:22.626258Z"
    }
   },
   "outputs": [
    {
     "data": {
      "text/plain": [
       "<Figure size 360x360 with 0 Axes>"
      ]
     },
     "metadata": {},
     "output_type": "display_data"
    }
   ],
   "source": [
    "import matplotlib.pyplot as plt\n",
    "plt.rcParams['figure.figsize'] = [5, 5]\n",
    "matplotlib.rcParams.update({'font.size': 16})\n",
    "plt.tight_layout()"
   ]
  },
  {
   "cell_type": "markdown",
   "metadata": {
    "ExecuteTime": {
     "end_time": "2018-09-13T18:43:42.458316Z",
     "start_time": "2018-09-13T18:43:42.451991Z"
    }
   },
   "source": [
    "### All data combined in allennlp.dat, with header"
   ]
  },
  {
   "cell_type": "code",
   "execution_count": 4,
   "metadata": {
    "ExecuteTime": {
     "end_time": "2018-09-14T15:56:22.639025Z",
     "start_time": "2018-09-14T15:56:22.636002Z"
    }
   },
   "outputs": [],
   "source": [
    "DATAFILE = \"allennlp.dat\""
   ]
  },
  {
   "cell_type": "code",
   "execution_count": 5,
   "metadata": {
    "ExecuteTime": {
     "end_time": "2018-09-14T15:56:22.760773Z",
     "start_time": "2018-09-14T15:56:22.641294Z"
    }
   },
   "outputs": [
    {
     "name": "stdout",
     "output_type": "stream",
     "text": [
      "im M N alpha D\r\n",
      "15 150 3680 2.523288659415278 0.02133396716074376\r\n",
      "16 150 150 2.425547955865323 0.044309254079609284\r\n",
      "25 150 1220 2.4103143801234803 0.024362782963757573\r\n",
      "26 150 150 2.5035594535119303 0.07763311933875983\r\n",
      "15 2048 4096 5.7029920495989135 0.028451610511374015\r\n",
      "16 2048 4096 5.234361514445998 0.04264377526480412\r\n",
      "17 512 2048 3.2759086154868178 0.04030197619663345\r\n",
      "20 512 16384 2.791929117673587 0.025378700331326387\r\n",
      "21 512 16384 3.0783106162008305 0.021362407748185208\r\n"
     ]
    }
   ],
   "source": [
    "!head $DATAFILE"
   ]
  },
  {
   "cell_type": "code",
   "execution_count": 6,
   "metadata": {
    "ExecuteTime": {
     "end_time": "2018-09-14T15:56:22.776726Z",
     "start_time": "2018-09-14T15:56:22.763088Z"
    }
   },
   "outputs": [
    {
     "data": {
      "text/plain": [
       "85"
      ]
     },
     "execution_count": 6,
     "metadata": {},
     "output_type": "execute_result"
    }
   ],
   "source": [
    "dat = pd.read_csv(DATAFILE, delimiter=\" \")\n",
    "len(dat)"
   ]
  },
  {
   "cell_type": "code",
   "execution_count": 14,
   "metadata": {
    "ExecuteTime": {
     "end_time": "2018-09-14T15:57:24.269824Z",
     "start_time": "2018-09-14T15:57:24.266599Z"
    }
   },
   "outputs": [],
   "source": [
    "alpha = dat['alpha'].values"
   ]
  },
  {
   "cell_type": "code",
   "execution_count": 15,
   "metadata": {
    "ExecuteTime": {
     "end_time": "2018-09-14T15:57:24.706544Z",
     "start_time": "2018-09-14T15:57:24.413126Z"
    }
   },
   "outputs": [
    {
     "data": {
      "image/png": "[encoded data removed]",
      "text/plain": [
       "<Figure size 360x360 with 1 Axes>"
      ]
     },
     "metadata": {},
     "output_type": "display_data"
    }
   ],
   "source": [
    "plt.hist(alpha,bins=100);\n",
    "plt.title(r\"AllenNLP Power Law fits: $p(\\lambda)\\sim\\lambda^{-\\alpha}$\")\n",
    "plt.xlabel(r\"$\\alpha$\")\n",
    "plt.savefig(\"img/allennlp.png\")"
   ]
  },
  {
   "cell_type": "code",
   "execution_count": 16,
   "metadata": {
    "ExecuteTime": {
     "end_time": "2018-09-14T15:57:24.712302Z",
     "start_time": "2018-09-14T15:57:24.708774Z"
    }
   },
   "outputs": [],
   "source": [
    "N =  dat['N'].values\n",
    "M =  dat['M'].values"
   ]
  },
  {
   "cell_type": "code",
   "execution_count": 17,
   "metadata": {
    "ExecuteTime": {
     "end_time": "2018-09-14T15:57:24.720642Z",
     "start_time": "2018-09-14T15:57:24.717981Z"
    }
   },
   "outputs": [],
   "source": [
    "Q=N/M"
   ]
  },
  {
   "cell_type": "code",
   "execution_count": 23,
   "metadata": {
    "ExecuteTime": {
     "end_time": "2018-09-14T15:58:19.154783Z",
     "start_time": "2018-09-14T15:58:19.030440Z"
    }
   },
   "outputs": [
    {
     "data": {
      "text/plain": [
       "Text(0.5,1,'AllenNLP: Q vs $\\\\alpha$')"
      ]
     },
     "execution_count": 23,
     "metadata": {},
     "output_type": "execute_result"
    },
    {
     "data": {
      "image/png": "[encoded data removed]",
      "text/plain": [
       "<Figure size 360x360 with 1 Axes>"
      ]
     },
     "metadata": {},
     "output_type": "display_data"
    }
   ],
   "source": [
    "plt.scatter(Q, alpha)\n",
    "plt.xlabel(\"Q\")\n",
    "plt.ylabel(r\"$\\alpha$\")\n",
    "plt.title(r\"AllenNLP: Q vs $\\alpha$\")"
   ]
  },
  {
   "cell_type": "code",
   "execution_count": 26,
   "metadata": {
    "ExecuteTime": {
     "end_time": "2018-09-14T15:59:24.926160Z",
     "start_time": "2018-09-14T15:59:24.922075Z"
    }
   },
   "outputs": [
    {
     "data": {
      "text/plain": [
       "0.21176470588235294"
      ]
     },
     "execution_count": 26,
     "metadata": {},
     "output_type": "execute_result"
    }
   ],
   "source": [
    "len(alpha[alpha>4])/len(alpha)"
   ]
  },
  {
   "cell_type": "code",
   "execution_count": null,
   "metadata": {},
   "outputs": [],
   "source": []
  }
 ],
 "metadata": {
  "kernelspec": {
   "display_name": "Python 3",
   "language": "python",
   "name": "python3"
  },
  "language_info": {
   "codemirror_mode": {
    "name": "ipython",
    "version": 3
   },
   "file_extension": ".py",
   "mimetype": "text/x-python",
   "name": "python",
   "nbconvert_exporter": "python",
   "pygments_lexer": "ipython3",
   "version": "3.6.5"
  }
 },
 "nbformat": 4,
 "nbformat_minor": 2
}
