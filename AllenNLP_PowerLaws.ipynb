{
 "cells": [
  {
   "cell_type": "markdown",
   "metadata": {},
   "source": [
    "# AllenNLP Power Law fits for Linear Layers\n",
    "\n",
    "https://allennlp.org/models\n",
    "\n",
    "\n",
    "Machine Comprehension\n",
    "\n",
    "MAC: https://s3-us-west-2.amazonaws.com/allennlp/models/ner-model-2018.04.26.tar.gz\n",
    "\n",
    "Textual Entailment\n",
    "\n",
    "ELMO: https://s3-us-west-2.amazonaws.com/allennlp/models/decomposable-attention-elmo-2018.02.19.tar.gza\n",
    "\n",
    "Semantic Role Labeling\n",
    "\n",
    "SRL:  https://s3-us-west-2.amazonaws.com/allennlp/models/srl-model-2018.05.25.tar.gz\n",
    "\n",
    "Coreference Resolution\n",
    "\n",
    "COREF: https://s3-us-west-2.amazonaws.com/allennlp/models/coref-model-2018.02.05.tar.gz\n",
    "\n",
    "Constituency Parsing\n",
    "\n",
    "CP: https://s3-us-west-2.amazonaws.com/allennlp/models/elmo-constituency-parser-2018.03.14.tar.gz\n",
    "\n",
    "Named Entity Recognition\n",
    "\n",
    "\n",
    "NER:  https://s3-us-west-2.amazonaws.com/allennlp/models/ner-model-2018.04.26.tar.gz"
   ]
  },
  {
   "cell_type": "code",
   "execution_count": 8,
   "metadata": {
    "ExecuteTime": {
     "end_time": "2018-09-13T19:33:09.641686Z",
     "start_time": "2018-09-13T19:33:08.854314Z"
    }
   },
   "outputs": [],
   "source": [
    "import numpy as np\n",
    "import scipy as sp\n",
    "\n",
    "import pandas as pd\n",
    "\n",
    "import matplotlib\n",
    "import numpy as np\n",
    "import matplotlib.pyplot as plt\n",
    "%matplotlib inline  "
   ]
  },
  {
   "cell_type": "code",
   "execution_count": 9,
   "metadata": {
    "ExecuteTime": {
     "end_time": "2018-09-13T19:33:11.962942Z",
     "start_time": "2018-09-13T19:33:09.643412Z"
    }
   },
   "outputs": [
    {
     "name": "stdout",
     "output_type": "stream",
     "text": [
      "importing notebook from RMT_Util.ipynb\n"
     ]
    },
    {
     "name": "stderr",
     "output_type": "stream",
     "text": [
      "/Users/charlesmartin14/anaconda3/lib/python3.6/importlib/_bootstrap.py:219: RuntimeWarning: compiletime version 3.5 of module 'tensorflow.python.framework.fast_tensor_util' does not match runtime version 3.6\n",
      "  return f(*args, **kwds)\n",
      "/Users/charlesmartin14/.local/lib/python3.6/site-packages/h5py/__init__.py:34: FutureWarning: Conversion of the second argument of issubdtype from `float` to `np.floating` is deprecated. In future, it will be treated as `np.float64 == np.dtype(float).type`.\n",
      "  from ._conv import register_converters as _register_converters\n",
      "Using TensorFlow backend.\n"
     ]
    },
    {
     "name": "stdout",
     "output_type": "stream",
     "text": [
      "3.6.5 |Anaconda custom (64-bit)| (default, Apr 26 2018, 08:42:37) \n",
      "[GCC 4.2.1 Compatible Clang 4.0.1 (tags/RELEASE_401/final)]\n",
      "numpy version 1.14.2\n",
      "scipy version 1.0.1\n",
      "tensforflow version 1.5.0-dev20171116\n",
      "keras version 2.1.5\n",
      "sklearn version 0.19.1\n",
      "powerlaw version 1.4.3\n"
     ]
    }
   ],
   "source": [
    "import import_ipynb\n",
    "import RMT_Util"
   ]
  },
  {
   "cell_type": "code",
   "execution_count": 10,
   "metadata": {
    "ExecuteTime": {
     "end_time": "2018-09-13T19:33:11.974260Z",
     "start_time": "2018-09-13T19:33:11.964611Z"
    }
   },
   "outputs": [
    {
     "data": {
      "text/plain": [
       "<Figure size 360x360 with 0 Axes>"
      ]
     },
     "metadata": {},
     "output_type": "display_data"
    }
   ],
   "source": [
    "import matplotlib.pyplot as plt\n",
    "plt.rcParams['figure.figsize'] = [5, 5]\n",
    "matplotlib.rcParams.update({'font.size': 16})\n",
    "plt.tight_layout()"
   ]
  },
  {
   "cell_type": "markdown",
   "metadata": {
    "ExecuteTime": {
     "end_time": "2018-09-13T18:43:42.458316Z",
     "start_time": "2018-09-13T18:43:42.451991Z"
    }
   },
   "source": [
    "### All data combined in allennlp.dat, with header"
   ]
  },
  {
   "cell_type": "code",
   "execution_count": 11,
   "metadata": {
    "ExecuteTime": {
     "end_time": "2018-09-13T19:33:11.979201Z",
     "start_time": "2018-09-13T19:33:11.976040Z"
    }
   },
   "outputs": [],
   "source": [
    "DATAFILE = \"allennlp.dat\""
   ]
  },
  {
   "cell_type": "code",
   "execution_count": 12,
   "metadata": {
    "ExecuteTime": {
     "end_time": "2018-09-13T19:33:12.110375Z",
     "start_time": "2018-09-13T19:33:11.982697Z"
    }
   },
   "outputs": [
    {
     "name": "stdout",
     "output_type": "stream",
     "text": [
      "im M N alpha D\r\n",
      "15 150 3680 2.523288659415278 0.02133396716074376\r\n",
      "16 150 150 2.425547955865323 0.044309254079609284\r\n",
      "25 150 1220 2.4103143801234803 0.024362782963757573\r\n",
      "26 150 150 2.5035594535119303 0.07763311933875983\r\n",
      "15 2048 4096 5.7029920495989135 0.028451610511374015\r\n",
      "16 2048 4096 5.234361514445998 0.04264377526480412\r\n",
      "17 512 2048 3.2759086154868178 0.04030197619663345\r\n",
      "20 512 16384 2.791929117673587 0.025378700331326387\r\n",
      "21 512 16384 3.0783106162008305 0.021362407748185208\r\n"
     ]
    }
   ],
   "source": [
    "!head $DATAFILE"
   ]
  },
  {
   "cell_type": "code",
   "execution_count": 17,
   "metadata": {
    "ExecuteTime": {
     "end_time": "2018-09-13T19:43:07.569552Z",
     "start_time": "2018-09-13T19:43:07.562693Z"
    }
   },
   "outputs": [
    {
     "data": {
      "text/plain": [
       "85"
      ]
     },
     "execution_count": 17,
     "metadata": {},
     "output_type": "execute_result"
    }
   ],
   "source": [
    "dat = pd.read_csv(DATAFILE, delimiter=\" \")\n",
    "len(dat)"
   ]
  },
  {
   "cell_type": "code",
   "execution_count": 14,
   "metadata": {
    "ExecuteTime": {
     "end_time": "2018-09-13T19:33:12.163212Z",
     "start_time": "2018-09-13T19:33:12.159615Z"
    }
   },
   "outputs": [],
   "source": [
    "evals = dat['alpha'].values"
   ]
  },
  {
   "cell_type": "code",
   "execution_count": 16,
   "metadata": {
    "ExecuteTime": {
     "end_time": "2018-09-13T19:33:30.499002Z",
     "start_time": "2018-09-13T19:33:30.199191Z"
    }
   },
   "outputs": [
    {
     "data": {
      "image/png": "[encoded data removed]",
      "text/plain": [
       "<Figure size 360x360 with 1 Axes>"
      ]
     },
     "metadata": {},
     "output_type": "display_data"
    }
   ],
   "source": [
    "plt.hist(evals,bins=100);\n",
    "plt.title(r\"AllenNLP Power Law fits: $p(\\lambda)\\sim\\lambda^{-\\alpha}$\")\n",
    "plt.xlabel(r\"$\\alpha$\")\n",
    "plt.savefig(\"img/allennlp.png\")"
   ]
  },
  {
   "cell_type": "code",
   "execution_count": null,
   "metadata": {},
   "outputs": [],
   "source": []
  }
 ],
 "metadata": {
  "kernelspec": {
   "display_name": "Python 3",
   "language": "python",
   "name": "python3"
  },
  "language_info": {
   "codemirror_mode": {
    "name": "ipython",
    "version": 3
   },
   "file_extension": ".py",
   "mimetype": "text/x-python",
   "name": "python",
   "nbconvert_exporter": "python",
   "pygments_lexer": "ipython3",
   "version": "3.6.5"
  }
 },
 "nbformat": 4,
 "nbformat_minor": 2
}
