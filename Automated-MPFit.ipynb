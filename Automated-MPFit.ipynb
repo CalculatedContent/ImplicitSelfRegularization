{
 "cells": [
  {
   "cell_type": "markdown",
   "metadata": {},
   "source": [
    "# Auto-fit MP using Kernel Density Estimator (KDE) and Optimizer (i.e LM Fit)\n",
    "\n",
    "We can get a simple MP fit for any empirical ESD $\\rho_{emp}(\\lambda)$ by \n",
    "\n",
    "1. representing the density with a Kernel Density Estimator (KDE), using a linear kernel and a small bandwitdh\n",
    "\n",
    "2. fitting the MP function automatically using the python LM alorithm, with $\\sigma$ as a parameter\n",
    "\n",
    "#### caveats\n",
    "\n",
    "- the KDE estimator underestimates the cusp region, which may be sharp for small $Q\\sim 1$, and/or for Power Laws.\n",
    "\n",
    "- for long tailed $\\rho_{emp}(\\lambda)$, you may need a good initial estimate of both $\\sigma$ and the  number of spikes, $\\lambda_{k}>\\lambda^{+}$\n",
    "\n",
    "#### extras\n",
    "\n",
    "- if we can auto-estimate \n",
    "\n",
    "\n",
    "#### Examples:  the AlexNet Fully Connected layers  (FC1, FC2, FC3)\n",
    "\n",
    "distributed with pyTorch\n",
    "\n",
    "We also compute the MP Soft Ranks $\\mathcal{R}_{mp}$, all of which are $<<1$\n",
    "\n"
   ]
  },
  {
   "cell_type": "code",
   "execution_count": 1,
   "metadata": {
    "ExecuteTime": {
     "end_time": "2018-08-26T06:11:42.114280Z",
     "start_time": "2018-08-26T06:11:40.164946Z"
    }
   },
   "outputs": [],
   "source": [
    "import torch\n",
    "import torchvision.models as models\n",
    "import torchvision.transforms as transforms\n",
    "import torch.nn as nn\n",
    "\n",
    "import numpy as np\n",
    "import scipy as sp\n",
    "from scipy.linalg import svd\n",
    "\n",
    "import powerlaw\n",
    "from scipy import optimize\n",
    "from sklearn.neighbors import KernelDensity\n",
    "\n",
    "import matplotlib\n",
    "import numpy as np\n",
    "import matplotlib.pyplot as plt\n",
    "%matplotlib inline  "
   ]
  },
  {
   "cell_type": "code",
   "execution_count": 2,
   "metadata": {
    "ExecuteTime": {
     "end_time": "2018-08-26T06:11:45.243329Z",
     "start_time": "2018-08-26T06:11:42.116474Z"
    },
    "scrolled": true
   },
   "outputs": [
    {
     "name": "stdout",
     "output_type": "stream",
     "text": [
      "importing notebook from RMT_Util.ipynb\n"
     ]
    },
    {
     "name": "stderr",
     "output_type": "stream",
     "text": [
      "/Users/charlesmartin14/anaconda3/lib/python3.6/importlib/_bootstrap.py:219: RuntimeWarning: compiletime version 3.5 of module 'tensorflow.python.framework.fast_tensor_util' does not match runtime version 3.6\n",
      "  return f(*args, **kwds)\n",
      "/Users/charlesmartin14/.local/lib/python3.6/site-packages/h5py/__init__.py:34: FutureWarning: Conversion of the second argument of issubdtype from `float` to `np.floating` is deprecated. In future, it will be treated as `np.float64 == np.dtype(float).type`.\n",
      "  from ._conv import register_converters as _register_converters\n",
      "Using TensorFlow backend.\n"
     ]
    },
    {
     "name": "stdout",
     "output_type": "stream",
     "text": [
      "3.6.5 |Anaconda custom (64-bit)| (default, Apr 26 2018, 08:42:37) \n",
      "[GCC 4.2.1 Compatible Clang 4.0.1 (tags/RELEASE_401/final)]\n",
      "numpy version 1.14.2\n",
      "scipy version 1.0.1\n",
      "tensforflow version 1.5.0-dev20171116\n",
      "keras version 2.1.5\n",
      "sklearn version 0.19.1\n",
      "powerlaw version 1.4.3\n"
     ]
    }
   ],
   "source": [
    "import import_ipynb\n",
    "import RMT_Util"
   ]
  },
  {
   "cell_type": "code",
   "execution_count": 3,
   "metadata": {
    "ExecuteTime": {
     "end_time": "2018-08-26T06:11:45.250876Z",
     "start_time": "2018-08-26T06:11:45.246264Z"
    }
   },
   "outputs": [],
   "source": [
    "import matplotlib.pyplot as plt\n",
    "plt.rcParams['figure.figsize'] = [5, 5]"
   ]
  },
  {
   "cell_type": "code",
   "execution_count": 4,
   "metadata": {
    "ExecuteTime": {
     "end_time": "2018-08-26T06:11:47.525310Z",
     "start_time": "2018-08-26T06:11:45.254722Z"
    }
   },
   "outputs": [],
   "source": [
    "alexnet = models.alexnet(pretrained=True)"
   ]
  },
  {
   "cell_type": "markdown",
   "metadata": {},
   "source": [
    "### Marchenko Pastur Fit"
   ]
  },
  {
   "cell_type": "markdown",
   "metadata": {},
   "source": [
    "## FC1 =  Layer 17\n",
    "\n",
    "Recall in the paper, we zoomed in A LOT to fit this, but only dropped 3% of the eigenvalues\n",
    "\n",
    "Because this pretty long tailed compared to MP\n"
   ]
  },
  {
   "cell_type": "code",
   "execution_count": 8,
   "metadata": {
    "ExecuteTime": {
     "end_time": "2018-08-26T06:21:18.040909Z",
     "start_time": "2018-08-26T06:17:06.486030Z"
    }
   },
   "outputs": [],
   "source": [
    "this_im = 17\n",
    "\n",
    "for im, m in enumerate(alexnet.modules()):\n",
    "    if im == this_im:\n",
    "        W17 = np.array(m.weight.data.clone().cpu()) \n",
    "        Q = RMT_Util.get_Q(W17)\n",
    "        \n",
    "        u, sv, sh = svd(W17)\n",
    "        \n",
    "        evals17 = sv*sv\n",
    "        break"
   ]
  },
  {
   "cell_type": "code",
   "execution_count": 7,
   "metadata": {
    "ExecuteTime": {
     "end_time": "2018-08-26T06:16:42.276393Z",
     "start_time": "2018-08-26T06:16:41.683945Z"
    }
   },
   "outputs": [
    {
     "data": {
      "text/plain": [
       "Text(0.5,0,'Eigenvalues ($\\\\lambda$) of $\\\\mathbf{X}=\\\\mathbf{W}_{FC1}^{T}\\\\mathbf{W}_{FC1}$')"
      ]
     },
     "execution_count": 7,
     "metadata": {},
     "output_type": "execute_result"
    },
    {
     "data": {
      "image/png": "[encoded data removed]",
      "text/plain": [
       "<Figure size 360x360 with 1 Axes>"
      ]
     },
     "metadata": {},
     "output_type": "display_data"
    }
   ],
   "source": [
    "plt.hist(evals17, bins=200,  alpha=0.25, color='blue', density=True);\n",
    "plt.title(r\"Empirical Spectral Density $\\rho(\\lambda)$ for AlexNet, FC1\")\n",
    "plt.ylabel(r\"Spectral Density\")\n",
    "plt.xlabel(r\"Eigenvalues ($\\lambda$) of $\\mathbf{X}=\\mathbf{W}_{FC1}^{T}\\mathbf{W}_{FC1}$\")"
   ]
  },
  {
   "cell_type": "markdown",
   "metadata": {
    "ExecuteTime": {
     "end_time": "2018-08-11T03:10:48.674479Z",
     "start_time": "2018-08-11T03:10:48.671978Z"
    }
   },
   "source": [
    "### AutoMated Fit w/KDE\n",
    "\n",
    "Note:  We fit  $\\rho_{emp}(\\lambda)$ assuming 0 spikes, but zoom in by removing 5 spikes. this does not change the fit, it just makes the histogram more fine grained and easier to compare\n",
    "\n",
    "#### Color code\n",
    "\n",
    "- <font color='purple'>Histogram</font>\n",
    "\n",
    "- <font color='red'>MP fit</font>\n",
    "\n",
    "- <font color='blue'>KDE fit</font>\n",
    "\n",
    "\n"
   ]
  },
  {
   "cell_type": "markdown",
   "metadata": {},
   "source": [
    "### MP fit with spikes=0   vs KDE fit with spikes=0\n",
    "\n",
    "We compare how each model fits the cusp region (as shown with our histogram)\n",
    "\n",
    "- The <font color='red'>MP Fit</font> over estimates the <font color='purple'>empirical density </font>near the cusp\n",
    "\n",
    "- The <font color='blue'>KDE Fit</font> treats the <font color='purple'>the cusp </font> well, but the density is very coarse "
   ]
  },
  {
   "cell_type": "code",
   "execution_count": 9,
   "metadata": {
    "ExecuteTime": {
     "end_time": "2018-08-26T06:21:19.084812Z",
     "start_time": "2018-08-26T06:21:18.047467Z"
    }
   },
   "outputs": [
    {
     "name": "stdout",
     "output_type": "stream",
     "text": [
      "% spikes outside bulk 7.90\n",
      "% sigma 0.7069\n"
     ]
    },
    {
     "name": "stderr",
     "output_type": "stream",
     "text": [
      "RMT_Util.ipynb:7: RuntimeWarning: divide by zero encountered in true_divide\n",
      "  \"## RMT Utilility Library\"\n",
      "RMT_Util.ipynb:7: RuntimeWarning: invalid value encountered in sqrt\n",
      "  \"## RMT Utilility Library\"\n"
     ]
    },
    {
     "data": {
      "text/plain": [
       "[<matplotlib.lines.Line2D at 0x13c1afa20>]"
      ]
     },
     "execution_count": 9,
     "metadata": {},
     "output_type": "execute_result"
    },
    {
     "data": {
      "image/png": "[encoded data removed]",
      "text/plain": [
       "<Figure size 360x360 with 1 Axes>"
      ]
     },
     "metadata": {},
     "output_type": "display_data"
    }
   ],
   "source": [
    "evals = evals17\n",
    "RMT_Util.plot_ESD_and_fit(model=None, eigenvalues=evals, Q=Q, num_spikes=300)\n",
    "plt.xlim(0,5)\n",
    "\n",
    "kde = KernelDensity(kernel='linear', bandwidth=0.25).fit(evals.reshape(-1, 1))\n",
    "X_plot = np.linspace(0, np.max(evals), 1000)[:, np.newaxis]\n",
    "log_dens = kde.score_samples(X_plot)\n",
    "plt.plot(X_plot[:, 0], np.exp(log_dens))"
   ]
  },
  {
   "cell_type": "markdown",
   "metadata": {
    "ExecuteTime": {
     "end_time": "2018-08-26T06:26:28.239554Z",
     "start_time": "2018-08-26T06:26:28.236065Z"
    }
   },
   "source": [
    "### MP fit with spikes=5   vs KDE fit with spikes=5\n",
    "\n",
    "We compare how each model fits the cusp region (as shown with our histogram)\n",
    "\n",
    "\n",
    "- The <font color='red'>MP Fit</font> over estimates the <font color='purple'>empirical density </font>near the cusp\n",
    "\n",
    "- The <font color='blue'>KDE Fit</font> over estimates <font color='purple'>the cusp </font>"
   ]
  },
  {
   "cell_type": "code",
   "execution_count": 10,
   "metadata": {
    "ExecuteTime": {
     "end_time": "2018-08-26T06:21:20.189512Z",
     "start_time": "2018-08-26T06:21:19.091525Z"
    }
   },
   "outputs": [
    {
     "name": "stdout",
     "output_type": "stream",
     "text": [
      "% spikes outside bulk 21.26\n",
      "% sigma 0.5358\n"
     ]
    },
    {
     "name": "stderr",
     "output_type": "stream",
     "text": [
      "RMT_Util.ipynb:7: RuntimeWarning: divide by zero encountered in true_divide\n",
      "  \"## RMT Utilility Library\"\n",
      "RMT_Util.ipynb:7: RuntimeWarning: invalid value encountered in sqrt\n",
      "  \"## RMT Utilility Library\"\n"
     ]
    },
    {
     "data": {
      "text/plain": [
       "[<matplotlib.lines.Line2D at 0x13c69c4a8>]"
      ]
     },
     "execution_count": 10,
     "metadata": {},
     "output_type": "execute_result"
    },
    {
     "data": {
      "image/png": "[encoded data removed]",
      "text/plain": [
       "<Figure size 360x360 with 1 Axes>"
      ]
     },
     "metadata": {},
     "output_type": "display_data"
    }
   ],
   "source": [
    "evals = evals17[evals17<5]\n",
    "sigma = RMT_Util.plot_ESD_and_fit(model=None, eigenvalues=evals, Q=Q, num_spikes=700)\n",
    "plt.title(\"ALexNet FC1 KDE (blue) vs MP (red)\")\n",
    "\n",
    "kde = KernelDensity(kernel='linear', bandwidth=0.25).fit(evals.reshape(-1, 1))\n",
    "X_plot = np.linspace(0, np.max(evals), 1000)[:, np.newaxis]\n",
    "log_dens = kde.score_samples(X_plot)\n",
    "plt.plot(X_plot[:, 0], np.exp(log_dens))"
   ]
  },
  {
   "cell_type": "markdown",
   "metadata": {},
   "source": [
    "### MP fit with spikes=100 , using the $\\sigma=0.6852 $ taken from the better KDE fit (0 spikes)\n",
    "\n",
    "Now the <font color='red'>MP fit</font> near the cusp is very good, \n",
    "\n",
    "but empirical density $\\rho_{emp}(\\lambda)$ near the bulk edge is missing mass\n",
    "\n",
    "The implies FC1 is in the at least in the _Bulk Decay_ phase, or even _Heavy Tailed_"
   ]
  },
  {
   "cell_type": "code",
   "execution_count": 14,
   "metadata": {
    "ExecuteTime": {
     "end_time": "2018-08-26T06:31:54.208288Z",
     "start_time": "2018-08-26T06:31:52.164462Z"
    }
   },
   "outputs": [
    {
     "name": "stderr",
     "output_type": "stream",
     "text": [
      "RMT_Util.ipynb:6: RuntimeWarning: divide by zero encountered in true_divide\n",
      "  \"source\": [\n",
      "RMT_Util.ipynb:6: RuntimeWarning: invalid value encountered in sqrt\n",
      "  \"source\": [\n"
     ]
    },
    {
     "name": "stdout",
     "output_type": "stream",
     "text": [
      "% spikes outside bulk 2.57\n",
      "% sigma 0.6852\n"
     ]
    },
    {
     "name": "stderr",
     "output_type": "stream",
     "text": [
      "RMT_Util.ipynb:7: RuntimeWarning: divide by zero encountered in true_divide\n",
      "  \"## RMT Utilility Library\"\n",
      "RMT_Util.ipynb:7: RuntimeWarning: invalid value encountered in sqrt\n",
      "  \"## RMT Utilility Library\"\n"
     ]
    },
    {
     "data": {
      "text/plain": [
       "Text(0.5,1,'MP fit to FC1, sigma auto-fit')"
      ]
     },
     "execution_count": 14,
     "metadata": {},
     "output_type": "execute_result"
    },
    {
     "data": {
      "image/png": "[encoded data removed]",
      "text/plain": [
       "<Figure size 360x360 with 1 Axes>"
      ]
     },
     "metadata": {},
     "output_type": "display_data"
    }
   ],
   "source": [
    "s1 = RMT_Util.fit_mp(evals17, Q)\n",
    "RMT_Util.plot_ESD_and_fit(model=None, eigenvalues=evals, Q=Q, num_spikes=100, sigma=s1)\n",
    "plt.title(\"MP fit to FC1, sigma auto-fit\")"
   ]
  },
  {
   "cell_type": "markdown",
   "metadata": {
    "ExecuteTime": {
     "end_time": "2018-08-26T06:34:01.931822Z",
     "start_time": "2018-08-26T06:34:01.928431Z"
    }
   },
   "source": [
    "### _Bulk Decay_ or _Heavy Tailed_  ?\n",
    "\n",
    "$\\mathcal{R}_{mp}\\sim 0$ suggesting FC1 is _Heavy Tailed_ \n",
    "\n"
   ]
  },
  {
   "cell_type": "code",
   "execution_count": 12,
   "metadata": {
    "ExecuteTime": {
     "end_time": "2018-08-26T06:21:23.680044Z",
     "start_time": "2018-08-26T06:21:23.664400Z"
    }
   },
   "outputs": [
    {
     "data": {
      "text/plain": [
       "0.03698510432618632"
      ]
     },
     "execution_count": 12,
     "metadata": {},
     "output_type": "execute_result"
    }
   ],
   "source": [
    "RMT_Util.calc_mp_soft_rank(evals=evals17,Q=Q, sigma=s1)"
   ]
  },
  {
   "cell_type": "markdown",
   "metadata": {},
   "source": [
    "### Auto-Mated MP fits using the KDE estimator, 0 spikes, for FC2 and FC3\n",
    "\n",
    "- determine MP $\\sigma$ from KDE fit and plot, overlay on Histogram\n",
    "\n",
    "- also calculate $\\mathcal{R}_{mp}$, which are $\\sim 0$ \n",
    "\n"
   ]
  },
  {
   "cell_type": "code",
   "execution_count": 25,
   "metadata": {
    "ExecuteTime": {
     "end_time": "2018-08-26T06:42:53.038327Z",
     "start_time": "2018-08-26T06:39:40.371891Z"
    }
   },
   "outputs": [],
   "source": [
    "this_im = 20\n",
    "\n",
    "for im, m in enumerate(alexnet.modules()):\n",
    "    if im == this_im:\n",
    "        W20 = np.array(m.weight.data.clone().cpu()) \n",
    "        Q = RMT_Util.get_Q(W20)\n",
    "        \n",
    "        u, sv, sh = svd(W20)\n",
    "        \n",
    "        evals20 = sv*sv\n",
    "        break"
   ]
  },
  {
   "cell_type": "code",
   "execution_count": 26,
   "metadata": {
    "ExecuteTime": {
     "end_time": "2018-08-26T06:42:54.830852Z",
     "start_time": "2018-08-26T06:42:53.040724Z"
    }
   },
   "outputs": [
    {
     "name": "stderr",
     "output_type": "stream",
     "text": [
      "RMT_Util.ipynb:6: RuntimeWarning: divide by zero encountered in true_divide\n",
      "  \"source\": [\n",
      "RMT_Util.ipynb:6: RuntimeWarning: invalid value encountered in sqrt\n",
      "  \"source\": [\n",
      "RMT_Util.ipynb:6: RuntimeWarning: invalid value encountered in multiply\n",
      "  \"source\": [\n"
     ]
    },
    {
     "name": "stdout",
     "output_type": "stream",
     "text": [
      "% spikes outside bulk 2.57\n",
      "% sigma 0.7045\n"
     ]
    },
    {
     "name": "stderr",
     "output_type": "stream",
     "text": [
      "RMT_Util.ipynb:7: RuntimeWarning: divide by zero encountered in true_divide\n",
      "  \"## RMT Utilility Library\"\n",
      "RMT_Util.ipynb:7: RuntimeWarning: invalid value encountered in multiply\n",
      "  \"## RMT Utilility Library\"\n"
     ]
    },
    {
     "data": {
      "text/plain": [
       "(0, 5)"
      ]
     },
     "execution_count": 26,
     "metadata": {},
     "output_type": "execute_result"
    },
    {
     "data": {
      "image/png": "[encoded data removed]",
      "text/plain": [
       "<Figure size 360x360 with 1 Axes>"
      ]
     },
     "metadata": {},
     "output_type": "display_data"
    }
   ],
   "source": [
    "s1 = RMT_Util.fit_mp(evals20, Q)\n",
    "RMT_Util.plot_ESD_and_fit(model=None, eigenvalues=evals, Q=Q, num_spikes=100)\n",
    "plt.xlim(0,5)"
   ]
  },
  {
   "cell_type": "code",
   "execution_count": 27,
   "metadata": {
    "ExecuteTime": {
     "end_time": "2018-08-26T06:42:55.213895Z",
     "start_time": "2018-08-26T06:42:54.833664Z"
    }
   },
   "outputs": [
    {
     "name": "stdout",
     "output_type": "stream",
     "text": [
      "% spikes outside bulk 0.00\n",
      "% sigma 0.5159\n"
     ]
    },
    {
     "name": "stderr",
     "output_type": "stream",
     "text": [
      "RMT_Util.ipynb:7: RuntimeWarning: divide by zero encountered in true_divide\n",
      "  \"## RMT Utilility Library\"\n",
      "RMT_Util.ipynb:7: RuntimeWarning: invalid value encountered in sqrt\n",
      "  \"## RMT Utilility Library\"\n",
      "RMT_Util.ipynb:7: RuntimeWarning: invalid value encountered in multiply\n",
      "  \"## RMT Utilility Library\"\n"
     ]
    },
    {
     "data": {
      "text/plain": [
       "(0, 4)"
      ]
     },
     "execution_count": 27,
     "metadata": {},
     "output_type": "execute_result"
    },
    {
     "data": {
      "image/png": "[encoded data removed]",
      "text/plain": [
       "<Figure size 360x360 with 1 Axes>"
      ]
     },
     "metadata": {},
     "output_type": "display_data"
    }
   ],
   "source": [
    "RMT_Util.plot_ESD_and_fit(model=None, eigenvalues=evals, Q=Q, sigma=s1)\n",
    "plt.xlim(0,5)\n",
    "plt.ylim(0,4)"
   ]
  },
  {
   "cell_type": "code",
   "execution_count": 28,
   "metadata": {
    "ExecuteTime": {
     "end_time": "2018-08-26T06:42:55.223517Z",
     "start_time": "2018-08-26T06:42:55.216881Z"
    }
   },
   "outputs": [
    {
     "data": {
      "text/plain": [
       "0.012307957559773031"
      ]
     },
     "execution_count": 28,
     "metadata": {},
     "output_type": "execute_result"
    }
   ],
   "source": [
    "RMT_Util.calc_mp_soft_rank(evals=evals20,Q=Q, sigma=s1)"
   ]
  },
  {
   "cell_type": "markdown",
   "metadata": {},
   "source": [
    "### FC3"
   ]
  },
  {
   "cell_type": "code",
   "execution_count": 29,
   "metadata": {
    "ExecuteTime": {
     "end_time": "2018-08-26T06:43:04.086704Z",
     "start_time": "2018-08-26T06:42:55.226700Z"
    }
   },
   "outputs": [],
   "source": [
    "this_im = 22\n",
    "\n",
    "for im, m in enumerate(alexnet.modules()):\n",
    "    if im == this_im:\n",
    "        W22 = np.array(m.weight.data.clone().cpu()) \n",
    "        Q = RMT_Util.get_Q(W22)\n",
    "        \n",
    "        u, sv, sh = svd(W22)\n",
    "        \n",
    "        evals22 = sv*sv\n",
    "        break"
   ]
  },
  {
   "cell_type": "code",
   "execution_count": 30,
   "metadata": {
    "ExecuteTime": {
     "end_time": "2018-08-26T06:43:04.509598Z",
     "start_time": "2018-08-26T06:43:04.093479Z"
    }
   },
   "outputs": [
    {
     "name": "stdout",
     "output_type": "stream",
     "text": [
      "% spikes outside bulk 11.11\n",
      "% sigma 1.1007\n"
     ]
    },
    {
     "name": "stderr",
     "output_type": "stream",
     "text": [
      "RMT_Util.ipynb:7: RuntimeWarning: divide by zero encountered in true_divide\n",
      "  \"## RMT Utilility Library\"\n",
      "RMT_Util.ipynb:7: RuntimeWarning: invalid value encountered in sqrt\n",
      "  \"## RMT Utilility Library\"\n"
     ]
    },
    {
     "data": {
      "text/plain": [
       "(0, 10)"
      ]
     },
     "execution_count": 30,
     "metadata": {},
     "output_type": "execute_result"
    },
    {
     "data": {
      "image/png": "[encoded data removed]",
      "text/plain": [
       "<Figure size 360x360 with 1 Axes>"
      ]
     },
     "metadata": {},
     "output_type": "display_data"
    }
   ],
   "source": [
    "RMT_Util.plot_ESD_and_fit(model=None, eigenvalues=evals22, Q=Q, num_spikes=100)\n",
    "plt.xlim(0,10)"
   ]
  },
  {
   "cell_type": "code",
   "execution_count": 31,
   "metadata": {
    "ExecuteTime": {
     "end_time": "2018-08-26T06:43:06.935709Z",
     "start_time": "2018-08-26T06:43:04.513512Z"
    }
   },
   "outputs": [
    {
     "name": "stderr",
     "output_type": "stream",
     "text": [
      "RMT_Util.ipynb:6: RuntimeWarning: divide by zero encountered in true_divide\n",
      "  \"source\": [\n",
      "RMT_Util.ipynb:6: RuntimeWarning: invalid value encountered in sqrt\n",
      "  \"source\": [\n",
      "RMT_Util.ipynb:7: RuntimeWarning: divide by zero encountered in true_divide\n",
      "  \"## RMT Utilility Library\"\n",
      "RMT_Util.ipynb:7: RuntimeWarning: invalid value encountered in sqrt\n",
      "  \"## RMT Utilility Library\"\n"
     ]
    },
    {
     "name": "stdout",
     "output_type": "stream",
     "text": [
      "% spikes outside bulk 0.00\n",
      "% sigma 0.9866\n"
     ]
    },
    {
     "data": {
      "image/png": "[encoded data removed]",
      "text/plain": [
       "<Figure size 360x360 with 1 Axes>"
      ]
     },
     "metadata": {},
     "output_type": "display_data"
    }
   ],
   "source": [
    "s1 = RMT_Util.fit_mp(evals22, Q)\n",
    "RMT_Util.plot_ESD_and_fit(model=None, eigenvalues=evals22, Q=Q, sigma=s1)\n",
    "plt.xlim(0,10)\n",
    "plt.hist(evals22,bins=1000, density=True);"
   ]
  },
  {
   "cell_type": "code",
   "execution_count": 32,
   "metadata": {
    "ExecuteTime": {
     "end_time": "2018-08-26T06:43:06.944400Z",
     "start_time": "2018-08-26T06:43:06.938289Z"
    }
   },
   "outputs": [
    {
     "data": {
      "text/plain": [
       "0.048742436345163495"
      ]
     },
     "execution_count": 32,
     "metadata": {},
     "output_type": "execute_result"
    }
   ],
   "source": [
    "RMT_Util.calc_mp_soft_rank(evals=evals22,Q=Q, sigma=s1)"
   ]
  },
  {
   "cell_type": "code",
   "execution_count": null,
   "metadata": {},
   "outputs": [],
   "source": []
  },
  {
   "cell_type": "code",
   "execution_count": null,
   "metadata": {},
   "outputs": [],
   "source": []
  },
  {
   "cell_type": "code",
   "execution_count": null,
   "metadata": {},
   "outputs": [],
   "source": []
  }
 ],
 "metadata": {
  "kernelspec": {
   "display_name": "Python 3",
   "language": "python",
   "name": "python3"
  },
  "language_info": {
   "codemirror_mode": {
    "name": "ipython",
    "version": 3
   },
   "file_extension": ".py",
   "mimetype": "text/x-python",
   "name": "python",
   "nbconvert_exporter": "python",
   "pygments_lexer": "ipython3",
   "version": "3.6.5"
  }
 },
 "nbformat": 4,
 "nbformat_minor": 2
}
