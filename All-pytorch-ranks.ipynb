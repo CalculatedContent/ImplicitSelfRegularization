{
 "cells": [
  {
   "cell_type": "markdown",
   "metadata": {},
   "source": [
    "# Ranks in Pytorch\n",
    "\n",
    "We compute the Tanks Connected (FC) layers for all Pytorch pretrained models\n",
    "\n",
    "### Not used in Paper\n",
    "\n",
    "http://pytorch.org/docs/master/torchvision/models.html\n",
    "\n"
   ]
  },
  {
   "cell_type": "code",
   "execution_count": 1,
   "metadata": {
    "ExecuteTime": {
     "end_time": "2018-09-01T02:55:17.341813Z",
     "start_time": "2018-09-01T02:55:15.428817Z"
    }
   },
   "outputs": [],
   "source": [
    "import torch\n",
    "import torchvision.models as models\n",
    "import torchvision.transforms as transforms\n",
    "import torch.nn as nn\n",
    "\n",
    "import numpy as np\n",
    "import powerlaw\n",
    "\n",
    "import sklearn\n",
    "from sklearn.decomposition import TruncatedSVD\n",
    "\n",
    "import matplotlib\n",
    "import numpy as np\n",
    "import matplotlib.pyplot as plt\n",
    "%matplotlib inline  "
   ]
  },
  {
   "cell_type": "code",
   "execution_count": 2,
   "metadata": {
    "ExecuteTime": {
     "end_time": "2018-09-01T02:55:19.471884Z",
     "start_time": "2018-09-01T02:55:17.343557Z"
    }
   },
   "outputs": [
    {
     "name": "stdout",
     "output_type": "stream",
     "text": [
      "importing Jupyter notebook from RMT_Util.ipynb\n"
     ]
    },
    {
     "name": "stderr",
     "output_type": "stream",
     "text": [
      "/Users/charleshmartin/anaconda3/lib/python3.6/importlib/_bootstrap.py:219: RuntimeWarning: compiletime version 3.5 of module 'tensorflow.python.framework.fast_tensor_util' does not match runtime version 3.6\n",
      "  return f(*args, **kwds)\n",
      "/Users/charleshmartin/anaconda3/lib/python3.6/site-packages/h5py/__init__.py:36: FutureWarning: Conversion of the second argument of issubdtype from `float` to `np.floating` is deprecated. In future, it will be treated as `np.float64 == np.dtype(float).type`.\n",
      "  from ._conv import register_converters as _register_converters\n"
     ]
    },
    {
     "name": "stdout",
     "output_type": "stream",
     "text": [
      "3.6.5 |Anaconda, Inc.| (default, Apr 26 2018, 08:42:37) \n",
      "[GCC 4.2.1 Compatible Clang 4.0.1 (tags/RELEASE_401/final)]\n",
      "numpy version 1.14.3\n",
      "scipy version 1.1.0\n",
      "tensforflow version 1.10.1\n",
      "keras version 2.2.2\n",
      "sklearn version 0.19.1\n",
      "powerlaw version 1.4.3\n"
     ]
    },
    {
     "name": "stderr",
     "output_type": "stream",
     "text": [
      "Using TensorFlow backend.\n"
     ]
    }
   ],
   "source": [
    "import import_ipynb\n",
    "import RMT_Util"
   ]
  },
  {
   "cell_type": "code",
   "execution_count": 3,
   "metadata": {
    "ExecuteTime": {
     "end_time": "2018-09-01T02:56:18.790173Z",
     "start_time": "2018-09-01T02:56:18.786159Z"
    }
   },
   "outputs": [],
   "source": [
    "plt.rcParams['figure.figsize'] = [5,5]\n",
    "matplotlib.rcParams.update({'font.size': 16})"
   ]
  },
  {
   "cell_type": "code",
   "execution_count": 21,
   "metadata": {
    "ExecuteTime": {
     "end_time": "2018-09-01T04:28:11.312838Z",
     "start_time": "2018-09-01T04:28:11.266897Z"
    }
   },
   "outputs": [],
   "source": [
    "def analyze_model(model, plot=True):\n",
    "    min_svs = []\n",
    "    rank_loss = []\n",
    "    alphas = []\n",
    "    Qs = []\n",
    "    \n",
    "    pretrained_model = model(pretrained=True)\n",
    "    \n",
    "    model_name = model.__name__\n",
    "    model_name = model_name.replace(\"_\",' ')\n",
    "    \n",
    "    for im, m in enumerate(pretrained_model.modules()):\n",
    "        if isinstance(m, nn.Linear):\n",
    "                \n",
    "            W = np.array(m.weight.data.clone().cpu())\n",
    "            M, N = np.min(W.shape), np.max(W.shape)\n",
    "            Q=N/M \n",
    "            \n",
    "            sv, _ = RMT_Util.singular_spectrum(W)\n",
    "            smallest_sv = np.min(sv)\n",
    "            min_svs.append(smallest_sv)\n",
    "            \n",
    "            rank = np.linalg.matrix_rank(W)\n",
    "            rank_loss.append(M-rank)\n",
    "            \n",
    "            evals = sv*sv\n",
    "            fit = powerlaw.Fit(evals, xmax=np.max(evals), verbose=False)  \n",
    "            alpha = fit.alpha\n",
    "            alphas.append(alpha)\n",
    "            \n",
    "            Qs.append(Q)\n",
    "                \n",
    "    return min_svs, rank_loss, alphas, Qs\n"
   ]
  },
  {
   "cell_type": "markdown",
   "metadata": {},
   "source": [
    "### Generate data for Table"
   ]
  },
  {
   "cell_type": "code",
   "execution_count": 23,
   "metadata": {
    "ExecuteTime": {
     "end_time": "2018-09-01T05:59:42.774681Z",
     "start_time": "2018-09-01T04:36:17.919948Z"
    },
    "scrolled": true
   },
   "outputs": [
    {
     "name": "stderr",
     "output_type": "stream",
     "text": [
      "/Users/charleshmartin/anaconda3/lib/python3.6/site-packages/powerlaw.py:700: RuntimeWarning: divide by zero encountered in true_divide\n",
      "  (Theoretical_CDF * (1 - Theoretical_CDF))\n",
      "/Users/charleshmartin/anaconda3/lib/python3.6/site-packages/powerlaw.py:700: RuntimeWarning: invalid value encountered in true_divide\n",
      "  (Theoretical_CDF * (1 - Theoretical_CDF))\n",
      "/Users/charleshmartin/anaconda3/lib/python3.6/site-packages/torchvision/models/densenet.py:212: UserWarning: nn.init.kaiming_normal is now deprecated in favor of nn.init.kaiming_normal_.\n",
      "  nn.init.kaiming_normal(m.weight.data)\n",
      "/Users/charleshmartin/anaconda3/lib/python3.6/site-packages/torchvision/models/squeezenet.py:94: UserWarning: nn.init.kaiming_uniform is now deprecated in favor of nn.init.kaiming_uniform_.\n",
      "  init.kaiming_uniform(m.weight.data)\n",
      "/Users/charleshmartin/anaconda3/lib/python3.6/site-packages/torchvision/models/squeezenet.py:92: UserWarning: nn.init.normal is now deprecated in favor of nn.init.normal_.\n",
      "  init.normal(m.weight.data, mean=0.0, std=0.01)\n"
     ]
    }
   ],
   "source": [
    "all_min_svs = []\n",
    "all_rank_loss = []\n",
    "all_alphas = []\n",
    "all_Qs = []\n",
    "for model in [models.alexnet, \n",
    "              models.densenet121, models.densenet161, models.densenet169, models.densenet201, \n",
    "              models.inception_v3,\n",
    "              models.resnet101, models.resnet152, models.resnet18, models.resnet34, models.resnet50, \n",
    "              models.squeezenet1_0, models.squeezenet1_1,\n",
    "              models.vgg11, models.vgg11_bn,\n",
    "              models.vgg16, models.vgg16_bn,\n",
    "              models.vgg19, models.vgg19_bn ]:\n",
    "    #print(model)\n",
    "    min_svs, rank_loss, alphas, Qs  = analyze_model(model, plot=False)\n",
    "    all_min_svs.extend(min_svs)\n",
    "    all_rank_loss.extend(rank_loss)\n",
    "    all_alphas.extend(alphas)\n",
    "    all_Qs.extend(Qs)\n"
   ]
  },
  {
   "cell_type": "code",
   "execution_count": 24,
   "metadata": {
    "ExecuteTime": {
     "end_time": "2018-09-01T16:14:19.348999Z",
     "start_time": "2018-09-01T16:14:19.175575Z"
    }
   },
   "outputs": [
    {
     "data": {
      "text/plain": [
       "Text(0.5,1,'PyTorch models (FC layers):\\n mininum singular values')"
      ]
     },
     "execution_count": 24,
     "metadata": {},
     "output_type": "execute_result"
    },
    {
     "data": {
      "image/png": "[encoded data removed]",
      "text/plain": [
       "<Figure size 360x360 with 1 Axes>"
      ]
     },
     "metadata": {},
     "output_type": "display_data"
    }
   ],
   "source": [
    "plt.hist(all_min_svs,bins=32);\n",
    "plt.title(\"PyTorch models (FC layers):\\n mininum singular values\")"
   ]
  },
  {
   "cell_type": "code",
   "execution_count": 25,
   "metadata": {},
   "outputs": [
    {
     "data": {
      "text/plain": [
       "array([4.1325119e-08, 2.5648581e-07, 3.2874706e-01], dtype=float32)"
      ]
     },
     "execution_count": 25,
     "metadata": {},
     "output_type": "execute_result"
    }
   ],
   "source": [
    "np.sort(min_svs)"
   ]
  },
  {
   "cell_type": "code",
   "execution_count": 26,
   "metadata": {},
   "outputs": [
    {
     "data": {
      "image/png": "[encoded data removed]",
      "text/plain": [
       "<Figure size 360x360 with 1 Axes>"
      ]
     },
     "metadata": {},
     "output_type": "display_data"
    }
   ],
   "source": [
    "plt.hist(all_rank_loss,bins=32);\n"
   ]
  },
  {
   "cell_type": "code",
   "execution_count": 27,
   "metadata": {},
   "outputs": [
    {
     "data": {
      "text/plain": [
       "Text(0.5,0,'power law exponent $\\\\alpha$ ')"
      ]
     },
     "execution_count": 27,
     "metadata": {},
     "output_type": "execute_result"
    },
    {
     "data": {
      "image/png": "[encoded data removed]",
      "text/plain": [
       "<Figure size 360x360 with 1 Axes>"
      ]
     },
     "metadata": {},
     "output_type": "display_data"
    }
   ],
   "source": [
    "plt.scatter(all_alphas,all_min_svs)\n",
    "plt.title(\"Potential Rank collapse\\nin PyTorch models\")\n",
    "plt.ylabel(r\"min signular value $\\nu_{min}$ \")\n",
    "plt.xlabel(r\"power law exponent $\\alpha$ \")"
   ]
  },
  {
   "cell_type": "code",
   "execution_count": 28,
   "metadata": {},
   "outputs": [
    {
     "data": {
      "text/plain": [
       "Text(0.5,0,'aspect ratio Q ')"
      ]
     },
     "execution_count": 28,
     "metadata": {},
     "output_type": "execute_result"
    },
    {
     "data": {
      "image/png": "[encoded data removed]",
      "text/plain": [
       "<Figure size 360x360 with 1 Axes>"
      ]
     },
     "metadata": {},
     "output_type": "display_data"
    }
   ],
   "source": [
    "plt.scatter(all_Qs,all_min_svs)\n",
    "plt.title(\"Potential Rank collapse\\nin PyTorch models\")\n",
    "plt.ylabel(r\"min signular value $\\nu_{min}$ \")\n",
    "plt.xlabel(r\"aspect ratio Q \")"
   ]
  },
  {
   "cell_type": "markdown",
   "metadata": {},
   "source": [
    "### Remove Q=1 cases"
   ]
  },
  {
   "cell_type": "code",
   "execution_count": 54,
   "metadata": {},
   "outputs": [],
   "source": [
    "Qs = np.array(all_Qs)\n",
    "ids = np.where(Qs>1.1)"
   ]
  },
  {
   "cell_type": "code",
   "execution_count": 55,
   "metadata": {},
   "outputs": [
    {
     "data": {
      "text/plain": [
       "array([8.0224544e-02, 4.4048291e-01, 6.8470186e-08, 3.7860233e-04,\n",
       "       7.1013503e-04, 1.1697846e-01, 2.1774562e-01, 1.3959405e-01,\n",
       "       1.3610721e-01, 3.0425721e-01, 3.1849155e-01, 1.4262442e-01,\n",
       "       2.6473540e-01, 3.6889172e-01, 4.5462674e-08, 3.6713219e-01,\n",
       "       2.5747973e-01, 3.4988722e-01, 4.8474369e-08, 3.4187394e-01,\n",
       "       2.5341010e-01, 3.4379667e-01, 4.1325119e-08, 3.2874706e-01],\n",
       "      dtype=float32)"
      ]
     },
     "execution_count": 55,
     "metadata": {},
     "output_type": "execute_result"
    }
   ],
   "source": [
    "SVs = np.array(all_min_svs)\n",
    "SVs[ids]"
   ]
  },
  {
   "cell_type": "code",
   "execution_count": 58,
   "metadata": {},
   "outputs": [
    {
     "data": {
      "text/plain": [
       "Text(0.5,0,'aspect ratio Q ')"
      ]
     },
     "execution_count": 58,
     "metadata": {},
     "output_type": "execute_result"
    },
    {
     "data": {
      "image/png": "[encoded data removed]",
      "text/plain": [
       "<Figure size 360x360 with 1 Axes>"
      ]
     },
     "metadata": {},
     "output_type": "display_data"
    }
   ],
   "source": [
    "plt.scatter(Qs[ids],SVs[ids])\n",
    "plt.title(\"Potential Rank collapse\\nin PyTorch models, Q>1\")\n",
    "plt.ylabel(r\"min signular value $\\nu_{min}$ \")\n",
    "plt.xlabel(r\"aspect ratio Q \")"
   ]
  },
  {
   "cell_type": "code",
   "execution_count": 63,
   "metadata": {},
   "outputs": [
    {
     "data": {
      "text/plain": [
       "24"
      ]
     },
     "execution_count": 63,
     "metadata": {},
     "output_type": "execute_result"
    }
   ],
   "source": [
    "len(Qs[ids])"
   ]
  },
  {
   "cell_type": "code",
   "execution_count": null,
   "metadata": {},
   "outputs": [],
   "source": []
  }
 ],
 "metadata": {
  "kernelspec": {
   "display_name": "Python 3",
   "language": "python",
   "name": "python3"
  },
  "language_info": {
   "codemirror_mode": {
    "name": "ipython",
    "version": 3
   },
   "file_extension": ".py",
   "mimetype": "text/x-python",
   "name": "python",
   "nbconvert_exporter": "python",
   "pygments_lexer": "ipython3",
   "version": "3.6.5"
  }
 },
 "nbformat": 4,
 "nbformat_minor": 2
}
