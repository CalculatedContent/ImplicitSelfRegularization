{
 "cells": [
  {
   "cell_type": "markdown",
   "metadata": {},
   "source": [
    "### Simplest Example of a Gaussian Random Matrix\n",
    "\n",
    "\n",
    "#### Gaussian Random Matrices, $W$, which are $N\\times M$, $Q=N/M$\n",
    "\n",
    "\n",
    "\n",
    "$$P(W_{i,j})\\sim N(0,1)$$\n",
    "\n",
    "#### Corelation Matrix\n",
    "$$\\mathbf{X}=\\mathbf{W}^{T}\\mathbf{W}$$\n",
    "\n",
    "#### Eigenvalues\n",
    "\n",
    "$$\\mathbf{X}\\mathbf{v}=\\lambda\\mathbf{v}$$\n",
    "\n",
    "#### Empirical Spectral Density (ESD)\n",
    "A histogram of the Eigenvalues\n",
    "$$\\rho(\\lambda)=\\dfrac{1}{N}\\sum_{i=1}^{M}\\left(\\lambda-\\lambda_{i}\\right)$$\n"
   ]
  },
  {
   "cell_type": "code",
   "execution_count": 1,
   "metadata": {
    "ExecuteTime": {
     "end_time": "2018-09-11T18:39:32.388709Z",
     "start_time": "2018-09-11T18:39:29.781373Z"
    }
   },
   "outputs": [
    {
     "name": "stderr",
     "output_type": "stream",
     "text": [
      "/Users/charlesmartin14/anaconda3/lib/python3.6/importlib/_bootstrap.py:219: RuntimeWarning: compiletime version 3.5 of module 'tensorflow.python.framework.fast_tensor_util' does not match runtime version 3.6\n",
      "  return f(*args, **kwds)\n",
      "/Users/charlesmartin14/.local/lib/python3.6/site-packages/h5py/__init__.py:34: FutureWarning: Conversion of the second argument of issubdtype from `float` to `np.floating` is deprecated. In future, it will be treated as `np.float64 == np.dtype(float).type`.\n",
      "  from ._conv import register_converters as _register_converters\n"
     ]
    },
    {
     "name": "stdout",
     "output_type": "stream",
     "text": [
      "0.19.1\n"
     ]
    }
   ],
   "source": [
    "import numpy as np\n",
    "import tensorflow as tf\n",
    "import pickle, time\n",
    "from copy import deepcopy\n",
    "from shutil import copy\n",
    "from tqdm import tqdm_notebook as tqdm\n",
    "import pandas as pd\n",
    "\n",
    "import matplotlib\n",
    "import matplotlib.pyplot as plt\n",
    "%matplotlib inline\n",
    "\n",
    "import sklearn\n",
    "from sklearn.random_projection import sparse_random_matrix\n",
    "print(sklearn.__version__)"
   ]
  },
  {
   "cell_type": "code",
   "execution_count": 54,
   "metadata": {
    "ExecuteTime": {
     "end_time": "2018-09-11T19:13:35.571649Z",
     "start_time": "2018-09-11T19:13:35.564601Z"
    }
   },
   "outputs": [
    {
     "data": {
      "text/plain": [
       "<Figure size 720x720 with 0 Axes>"
      ]
     },
     "metadata": {},
     "output_type": "display_data"
    }
   ],
   "source": [
    "plt.rcParams['figure.figsize'] = [10, 10]\n",
    "matplotlib.rcParams.update({'font.size': 16})\n",
    "plt.tight_layout(pad=0.4, w_pad=0.5, h_pad=1.0)"
   ]
  },
  {
   "cell_type": "code",
   "execution_count": 66,
   "metadata": {
    "ExecuteTime": {
     "end_time": "2018-09-11T19:17:38.500783Z",
     "start_time": "2018-09-11T19:17:33.903631Z"
    }
   },
   "outputs": [
    {
     "data": {
      "image/png": "[encoded data removed]",
      "text/plain": [
       "<Figure size 720x720 with 4 Axes>"
      ]
     },
     "metadata": {},
     "output_type": "display_data"
    }
   ],
   "source": [
    "f, axes = plt.subplots(2,2)\n",
    "\n",
    "for idx in range(4):\n",
    "    \n",
    "    Q=1+idx*2\n",
    "    iay = idx % 2\n",
    "    iax = int(idx / 2)\n",
    "    subplot = axes[iax,iay]\n",
    "    \n",
    "    M = 1000\n",
    "    N = int(Q*M)\n",
    "    W = np.random.normal(0,1,size=(N,M))\n",
    "    X = (1/N)*np.dot(W.T,W)\n",
    "    evals = np.linalg.eigvals(X)\n",
    "    subplot.hist(evals, bins=100,density=True);\n",
    "    subplot.set_title(r\"$\\rho(\\lambda)$, Q={}\".format(Q))\n",
    "    #subplot.set_xlabel(\"Eigenvalues of $X=W^{T}.W$\")\n",
    "plt.savefig(\"img/gaussian_random_mats.png\")"
   ]
  },
  {
   "cell_type": "code",
   "execution_count": null,
   "metadata": {},
   "outputs": [],
   "source": []
  }
 ],
 "metadata": {
  "kernelspec": {
   "display_name": "Python 3",
   "language": "python",
   "name": "python3"
  },
  "language_info": {
   "codemirror_mode": {
    "name": "ipython",
    "version": 3
   },
   "file_extension": ".py",
   "mimetype": "text/x-python",
   "name": "python",
   "nbconvert_exporter": "python",
   "pygments_lexer": "ipython3",
   "version": "3.6.5"
  }
 },
 "nbformat": 4,
 "nbformat_minor": 2
}
