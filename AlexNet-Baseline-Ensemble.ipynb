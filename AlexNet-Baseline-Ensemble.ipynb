{
 "cells": [
  {
   "cell_type": "markdown",
   "metadata": {},
   "source": [
    "## Mini AlexNet Baseline Results\n",
    "\n",
    "Expects:\n",
    "\n",
    "- weight.h5 files in ./weights \n",
    "- CIFAR10 data in ../data/cifar-10-batches-py/\n",
    "\n",
    "and while the keras code needs py27, the notebooks can use py3.6 "
   ]
  },
  {
   "cell_type": "code",
   "execution_count": 1,
   "metadata": {
    "ExecuteTime": {
     "end_time": "2018-09-02T20:22:41.839852Z",
     "start_time": "2018-09-02T20:22:39.160291Z"
    }
   },
   "outputs": [
    {
     "name": "stderr",
     "output_type": "stream",
     "text": [
      "/Users/charleshmartin/anaconda3/lib/python3.6/importlib/_bootstrap.py:219: RuntimeWarning: compiletime version 3.5 of module 'tensorflow.python.framework.fast_tensor_util' does not match runtime version 3.6\n",
      "  return f(*args, **kwds)\n",
      "/Users/charleshmartin/anaconda3/lib/python3.6/site-packages/h5py/__init__.py:36: FutureWarning: Conversion of the second argument of issubdtype from `float` to `np.floating` is deprecated. In future, it will be treated as `np.float64 == np.dtype(float).type`.\n",
      "  from ._conv import register_converters as _register_converters\n",
      "Using TensorFlow backend.\n"
     ]
    },
    {
     "name": "stdout",
     "output_type": "stream",
     "text": [
      "importing Jupyter notebook from RMT_Util.ipynb\n",
      "3.6.5 |Anaconda, Inc.| (default, Apr 26 2018, 08:42:37) \n",
      "[GCC 4.2.1 Compatible Clang 4.0.1 (tags/RELEASE_401/final)]\n",
      "numpy version 1.14.3\n",
      "scipy version 1.1.0\n",
      "tensforflow version 1.10.1\n",
      "keras version 2.2.2\n",
      "sklearn version 0.19.1\n",
      "powerlaw version 1.4.3\n",
      "3.6.5 |Anaconda, Inc.| (default, Apr 26 2018, 08:42:37) \n",
      "[GCC 4.2.1 Compatible Clang 4.0.1 (tags/RELEASE_401/final)]\n",
      "numpy version 1.14.3\n",
      "tensforflow version 1.10.1\n",
      "keras version 2.2.2\n",
      "sklearn version 0.19.1\n"
     ]
    }
   ],
   "source": [
    "import sys\n",
    "import pickle, time\n",
    "from copy import deepcopy\n",
    "from shutil import copy\n",
    "from tqdm import tqdm_notebook as tqdm\n",
    "\n",
    "import numpy as np\n",
    "import scipy as sp\n",
    "import tensorflow as tf\n",
    "import keras\n",
    "from keras.models import Sequential\n",
    "from keras.layers import Dense, Flatten\n",
    "from keras.layers.convolutional import Conv2D, MaxPooling2D\n",
    "from keras.layers.normalization import BatchNormalization\n",
    "from keras.callbacks import TensorBoard, EarlyStopping\n",
    "from keras.optimizers import SGD\n",
    "from keras.initializers import Constant\n",
    "import keras.backend as K\n",
    "\n",
    "import import_ipynb\n",
    "import RMT_Util\n",
    "\n",
    "import matplotlib\n",
    "import matplotlib.pyplot as plt\n",
    "%matplotlib inline\n",
    "\n",
    "import sklearn\n",
    "from sklearn.decomposition import TruncatedSVD\n",
    "from sklearn.random_projection import sparse_random_matrix\n",
    "\n",
    "print(sys.version)\n",
    "print(\"numpy version {}\".format(np.__version__))\n",
    "print(\"tensforflow version {}\".format(tf.__version__))\n",
    "print(\"keras version {}\".format(keras.__version__))\n",
    "print(\"sklearn version {}\".format(sklearn.__version__))"
   ]
  },
  {
   "cell_type": "code",
   "execution_count": 2,
   "metadata": {
    "ExecuteTime": {
     "end_time": "2018-09-02T20:22:41.848890Z",
     "start_time": "2018-09-02T20:22:41.841555Z"
    }
   },
   "outputs": [
    {
     "data": {
      "text/plain": [
       "<Figure size 360x360 with 0 Axes>"
      ]
     },
     "metadata": {},
     "output_type": "display_data"
    }
   ],
   "source": [
    "plt.rcParams['figure.figsize'] = [5, 5]\n",
    "matplotlib.rcParams.update({'font.size': 16})\n",
    "plt.tight_layout()"
   ]
  },
  {
   "cell_type": "code",
   "execution_count": 3,
   "metadata": {},
   "outputs": [],
   "source": [
    "DataDIR = \"/Users/charleshmartin/work/DLGeneralization/data\"\n",
    "ModelDIR = \"/Users/charleshmartin/work-tmp/MiniAlexNet\"\n",
    "WeightsDIR = ModelDIR+\"/weights\"\n",
    "ResultsDIR = ModelDIR+\"/results\""
   ]
  },
  {
   "cell_type": "code",
   "execution_count": 4,
   "metadata": {
    "ExecuteTime": {
     "end_time": "2018-09-02T20:22:41.923817Z",
     "start_time": "2018-09-02T20:22:41.850574Z"
    }
   },
   "outputs": [],
   "source": [
    "BASELINE_outfile = ResultsDIR+'/cifar10_alexnet.out'\n",
    "\n",
    "BASELINE_final_weightfile = WeightsDIR+'/alexnet.b16.final.h5'\n",
    "BASELINE_per_epoch_weightfile = WeightsDIR+\"/alexnet.b16.e{}.h5\"\n",
    "NUM_BASELINE_EPOCHS = 100\n",
    "\n",
    "BASELINE_init_weighfile = WeightsDIR+'/alexnet.b16.e0.h5'\n",
    "\n",
    "REGULARIZED_final_weightfile = WeightsDIR+'/alexnet.b16.wd.final.h5'\n",
    "RANDOMIZED_final_weightfile = WeightsDIR+'/alexnet.b16.rand100.final.h5'\n",
    "\n",
    "CIFAR_TEST_BATCH = DataDIR+\"/cifar-10-batches-py/test_batch\"\n",
    "\n",
    "                                          \n",
    "BASELINE_ensemble_weightfile = WeightsDIR+\"/alexnet.b16.id{}.final.h5\"\n",
    "NUM_ENSEMBLE_RUNS = 10 \n",
    "\n",
    "N7, M7 = 4096, 384\n",
    "N8, M8 = 384, 192\n",
    "\n",
    "Q7 = float(N7)/float(M7)\n",
    "Q8 = float(N8)/float(M8)\n",
    "\n",
    "Q_FC1 = Q7\n",
    "Q_FC2 = Q8\n",
    "\n",
    "LAYER_FC1 = 7\n",
    "LAYER_FC2 = 8\n",
    "\n",
    "ENTROPY_FILE = \"img/mini-alexnet-baseline-entropy-per-epoch.png\"\n",
    "RANK_FILE = \"img/mini-alexnet-baseline-rank-per-epoch.png\"\n",
    "\n",
    "ACCURACY_FILE = \"img/mini-alexnet-baseline-accuracy-per-epoch.png\"\n",
    "\n",
    "FC1_ESD_PER_EPOCH_FILE = \"img/mini-alexnet-fc1-esd-per-epoch.png\"\n",
    "FC2_ESD_PER_EPOCH_FILE = \"img/mini-alexnet-fc2-esd-per-epoch.png\"\n",
    "\n",
    "ALPHA = 0.25 # not passing through\n",
    "\n",
    "XLABEL_FC1 = r\"Eigenvalues $\\lambda$ of $\\mathbf{X}=\\mathbf{W}_{FC1}^{T}\\mathbf{W}_{FC1}$\"\n",
    "XLABEL_FC2 = r\"Eigenvalues $\\lambda$ of $\\mathbf{X}=\\mathbf{W}_{FC2}^{T}\\mathbf{W}_{FC2}$\"\n",
    "\n",
    "XLABEL = r\"Eigenvalues $\\lambda$ of $\\mathbf{X}=\\mathbf{W}}^{T}\\mathbf{W}$\"\n",
    "YLABEL = \"Spectral Density\"\n",
    "\n",
    "ESD_FC1_0_EPOCH = \"img/mini-alexnet-fc1-esd-epoch-0.png\"\n",
    "ESD_FC2_0_EPOCH = \"img/mini-alexnet-fc2-esd-epoch-0.png\"\n",
    "ESD_FC1_FINAL_EPOCH = \"img/mini-alexnet-fc1-esd-epoch-final.png\"\n",
    "ESD_FC2_FINAL_EPOCH = \"img/mini-alexnet-fc2-esd-epoch-final.png\"\n",
    "\n",
    "\n",
    "ENSEMBLE_ESD_FC1_EPOCH0 = \"img/mini-alexnet-fc1-ensemble-esd-epoch0.png\"\n",
    "ENSEMBLE_ESD_FC2_EPOCH0 = \"img/mini-alexnet-fc2-ensemble-esd-epoch0.png\"\n",
    "\n",
    "ENSEMBLE_ESD_FC1_FINAL_EPOCH_9SPIKES = \"img/mini-alexnet-fc1-ensemble-esd-final-9spikes.png\"\n",
    "ENSEMBLE_ESD_FC1_FINAL_EPOCH_18SPIKES = \"img/mini-alexnet-fc1-ensemble-esd-final-18spikes.png\"\n",
    "\n",
    "ENSEMBLE_ESD_FC2_FINAL_EPOCH_9SPIKES = \"img/mini-alexnet-fc2-ensemble-esd-final-9spikes.png\"\n",
    "ENSEMBLE_ESD_FC2_FINAL_EPOCH_18SPIKES = \"img/mini-alexnet-fc2-ensemble-esd-final-18spikes.png\"\n",
    "\n",
    "ENSEMBLE_ESD_FC1_FINAL_RAND = \"img/mini-alexnet-fc1-ensemble-esd-rand-final.png\"\n",
    "ENSEMBLE_ESD_FC2_FINAL_EPOCH = \"img/mini-alexnet-fc2-ensemble-esd-rand-final.png\"\n",
    "\n",
    "ENSEMBLE_FC1_3COLOR_ESD = \"img/mini-alexnet-fc1-ensemble-3color-ssd.png\"\n",
    "\n",
    "ENSEMBLE_FC1_LOCS =  \"img/mini-alexnet-fc1-ensemble-locs.png\"\n",
    "ENSEMBLE_FC1_PARTS =  \"img/mini-alexnet-fc1-ensemble-parts.png\"\n",
    "ENSEMBLE_FC1_VENTROPIES =  \"img/mini-alexnet-fc1-ensemble-ventropies.png\"\n"
   ]
  },
  {
   "cell_type": "code",
   "execution_count": 5,
   "metadata": {
    "ExecuteTime": {
     "end_time": "2018-09-02T20:22:42.178810Z",
     "start_time": "2018-09-02T20:22:41.925688Z"
    }
   },
   "outputs": [
    {
     "name": "stdout",
     "output_type": "stream",
     "text": [
      "ln: alexnet.b16.e100.h5: File exists\n",
      "lrwxr-xr-x  1 charleshmartin  staff  20 Sep 19 21:37 \u001b[35malexnet.b16.e100.h5\u001b[m\u001b[m -> alexnet.b16.final.h5\n"
     ]
    }
   ],
   "source": [
    "!cd $WeightsDIR; ln -s alexnet.b16.final.h5 alexnet.b16.e100.h5\n",
    "!cd $WeightsDIR; ls -l alexnet.b16.e100.h5"
   ]
  },
  {
   "cell_type": "markdown",
   "metadata": {},
   "source": [
    "## Baseline "
   ]
  },
  {
   "cell_type": "code",
   "execution_count": 6,
   "metadata": {
    "ExecuteTime": {
     "end_time": "2018-09-02T20:22:42.585381Z",
     "start_time": "2018-09-02T20:22:42.181317Z"
    }
   },
   "outputs": [],
   "source": [
    "model = RMT_Util.Alexnet_Model()\n",
    "sess = tf.InteractiveSession()\n",
    "sess.run(tf.global_variables_initializer())"
   ]
  },
  {
   "cell_type": "code",
   "execution_count": 7,
   "metadata": {
    "ExecuteTime": {
     "end_time": "2018-09-02T20:22:42.666533Z",
     "start_time": "2018-09-02T20:22:42.587639Z"
    }
   },
   "outputs": [
    {
     "name": "stdout",
     "output_type": "stream",
     "text": [
      "_________________________________________________________________\n",
      "Layer (type)                 Output Shape              Param #   \n",
      "=================================================================\n",
      "conv2d_1 (Conv2D)            (None, 28, 28, 96)        7296      \n",
      "_________________________________________________________________\n",
      "max_pooling2d_1 (MaxPooling2 (None, 10, 10, 96)        0         \n",
      "_________________________________________________________________\n",
      "batch_normalization_1 (Batch (None, 10, 10, 96)        384       \n",
      "_________________________________________________________________\n",
      "conv2d_2 (Conv2D)            (None, 10, 10, 256)       614656    \n",
      "_________________________________________________________________\n",
      "max_pooling2d_2 (MaxPooling2 (None, 4, 4, 256)         0         \n",
      "_________________________________________________________________\n",
      "batch_normalization_2 (Batch (None, 4, 4, 256)         1024      \n",
      "_________________________________________________________________\n",
      "flatten_1 (Flatten)          (None, 4096)              0         \n",
      "_________________________________________________________________\n",
      "dense_1 (Dense)              (None, 384)               1573248   \n",
      "_________________________________________________________________\n",
      "dense_2 (Dense)              (None, 192)               73920     \n",
      "_________________________________________________________________\n",
      "dense_3 (Dense)              (None, 10)                1930      \n",
      "=================================================================\n",
      "Total params: 2,272,458\n",
      "Trainable params: 2,271,754\n",
      "Non-trainable params: 704\n",
      "_________________________________________________________________\n",
      "None\n"
     ]
    }
   ],
   "source": [
    "model.load_weights(BASELINE_final_weightfile)\n",
    "\n",
    "print(model.summary())"
   ]
  },
  {
   "cell_type": "markdown",
   "metadata": {},
   "source": [
    "#### Check baseline shapes"
   ]
  },
  {
   "cell_type": "code",
   "execution_count": 8,
   "metadata": {
    "ExecuteTime": {
     "end_time": "2018-09-02T20:22:42.713003Z",
     "start_time": "2018-09-02T20:22:42.668888Z"
    }
   },
   "outputs": [
    {
     "name": "stdout",
     "output_type": "stream",
     "text": [
      "layer  0 :  (5, 5, 3, 96)\n",
      "layer  2 :  (96,)\n",
      "layer  3 :  (5, 5, 96, 256)\n",
      "layer  5 :  (256,)\n",
      "layer  7 :  (4096, 384)\n",
      "layer  8 :  (384, 192)\n",
      "layer  9 :  (192, 10)\n"
     ]
    }
   ],
   "source": [
    "for il, layer in enumerate(model.layers):\n",
    "    weights = layer.get_weights() \n",
    "    if len(weights)>0 :\n",
    "        W = weights[0]\n",
    "        print(\"layer \",il,\": \", W.shape)"
   ]
  },
  {
   "cell_type": "markdown",
   "metadata": {},
   "source": [
    "###  Baseline Ensemble Fits\n",
    "### <font color='red'>IDs 1 and 2 were corrupted<font>\n",
    "\n",
    "### FC1"
   ]
  },
  {
   "cell_type": "code",
   "execution_count": 9,
   "metadata": {
    "ExecuteTime": {
     "end_time": "2018-09-02T20:22:44.816590Z",
     "start_time": "2018-09-02T20:22:42.714628Z"
    }
   },
   "outputs": [
    {
     "data": {
      "application/vnd.jupyter.widget-view+json": {
       "model_id": "60bac38c3c8c4f0c9c2da9cb0af5e579",
       "version_major": 2,
       "version_minor": 0
      },
      "text/plain": [
       "HBox(children=(IntProgress(value=0, max=10), HTML(value='')))"
      ]
     },
     "metadata": {},
     "output_type": "display_data"
    },
    {
     "name": "stdout",
     "output_type": "stream",
     "text": [
      "\n"
     ]
    }
   ],
   "source": [
    "eigenvalues, _ = RMT_Util.keras_ensemble_spectrum(model, \n",
    "                        BASELINE_ensemble_weightfile, LAYER_FC1,num_runs=NUM_ENSEMBLE_RUNS)"
   ]
  },
  {
   "cell_type": "code",
   "execution_count": 10,
   "metadata": {
    "ExecuteTime": {
     "end_time": "2018-09-02T20:22:44.822100Z",
     "start_time": "2018-09-02T20:22:44.818512Z"
    }
   },
   "outputs": [],
   "source": [
    "assert(len(eigenvalues)==NUM_ENSEMBLE_RUNS)\n"
   ]
  },
  {
   "cell_type": "code",
   "execution_count": 11,
   "metadata": {
    "ExecuteTime": {
     "end_time": "2018-09-02T20:22:44.853724Z",
     "start_time": "2018-09-02T20:22:44.824225Z"
    }
   },
   "outputs": [
    {
     "data": {
      "application/vnd.jupyter.widget-view+json": {
       "model_id": "d71229bee8ec43f99cfdd83657823bfb",
       "version_major": 2,
       "version_minor": 0
      },
      "text/plain": [
       "HBox(children=(IntProgress(value=0, max=10), HTML(value='')))"
      ]
     },
     "metadata": {},
     "output_type": "display_data"
    },
    {
     "name": "stdout",
     "output_type": "stream",
     "text": [
      "\n"
     ]
    }
   ],
   "source": [
    "# all_evals=np.concatenate(eigenvalues)\n",
    "all_evals = []\n",
    "for i in tqdm(range(len(eigenvalues))):\n",
    "    all_evals.extend(eigenvalues[i-1])"
   ]
  },
  {
   "cell_type": "markdown",
   "metadata": {},
   "source": [
    "### First get Baseline Shuffled sigma to select best $\\lambda_{max}$"
   ]
  },
  {
   "cell_type": "code",
   "execution_count": 12,
   "metadata": {
    "ExecuteTime": {
     "end_time": "2018-09-02T20:24:50.502437Z",
     "start_time": "2018-09-02T20:22:44.856034Z"
    }
   },
   "outputs": [
    {
     "name": "stdout",
     "output_type": "stream",
     "text": [
      "get_shuffled_eigenvalues\n"
     ]
    },
    {
     "data": {
      "application/vnd.jupyter.widget-view+json": {
       "model_id": "f092061d97eb4aafaba9e85a95982244",
       "version_major": 2,
       "version_minor": 0
      },
      "text/plain": [
       "HBox(children=(IntProgress(value=0), HTML(value='')))"
      ]
     },
     "metadata": {},
     "output_type": "display_data"
    },
    {
     "name": "stdout",
     "output_type": "stream",
     "text": [
      "\n",
      "% spikes outside bulk 0.00\n",
      "% sigma 1.2469\n",
      "1.2469363785022263\n"
     ]
    },
    {
     "name": "stderr",
     "output_type": "stream",
     "text": [
      "RMT_Util.ipynb:7: RuntimeWarning: divide by zero encountered in true_divide\n",
      "  \"## RMT Util\\n\",\n",
      "RMT_Util.ipynb:7: RuntimeWarning: invalid value encountered in sqrt\n",
      "  \"## RMT Util\\n\",\n"
     ]
    },
    {
     "name": "stdout",
     "output_type": "stream",
     "text": [
      "saved figure img/mini-alexnet-fc1-ensemble-esd-rand-final.png\n"
     ]
    },
    {
     "data": {
      "image/png": "[encoded data removed]",
      "text/plain": [
       "<Figure size 360x360 with 1 Axes>"
      ]
     },
     "metadata": {},
     "output_type": "display_data"
    }
   ],
   "source": [
    "W = model.layers[LAYER_FC1].get_weights()[0]\n",
    "shuffled_evals = RMT_Util.get_shuffled_eigenvalues(W, layer=LAYER_FC1, num=100)\n",
    "sigma = RMT_Util.plot_ESD_and_fit(eigenvalues=shuffled_evals, Q=Q_FC1, \n",
    "                                  layer=LAYER_FC1, num_spikes=0)\n",
    "print(sigma)\n",
    "plt.title(\"Mini AlexNet FC1: ESD\\nShuffled 100X\")\n",
    "plt.xlabel(XLABEL_FC1)\n",
    "plt.ylabel(YLABEL)\n",
    "plt.legend()\n",
    "plt.tight_layout()\n",
    "\n",
    "filename=ENSEMBLE_ESD_FC1_FINAL_RAND\n",
    "plt.savefig(filename)\n",
    "print(\"saved figure {}\".format(filename))"
   ]
  },
  {
   "cell_type": "markdown",
   "metadata": {},
   "source": [
    "### Now select # spikes"
   ]
  },
  {
   "cell_type": "code",
   "execution_count": 13,
   "metadata": {
    "ExecuteTime": {
     "end_time": "2018-09-02T20:24:51.025765Z",
     "start_time": "2018-09-02T20:24:50.505278Z"
    }
   },
   "outputs": [
    {
     "name": "stderr",
     "output_type": "stream",
     "text": [
      "RMT_Util.ipynb:7: RuntimeWarning: divide by zero encountered in true_divide\n",
      "  \"## RMT Util\\n\",\n",
      "RMT_Util.ipynb:7: RuntimeWarning: invalid value encountered in sqrt\n",
      "  \"## RMT Util\\n\",\n"
     ]
    },
    {
     "name": "stdout",
     "output_type": "stream",
     "text": [
      "% spikes outside bulk 2.40\n",
      "% sigma 1.2714\n",
      "1.2713706557882887\n",
      "saved figure img/mini-alexnet-fc1-ensemble-esd-final-9spikes.png\n"
     ]
    },
    {
     "data": {
      "image/png": "[encoded data removed]",
      "text/plain": [
       "<Figure size 360x360 with 1 Axes>"
      ]
     },
     "metadata": {},
     "output_type": "display_data"
    }
   ],
   "source": [
    "sigma = RMT_Util.plot_ESD_and_fit(eigenvalues=all_evals, Q=Q_FC1,  \n",
    "                                  layer=LAYER_FC1, num_spikes=NUM_ENSEMBLE_RUNS*9)\n",
    "print(sigma)\n",
    "\n",
    "plt.title(\"Mini AlexNet FC1:  ESD\\nEnsemble of 10 runs, 9 Spikes\")\n",
    "plt.xlabel(XLABEL_FC1)\n",
    "plt.ylabel(YLABEL)\n",
    "plt.legend()\n",
    "plt.tight_layout()\n",
    "\n",
    "filename=ENSEMBLE_ESD_FC1_FINAL_EPOCH_9SPIKES\n",
    "plt.savefig(filename)\n",
    "print(\"saved figure {}\".format(filename))"
   ]
  },
  {
   "cell_type": "code",
   "execution_count": 14,
   "metadata": {
    "ExecuteTime": {
     "end_time": "2018-09-02T20:24:51.929745Z",
     "start_time": "2018-09-02T20:24:51.029163Z"
    }
   },
   "outputs": [
    {
     "name": "stderr",
     "output_type": "stream",
     "text": [
      "RMT_Util.ipynb:7: RuntimeWarning: divide by zero encountered in true_divide\n",
      "  \"## RMT Util\\n\",\n",
      "RMT_Util.ipynb:7: RuntimeWarning: invalid value encountered in sqrt\n",
      "  \"## RMT Util\\n\",\n"
     ]
    },
    {
     "name": "stdout",
     "output_type": "stream",
     "text": [
      "% spikes outside bulk 4.92\n",
      "% sigma 1.2039\n",
      "1.2039065911893958\n",
      "saved figure img/mini-alexnet-fc1-ensemble-esd-final-18spikes.png\n"
     ]
    },
    {
     "data": {
      "image/png": "[encoded data removed]",
      "text/plain": [
       "<Figure size 360x360 with 1 Axes>"
      ]
     },
     "metadata": {},
     "output_type": "display_data"
    }
   ],
   "source": [
    "num_spikes = NUM_ENSEMBLE_RUNS*18\n",
    "sigma = RMT_Util.plot_ESD_and_fit(eigenvalues=all_evals, \n",
    "                                  Q=Q_FC1, layer=LAYER_FC1, num_spikes=num_spikes)\n",
    "print(sigma)\n",
    "\n",
    "plt.title(\"Mini AlexNet FC1: ESD\\nEnsemble of 10 runs, 18 Spikes\")\n",
    "plt.xlabel(XLABEL_FC1)\n",
    "plt.ylabel(YLABEL)\n",
    "plt.legend()\n",
    "plt.tight_layout()\n",
    "\n",
    "filename=ENSEMBLE_ESD_FC1_FINAL_EPOCH_18SPIKES\n",
    "plt.savefig(filename)\n",
    "print(\"saved figure {}\".format(filename))"
   ]
  },
  {
   "cell_type": "markdown",
   "metadata": {},
   "source": [
    "## Repear for FC2"
   ]
  },
  {
   "cell_type": "code",
   "execution_count": 15,
   "metadata": {
    "ExecuteTime": {
     "end_time": "2018-09-02T20:24:52.646491Z",
     "start_time": "2018-09-02T20:24:51.932622Z"
    }
   },
   "outputs": [
    {
     "data": {
      "application/vnd.jupyter.widget-view+json": {
       "model_id": "5c2867259c474c01a0176a54c5913c35",
       "version_major": 2,
       "version_minor": 0
      },
      "text/plain": [
       "HBox(children=(IntProgress(value=0, max=10), HTML(value='')))"
      ]
     },
     "metadata": {},
     "output_type": "display_data"
    },
    {
     "name": "stdout",
     "output_type": "stream",
     "text": [
      "\n"
     ]
    }
   ],
   "source": [
    "eigenvalues, eigenvectors = RMT_Util.keras_ensemble_spectrum(model, \n",
    "                        BASELINE_ensemble_weightfile, LAYER_FC2,num_runs=NUM_ENSEMBLE_RUNS)\n",
    "all_evals = np.concatenate(eigenvalues)"
   ]
  },
  {
   "cell_type": "code",
   "execution_count": 16,
   "metadata": {
    "ExecuteTime": {
     "end_time": "2018-09-02T20:24:53.468592Z",
     "start_time": "2018-09-02T20:24:52.648598Z"
    }
   },
   "outputs": [
    {
     "name": "stdout",
     "output_type": "stream",
     "text": [
      "% spikes outside bulk 4.92\n",
      "% sigma 1.0109\n",
      "1.0109147957317495\n"
     ]
    },
    {
     "name": "stderr",
     "output_type": "stream",
     "text": [
      "RMT_Util.ipynb:7: RuntimeWarning: divide by zero encountered in true_divide\n",
      "  \"## RMT Util\\n\",\n",
      "RMT_Util.ipynb:7: RuntimeWarning: invalid value encountered in sqrt\n",
      "  \"## RMT Util\\n\",\n"
     ]
    },
    {
     "name": "stdout",
     "output_type": "stream",
     "text": [
      "saved figure img/mini-alexnet-fc2-ensemble-esd-final-9spikes.png\n"
     ]
    },
    {
     "data": {
      "image/png": "[encoded data removed]",
      "text/plain": [
       "<Figure size 360x360 with 1 Axes>"
      ]
     },
     "metadata": {},
     "output_type": "display_data"
    }
   ],
   "source": [
    "all_evals = np.array(eigenvalues).flatten()\n",
    "num_spikes = NUM_ENSEMBLE_RUNS*9\n",
    "sigma = RMT_Util.plot_ESD_and_fit(eigenvalues=all_evals, Q=Q_FC2, \n",
    "                                  layer=LAYER_FC2, num_spikes=num_spikes)\n",
    "print(sigma)\n",
    "plt.title(\"Mini AlexNet FC2: ESD\\nEnsemble of 10 runs, 9 Spikes\")\n",
    "plt.xlabel(XLABEL_FC2)\n",
    "plt.ylabel(YLABEL)\n",
    "plt.legend()\n",
    "plt.tight_layout()\n",
    "\n",
    "filename=ENSEMBLE_ESD_FC2_FINAL_EPOCH_9SPIKES\n",
    "plt.savefig(filename)\n",
    "print(\"saved figure {}\".format(filename))"
   ]
  },
  {
   "cell_type": "markdown",
   "metadata": {},
   "source": [
    "### Localization"
   ]
  },
  {
   "cell_type": "code",
   "execution_count": 17,
   "metadata": {
    "ExecuteTime": {
     "end_time": "2018-09-02T20:25:04.751932Z",
     "start_time": "2018-09-02T20:24:53.471715Z"
    }
   },
   "outputs": [
    {
     "data": {
      "application/vnd.jupyter.widget-view+json": {
       "model_id": "94449b68c54c4d8a83ddc6713a6f99c8",
       "version_major": 2,
       "version_minor": 0
      },
      "text/plain": [
       "HBox(children=(IntProgress(value=0, max=10), HTML(value='')))"
      ]
     },
     "metadata": {},
     "output_type": "display_data"
    },
    {
     "name": "stdout",
     "output_type": "stream",
     "text": [
      "\n"
     ]
    }
   ],
   "source": [
    "svals, svecs = RMT_Util.keras_singular_spectrum(model, \n",
    "                        BASELINE_ensemble_weightfile, LAYER_FC1,num_runs=NUM_ENSEMBLE_RUNS)"
   ]
  },
  {
   "cell_type": "code",
   "execution_count": 18,
   "metadata": {
    "ExecuteTime": {
     "end_time": "2018-09-02T20:25:04.781259Z",
     "start_time": "2018-09-02T20:25:04.757662Z"
    }
   },
   "outputs": [],
   "source": [
    "num_spikes = 9\n",
    "num_bleeding_out = 9\n",
    "bulk_svals, bleeding_svals, spiked_svals = [], [], []\n",
    "bulk_svecs, bleeding_svecs, spiked_svecs = [], [], []\n",
    "\n",
    "for i in range(len(eigenvalues)):\n",
    "    spiked_svals.extend(svals[i][0:num_spikes])\n",
    "    bleeding_svals.extend(svals[i][num_spikes:num_spikes+num_bleeding_out])\n",
    "    bulk_svals.extend(svals[i][num_spikes+num_bleeding_out:])\n",
    "    \n",
    "    spiked_svecs.extend(svecs[i][0:num_spikes])\n",
    "    bleeding_svecs.extend(svecs[i][num_spikes:num_spikes+num_bleeding_out])\n",
    "    bulk_svecs.extend(svecs[i][num_spikes+num_bleeding_out:])\n",
    "    \n"
   ]
  },
  {
   "cell_type": "code",
   "execution_count": 19,
   "metadata": {
    "ExecuteTime": {
     "end_time": "2018-09-02T20:25:05.970522Z",
     "start_time": "2018-09-02T20:25:04.784138Z"
    }
   },
   "outputs": [
    {
     "name": "stderr",
     "output_type": "stream",
     "text": [
      "No handles with labels found to put in legend.\n"
     ]
    },
    {
     "name": "stdout",
     "output_type": "stream",
     "text": [
      "saved figure img/mini-alexnet-fc1-ensemble-3color-ssd.png\n"
     ]
    },
    {
     "data": {
      "image/png": "[encoded data removed]",
      "text/plain": [
       "<Figure size 360x360 with 1 Axes>"
      ]
     },
     "metadata": {},
     "output_type": "display_data"
    }
   ],
   "source": [
    "x = [bulk_svals,bleeding_svals,spiked_svals]\n",
    "plt.hist(x, bins=100, color=['blue', 'red', 'purple']);\n",
    "plt.title(\"Mini AlexNet FC1:  Singular Values\\n10 runs, 9 Bleeding out, 9 Spikes\")\n",
    "plt.ylabel(\"Number of Singular Values\")\n",
    "plt.xlabel(r\"Singular Values of Weight Matrix $\\mathbf{W}_{FC1}$\")\n",
    "plt.legend()\n",
    "plt.tight_layout()\n",
    "\n",
    "filename=ENSEMBLE_FC1_3COLOR_ESD\n",
    "plt.savefig(filename)\n",
    "print(\"saved figure {}\".format(filename))"
   ]
  },
  {
   "cell_type": "code",
   "execution_count": 20,
   "metadata": {
    "ExecuteTime": {
     "end_time": "2018-09-02T20:25:06.096827Z",
     "start_time": "2018-09-02T20:25:05.973845Z"
    }
   },
   "outputs": [],
   "source": [
    "bulk_loc = [RMT_Util.localization_ratio(v) for v in bulk_svecs]\n",
    "bleeding_loc = [RMT_Util.localization_ratio(v) for v in bleeding_svecs]\n",
    "spike_loc = [RMT_Util.localization_ratio(v) for v in spiked_svecs]"
   ]
  },
  {
   "cell_type": "code",
   "execution_count": 33,
   "metadata": {
    "ExecuteTime": {
     "end_time": "2018-09-02T20:46:16.648339Z",
     "start_time": "2018-09-02T20:46:15.347990Z"
    }
   },
   "outputs": [
    {
     "name": "stdout",
     "output_type": "stream",
     "text": [
      "97.72828 82.91075\n",
      "saved figure img/mini-alexnet-fc1-ensemble-locs.png\n"
     ]
    },
    {
     "data": {
      "image/png": "[encoded data removed]",
      "text/plain": [
       "<Figure size 360x360 with 1 Axes>"
      ]
     },
     "metadata": {},
     "output_type": "display_data"
    }
   ],
   "source": [
    "plt.hist(bulk_loc, bins=20, density=True, alpha =0.50, color='blue', label='bulk');\n",
    "#plt.hist(bleeding_loc, bins=100, density=True, alpha = 0.50, color='red');\n",
    "plt.hist(spike_loc, bins=20, density=True, alpha = 0.50, color='purple', label='spike');\n",
    "plt.legend()\n",
    "plt.tight_layout()\n",
    "print(np.mean(bulk_loc), np.mean(spike_loc))\n",
    "\n",
    "plt.title(\"Mini AlexNet FC1:\\nLocalization Ratios, 10 runs\")\n",
    "plt.tight_layout()\n",
    "\n",
    "filename=ENSEMBLE_FC1_LOCS\n",
    "plt.savefig(filename)\n",
    "print(\"saved figure {}\".format(filename))"
   ]
  },
  {
   "cell_type": "code",
   "execution_count": 22,
   "metadata": {
    "ExecuteTime": {
     "end_time": "2018-09-02T20:25:07.060855Z",
     "start_time": "2018-09-02T20:25:06.804562Z"
    }
   },
   "outputs": [],
   "source": [
    "bulk_part = [RMT_Util.participation_ratio(v) for v in bulk_svecs]\n",
    "bleeding_part = [RMT_Util.participation_ratio(v) for v in bleeding_svecs]\n",
    "spike_part = [RMT_Util.participation_ratio(v) for v in spiked_svecs]"
   ]
  },
  {
   "cell_type": "code",
   "execution_count": 34,
   "metadata": {
    "ExecuteTime": {
     "end_time": "2018-09-02T20:45:55.814334Z",
     "start_time": "2018-09-02T20:45:54.648315Z"
    }
   },
   "outputs": [
    {
     "name": "stdout",
     "output_type": "stream",
     "text": [
      "3.3705141019718776 3.209000435817564\n",
      "saved figure img/mini-alexnet-fc1-ensemble-parts.png\n"
     ]
    },
    {
     "data": {
      "image/png": "[encoded data removed]",
      "text/plain": [
       "<Figure size 360x360 with 1 Axes>"
      ]
     },
     "metadata": {},
     "output_type": "display_data"
    }
   ],
   "source": [
    "plt.hist(bulk_part, bins=20, density=True, alpha =0.50, color='blue', label='bulk');\n",
    "#plt.hist(bleeding_loc, bins=100, density=True, alpha = 0.50, color='red');\n",
    "plt.hist(spike_part, bins=20, density=True, alpha = 0.50, color='purple', label='spike');\n",
    "plt.title(\"Mini AlexNet FC1:\\nParticipation Ratios, 10 runs\\n\")\n",
    "plt.legend()\n",
    "plt.tight_layout()\n",
    "print(np.mean(bulk_part), np.mean(spike_part))\n",
    "\n",
    "filename=ENSEMBLE_FC1_PARTS\n",
    "plt.savefig(filename)\n",
    "print(\"saved figure {}\".format(filename))"
   ]
  },
  {
   "cell_type": "markdown",
   "metadata": {
    "ExecuteTime": {
     "end_time": "2018-05-26T00:33:12.553008Z",
     "start_time": "2018-05-26T00:33:12.550854Z"
    }
   },
   "source": [
    "### Entropy: need good histogram estimator\n",
    "\n",
    "https://stackoverflow.com/questions/39626432/how-to-calculate-entropy-from-np-histogram?utm_medium=organic&utm_source=google_rich_qa&utm_campaign=google_rich_qa\n",
    "\n",
    "https://github.com/rmcgibbo/information\n",
    "\n",
    "https://github.com/rmcgibbo/information\n"
   ]
  },
  {
   "cell_type": "code",
   "execution_count": 24,
   "metadata": {
    "ExecuteTime": {
     "end_time": "2018-09-02T20:25:07.720621Z",
     "start_time": "2018-09-02T20:25:07.700156Z"
    }
   },
   "outputs": [],
   "source": [
    "\n",
    "def discrete_entropy(vec, num_bins=100):\n",
    "    vec = vec - np.mean(vec)\n",
    "    h = np.histogram(vec, density=True, bins=num_bins)[0];\n",
    "    p = np.array(h)+0.0000000001\n",
    "    \n",
    "    p = p / np.sqrt(2*np.pi)\n",
    "    p = p / np.sum(p)\n",
    "\n",
    "    #p = p/(2*np.pi)\n",
    "    entropy = -np.sum(p*np.log(p))\n",
    "    entropy = entropy#/(2*np.pi)#/float(num_bins)\n",
    "    return entropy"
   ]
  },
  {
   "cell_type": "markdown",
   "metadata": {},
   "source": [
    "### compute maximum possible entropy for this vector length and bin sizes"
   ]
  },
  {
   "cell_type": "code",
   "execution_count": 25,
   "metadata": {
    "ExecuteTime": {
     "end_time": "2018-09-02T20:25:07.734491Z",
     "start_time": "2018-09-02T20:25:07.723679Z"
    }
   },
   "outputs": [],
   "source": [
    "\n",
    "def max_discrete_entropy(len_vec,num_bins=100, sample_size = 100000):\n",
    "    \"\"\"compute maximum possible entropy for this vector length and bin sizes\"\"\"\n",
    "    entropies = []\n",
    "    for i in tqdm(range(sample_size)):\n",
    "        test_vec = np.random.normal(0,1,len_vec)\n",
    "        s = discrete_entropy(test_vec, num_bins=num_bins)\n",
    "        entropies.append(s)\n",
    "\n",
    "    return np.max(entropies)"
   ]
  },
  {
   "cell_type": "code",
   "execution_count": 26,
   "metadata": {
    "ExecuteTime": {
     "end_time": "2018-09-02T20:25:36.615904Z",
     "start_time": "2018-09-02T20:25:07.737284Z"
    }
   },
   "outputs": [
    {
     "data": {
      "application/vnd.jupyter.widget-view+json": {
       "model_id": "3c8db503732d49d58e8e2eec54436a9e",
       "version_major": 2,
       "version_minor": 0
      },
      "text/plain": [
       "HBox(children=(IntProgress(value=0, max=100000), HTML(value='')))"
      ]
     },
     "metadata": {},
     "output_type": "display_data"
    },
    {
     "name": "stdout",
     "output_type": "stream",
     "text": [
      "\n"
     ]
    },
    {
     "data": {
      "text/plain": [
       "4.367488357012218"
      ]
     },
     "execution_count": 26,
     "metadata": {},
     "output_type": "execute_result"
    }
   ],
   "source": [
    "max_discrete_entropy(len(bulk_svecs[0]))"
   ]
  },
  {
   "cell_type": "code",
   "execution_count": 27,
   "metadata": {
    "ExecuteTime": {
     "end_time": "2018-09-02T20:25:37.705841Z",
     "start_time": "2018-09-02T20:25:36.618855Z"
    }
   },
   "outputs": [
    {
     "data": {
      "application/vnd.jupyter.widget-view+json": {
       "model_id": "708cbad5e52b4de1a9575568ca15466b",
       "version_major": 2,
       "version_minor": 0
      },
      "text/plain": [
       "HBox(children=(IntProgress(value=0, max=3650), HTML(value='')))"
      ]
     },
     "metadata": {},
     "output_type": "display_data"
    },
    {
     "name": "stdout",
     "output_type": "stream",
     "text": [
      "\n"
     ]
    },
    {
     "data": {
      "application/vnd.jupyter.widget-view+json": {
       "model_id": "8469cec85727477688e32481f817a216",
       "version_major": 2,
       "version_minor": 0
      },
      "text/plain": [
       "HBox(children=(IntProgress(value=0, max=90), HTML(value='')))"
      ]
     },
     "metadata": {},
     "output_type": "display_data"
    },
    {
     "name": "stdout",
     "output_type": "stream",
     "text": [
      "\n"
     ]
    }
   ],
   "source": [
    "bulk_entropy = [discrete_entropy(v) for v in tqdm(bulk_svecs)]\n",
    "#bleeding_entropy = [discrete_entropy(v) for v in bleeding_svecs]\n",
    "spike_entropy  = [discrete_entropy(v) for v in tqdm(spiked_svecs)]"
   ]
  },
  {
   "cell_type": "code",
   "execution_count": null,
   "metadata": {},
   "outputs": [],
   "source": []
  },
  {
   "cell_type": "code",
   "execution_count": 28,
   "metadata": {
    "ExecuteTime": {
     "end_time": "2018-09-02T20:25:37.716186Z",
     "start_time": "2018-09-02T20:25:37.708443Z"
    }
   },
   "outputs": [
    {
     "data": {
      "text/plain": [
       "(4.108561472693887, 3.9915509605017436, 0.11701051219214298)"
      ]
     },
     "execution_count": 28,
     "metadata": {},
     "output_type": "execute_result"
    }
   ],
   "source": [
    "np.mean(bulk_entropy), np.mean(spike_entropy), np.mean(bulk_entropy)- np.mean(spike_entropy)"
   ]
  },
  {
   "cell_type": "code",
   "execution_count": 29,
   "metadata": {
    "ExecuteTime": {
     "end_time": "2018-09-02T20:25:38.131504Z",
     "start_time": "2018-09-02T20:25:37.718310Z"
    }
   },
   "outputs": [
    {
     "data": {
      "image/png": "[encoded data removed]",
      "text/plain": [
       "<Figure size 360x360 with 1 Axes>"
      ]
     },
     "metadata": {},
     "output_type": "display_data"
    }
   ],
   "source": [
    "plt.hist(np.concatenate(bulk_svecs), bins=100, alpha=0.5, color='blue', density=True);\n",
    "#plt.hist(np.concatenate(bleeding_svecs), bins=100, alpha=0.5, color='red', density=True);\n",
    "plt.hist(np.concatenate(spiked_svecs), bins=100, alpha=0.5, color='purple', density=True);"
   ]
  },
  {
   "cell_type": "code",
   "execution_count": 30,
   "metadata": {
    "ExecuteTime": {
     "end_time": "2018-09-02T20:46:25.944994Z",
     "start_time": "2018-09-02T20:46:25.008586Z"
    }
   },
   "outputs": [
    {
     "name": "stdout",
     "output_type": "stream",
     "text": [
      "4.108561472693887 3.9915509605017436\n",
      "saved figure img/mini-alexnet-fc1-ensemble-ventropies.png\n"
     ]
    },
    {
     "data": {
      "image/png": "[encoded data removed]",
      "text/plain": [
       "<Figure size 360x360 with 1 Axes>"
      ]
     },
     "metadata": {},
     "output_type": "display_data"
    }
   ],
   "source": [
    "plt.hist(np.array(bulk_entropy), bins=20, density=True, alpha =0.50, color='blue', label='bulk');\n",
    "#plt.hist(bleeding_entropy, bins=100, density=True, alpha = 0.50, color='red');\n",
    "plt.hist(np.array(spike_entropy), bins=20, density=True, alpha = 0.50, color='purple', label='spike');\n",
    "plt.title(\"Mini AlexNet FC1:\\nVector Entropies, 10 runs\")\n",
    "plt.legend();\n",
    "\n",
    "print(np.mean(bulk_entropy), np.mean(spike_entropy))\n",
    "filename=ENSEMBLE_FC1_VENTROPIES\n",
    "plt.savefig(filename)\n",
    "plt.legend()\n",
    "plt.tight_layout()\n",
    "print(\"saved figure {}\".format(filename))"
   ]
  },
  {
   "cell_type": "code",
   "execution_count": 31,
   "metadata": {
    "ExecuteTime": {
     "end_time": "2018-09-02T20:26:06.984781Z",
     "start_time": "2018-09-02T20:25:38.602808Z"
    }
   },
   "outputs": [
    {
     "data": {
      "application/vnd.jupyter.widget-view+json": {
       "model_id": "17631d083f9644f086099ed07506252d",
       "version_major": 2,
       "version_minor": 0
      },
      "text/plain": [
       "HBox(children=(IntProgress(value=0, max=100000), HTML(value='')))"
      ]
     },
     "metadata": {},
     "output_type": "display_data"
    },
    {
     "name": "stdout",
     "output_type": "stream",
     "text": [
      "\n"
     ]
    }
   ],
   "source": [
    "max_entropy = max_discrete_entropy(len(bulk_svecs[0]))\n",
    "bulk_entropy = bulk_entropy/max_entropy\n",
    "spike_entropy = spike_entropy/max_entropy"
   ]
  },
  {
   "cell_type": "code",
   "execution_count": 32,
   "metadata": {
    "ExecuteTime": {
     "end_time": "2018-09-02T20:46:39.055002Z",
     "start_time": "2018-09-02T20:46:37.780938Z"
    }
   },
   "outputs": [
    {
     "name": "stdout",
     "output_type": "stream",
     "text": [
      "0.9399631794622426 0.9131933297711496\n",
      "saved figure img/mini-alexnet-fc1-ensemble-ventropies.png\n"
     ]
    },
    {
     "data": {
      "image/png": "[encoded data removed]",
      "text/plain": [
       "<Figure size 360x360 with 1 Axes>"
      ]
     },
     "metadata": {},
     "output_type": "display_data"
    }
   ],
   "source": [
    "plt.hist(np.array(bulk_entropy), bins=20, density=True, alpha =0.50, color='blue', label='bulk');\n",
    "#plt.hist(bleeding_entropy, bins=100, density=True, alpha = 0.50, color='red');\n",
    "plt.hist(np.array(spike_entropy), bins=20, density=True, alpha = 0.50, color='purple', label='spike');\n",
    "plt.title(\"Mini AlexNet FC1:\\nVector Entropies, 10 runs\")\n",
    "plt.legend()\n",
    "plt.tight_layout()\n",
    "\n",
    "print(np.mean(bulk_entropy), np.mean(spike_entropy))\n",
    "filename=ENSEMBLE_FC1_VENTROPIES\n",
    "plt.savefig(filename)\n",
    "print(\"saved figure {}\".format(filename))"
   ]
  },
  {
   "cell_type": "code",
   "execution_count": null,
   "metadata": {},
   "outputs": [],
   "source": []
  }
 ],
 "metadata": {
  "kernelspec": {
   "display_name": "Python 3",
   "language": "python",
   "name": "python3"
  },
  "language_info": {
   "codemirror_mode": {
    "name": "ipython",
    "version": 3
   },
   "file_extension": ".py",
   "mimetype": "text/x-python",
   "name": "python",
   "nbconvert_exporter": "python",
   "pygments_lexer": "ipython3",
   "version": "3.6.5"
  },
  "widgets": {
   "state": {
    "03ac2ee12ffc4effba4c329a110fa39d": {
     "views": [
      {
       "cell_index": 15
      }
     ]
    },
    "10a9741bf257472fa4edcd0598a5f18e": {
     "views": [
      {
       "cell_index": 36
      }
     ]
    },
    "2bce191b980e48359bd0a801a16d1896": {
     "views": [
      {
       "cell_index": 36
      }
     ]
    },
    "31430df6ad814f6a875a5228991b4f35": {
     "views": [
      {
       "cell_index": 36
      }
     ]
    },
    "33b720d85d3041d09d81e357960a73e1": {
     "views": [
      {
       "cell_index": 35
      }
     ]
    },
    "5378f4d241944987b60b8bea3afd6066": {
     "views": [
      {
       "cell_index": 35
      }
     ]
    },
    "5f7144069baa489dbbd8438291f36ff2": {
     "views": [
      {
       "cell_index": 20
      }
     ]
    },
    "654573468d6f405c87ed725c49d2ee18": {
     "views": [
      {
       "cell_index": 11
      }
     ]
    },
    "67bec06e904f46a48f8e86b08725f113": {
     "views": [
      {
       "cell_index": 34
      }
     ]
    },
    "84a9e68cd7024e0797a4202a3b8a6cd5": {
     "views": [
      {
       "cell_index": 35
      }
     ]
    },
    "8f428b6a6ca047a4bd2c9f9b36591ebe": {
     "views": [
      {
       "cell_index": 23
      }
     ]
    },
    "93480515e648462c9bb0ea4c0f8c1a8b": {
     "views": [
      {
       "cell_index": 40
      }
     ]
    },
    "9377f87c01554d8aa3d9ad3a5e936bc6": {
     "views": [
      {
       "cell_index": 13
      }
     ]
    },
    "b455156a0e0f468caf9216c0420166a1": {
     "views": [
      {
       "cell_index": 35
      }
     ]
    },
    "d4c3a4a9872744b79e596ba6e172ac83": {
     "views": [
      {
       "cell_index": 36
      }
     ]
    }
   },
   "version": "1.2.0"
  }
 },
 "nbformat": 4,
 "nbformat_minor": 2
}
