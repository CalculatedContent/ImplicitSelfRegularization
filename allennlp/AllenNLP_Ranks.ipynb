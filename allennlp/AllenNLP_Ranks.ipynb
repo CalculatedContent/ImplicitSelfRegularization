{
 "cells": [
  {
   "cell_type": "markdown",
   "metadata": {},
   "source": [
    "# AllenNLP Power Law fits for Linear Layers\n",
    "\n",
    "https://allennlp.org/models\n",
    "\n",
    "\n",
    "Machine Comprehension\n",
    "\n",
    "MAC: https://s3-us-west-2.amazonaws.com/allennlp/models/ner-model-2018.04.26.tar.gz\n",
    "\n",
    "Textual Entailment\n",
    "\n",
    "ELMO: https://s3-us-west-2.amazonaws.com/allennlp/models/decomposable-attention-elmo-2018.02.19.tar.gza\n",
    "\n",
    "Semantic Role Labeling\n",
    "\n",
    "SRL:  https://s3-us-west-2.amazonaws.com/allennlp/models/srl-model-2018.05.25.tar.gz\n",
    "\n",
    "Coreference Resolution\n",
    "\n",
    "COREF: https://s3-us-west-2.amazonaws.com/allennlp/models/coref-model-2018.02.05.tar.gz\n",
    "\n",
    "Constituency Parsing\n",
    "\n",
    "CP: https://s3-us-west-2.amazonaws.com/allennlp/models/elmo-constituency-parser-2018.03.14.tar.gz\n",
    "\n",
    "Named Entity Recognition\n",
    "\n",
    "\n",
    "NER:  https://s3-us-west-2.amazonaws.com/allennlp/models/ner-model-2018.04.26.tar.gz"
   ]
  },
  {
   "cell_type": "code",
   "execution_count": 7,
   "metadata": {
    "ExecuteTime": {
     "end_time": "2018-09-14T16:19:23.216157Z",
     "start_time": "2018-09-14T16:19:22.789560Z"
    }
   },
   "outputs": [],
   "source": [
    "import numpy as np\n",
    "import scipy as sp\n",
    "\n",
    "import pandas as pd\n",
    "\n",
    "import matplotlib\n",
    "import numpy as np\n",
    "import matplotlib.pyplot as plt\n",
    "%matplotlib inline  "
   ]
  },
  {
   "cell_type": "code",
   "execution_count": 8,
   "metadata": {
    "ExecuteTime": {
     "end_time": "2018-09-14T16:19:23.333359Z",
     "start_time": "2018-09-14T16:19:23.326066Z"
    }
   },
   "outputs": [
    {
     "data": {
      "text/plain": [
       "<Figure size 360x360 with 0 Axes>"
      ]
     },
     "metadata": {},
     "output_type": "display_data"
    }
   ],
   "source": [
    "import matplotlib.pyplot as plt\n",
    "plt.rcParams['figure.figsize'] = [5, 5]\n",
    "matplotlib.rcParams.update({'font.size': 16})\n",
    "plt.tight_layout()"
   ]
  },
  {
   "cell_type": "markdown",
   "metadata": {
    "ExecuteTime": {
     "end_time": "2018-09-13T18:43:42.458316Z",
     "start_time": "2018-09-13T18:43:42.451991Z"
    }
   },
   "source": [
    "### All data combined in allennlp.dat, with header"
   ]
  },
  {
   "cell_type": "code",
   "execution_count": 9,
   "metadata": {
    "ExecuteTime": {
     "end_time": "2018-09-14T16:19:23.984322Z",
     "start_time": "2018-09-14T16:19:23.981957Z"
    }
   },
   "outputs": [],
   "source": [
    "DATAFILE = \"allennlp.dat\""
   ]
  },
  {
   "cell_type": "code",
   "execution_count": 10,
   "metadata": {
    "ExecuteTime": {
     "end_time": "2018-09-14T16:19:24.329115Z",
     "start_time": "2018-09-14T16:19:24.206657Z"
    }
   },
   "outputs": [
    {
     "name": "stdout",
     "output_type": "stream",
     "text": [
      "im M N alpha D minsval\r\n",
      "23 2048 4096 5.7029920495989135 0.028451610511374015 0.8689229488372803\r\n",
      "24 2048 4096 5.234361514445998 0.04264377526480412 1.407131314277649\r\n",
      "25 512 2048 3.2759086154868178 0.04030197619663345 2.686722755432129\r\n",
      "28 512 16384 2.791929117673587 0.025378700331326387 5.430802345275879\r\n",
      "29 512 16384 3.0783106162008305 0.021362407748185208 4.471874237060547\r\n",
      "30 512 4096 3.6895340823321936 0.02273021600925962 3.063931465148926\r\n",
      "32 512 16384 2.8383103170005635 0.02525349278695277 5.508063793182373\r\n",
      "33 512 16384 3.1297699262888057 0.017658737880242026 5.766214847564697\r\n",
      "34 512 4096 3.8378605851245453 0.026490257683743468 2.3823835849761963\r\n"
     ]
    }
   ],
   "source": [
    "!head $DATAFILE"
   ]
  },
  {
   "cell_type": "code",
   "execution_count": 11,
   "metadata": {
    "ExecuteTime": {
     "end_time": "2018-09-14T16:19:24.411289Z",
     "start_time": "2018-09-14T16:19:24.398281Z"
    }
   },
   "outputs": [
    {
     "data": {
      "text/plain": [
       "85"
      ]
     },
     "execution_count": 11,
     "metadata": {},
     "output_type": "execute_result"
    }
   ],
   "source": [
    "dat = pd.read_csv(DATAFILE, delimiter=\" \")\n",
    "len(dat)"
   ]
  },
  {
   "cell_type": "code",
   "execution_count": 12,
   "metadata": {
    "ExecuteTime": {
     "end_time": "2018-09-14T16:19:24.585658Z",
     "start_time": "2018-09-14T16:19:24.582949Z"
    }
   },
   "outputs": [],
   "source": [
    "min_svals = dat['minsval'].values"
   ]
  },
  {
   "cell_type": "code",
   "execution_count": 13,
   "metadata": {
    "ExecuteTime": {
     "end_time": "2018-09-14T16:19:25.255064Z",
     "start_time": "2018-09-14T16:19:24.805810Z"
    }
   },
   "outputs": [
    {
     "data": {
      "text/plain": [
       "Text(0.5,0,'min $\\\\nu$')"
      ]
     },
     "execution_count": 13,
     "metadata": {},
     "output_type": "execute_result"
    },
    {
     "data": {
      "image/png": "[encoded data removed]",
      "text/plain": [
       "<Figure size 360x360 with 1 Axes>"
      ]
     },
     "metadata": {},
     "output_type": "display_data"
    }
   ],
   "source": [
    "plt.hist(min_svals,bins=100);\n",
    "plt.title(r\"AllenNLP Min Singular Value\")\n",
    "plt.xlabel(r\"min $\\nu$\")\n",
    "#plt.savefig(\"../img/allennlp_svals.png\")"
   ]
  },
  {
   "cell_type": "code",
   "execution_count": 14,
   "metadata": {
    "ExecuteTime": {
     "end_time": "2018-09-14T16:19:25.260956Z",
     "start_time": "2018-09-14T16:19:25.257196Z"
    }
   },
   "outputs": [],
   "source": [
    "N =  dat['N'].values\n",
    "M =  dat['M'].values\n",
    "Q=N/M"
   ]
  },
  {
   "cell_type": "code",
   "execution_count": 15,
   "metadata": {},
   "outputs": [],
   "source": [
    "Qs = np.array(Q)\n",
    "ids = np.where(Q>1.1)[0]"
   ]
  },
  {
   "cell_type": "code",
   "execution_count": 16,
   "metadata": {},
   "outputs": [
    {
     "data": {
      "image/png": "[encoded data removed]",
      "text/plain": [
       "<Figure size 360x360 with 1 Axes>"
      ]
     },
     "metadata": {},
     "output_type": "display_data"
    }
   ],
   "source": [
    "plt.hist(min_svals[ids],bins=100);\n",
    "plt.title(r\"AllenNLP Min Singular Values\")\n",
    "plt.xlabel(r\"min $\\nu$, Q>1.1\")\n",
    "plt.savefig(\"../img/allennlp_svals.png\")"
   ]
  },
  {
   "cell_type": "code",
   "execution_count": null,
   "metadata": {},
   "outputs": [],
   "source": []
  }
 ],
 "metadata": {
  "kernelspec": {
   "display_name": "Python 3",
   "language": "python",
   "name": "python3"
  },
  "language_info": {
   "codemirror_mode": {
    "name": "ipython",
    "version": 3
   },
   "file_extension": ".py",
   "mimetype": "text/x-python",
   "name": "python",
   "nbconvert_exporter": "python",
   "pygments_lexer": "ipython3",
   "version": "3.6.5"
  }
 },
 "nbformat": 4,
 "nbformat_minor": 2
}
