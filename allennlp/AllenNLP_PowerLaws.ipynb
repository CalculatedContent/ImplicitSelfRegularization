{
 "cells": [
  {
   "cell_type": "markdown",
   "metadata": {},
   "source": [
    "# AllenNLP Power Law fits for Linear Layers\n",
    "\n",
    "https://allennlp.org/models\n",
    "\n",
    "\n",
    "Machine Comprehension\n",
    "\n",
    "MAC: https://s3-us-west-2.amazonaws.com/allennlp/models/ner-model-2018.04.26.tar.gz\n",
    "\n",
    "Textual Entailment\n",
    "\n",
    "ELMO: https://s3-us-west-2.amazonaws.com/allennlp/models/decomposable-attention-elmo-2018.02.19.tar.gza\n",
    "\n",
    "Semantic Role Labeling\n",
    "\n",
    "SRL:  https://s3-us-west-2.amazonaws.com/allennlp/models/srl-model-2018.05.25.tar.gz\n",
    "\n",
    "Coreference Resolution\n",
    "\n",
    "COREF: https://s3-us-west-2.amazonaws.com/allennlp/models/coref-model-2018.02.05.tar.gz\n",
    "\n",
    "Constituency Parsing\n",
    "\n",
    "CP: https://s3-us-west-2.amazonaws.com/allennlp/models/elmo-constituency-parser-2018.03.14.tar.gz\n",
    "\n",
    "Named Entity Recognition\n",
    "\n",
    "\n",
    "NER:  https://s3-us-west-2.amazonaws.com/allennlp/models/ner-model-2018.04.26.tar.gz"
   ]
  },
  {
   "cell_type": "code",
   "execution_count": 1,
   "metadata": {
    "ExecuteTime": {
     "end_time": "2018-09-14T16:14:42.276054Z",
     "start_time": "2018-09-14T16:14:41.685932Z"
    }
   },
   "outputs": [],
   "source": [
    "import numpy as np\n",
    "import scipy as sp\n",
    "\n",
    "import pandas as pd\n",
    "\n",
    "import matplotlib\n",
    "import numpy as np\n",
    "import matplotlib.pyplot as plt\n",
    "%matplotlib inline  "
   ]
  },
  {
   "cell_type": "code",
   "execution_count": 2,
   "metadata": {
    "ExecuteTime": {
     "end_time": "2018-09-14T16:14:42.575743Z",
     "start_time": "2018-09-14T16:14:42.277758Z"
    }
   },
   "outputs": [
    {
     "ename": "ModuleNotFoundError",
     "evalue": "No module named 'RMT_Util'",
     "output_type": "error",
     "traceback": [
      "\u001b[0;31m---------------------------------------------------------------------------\u001b[0m",
      "\u001b[0;31mModuleNotFoundError\u001b[0m                       Traceback (most recent call last)",
      "\u001b[0;32m<ipython-input-2-9cb4567b82de>\u001b[0m in \u001b[0;36m<module>\u001b[0;34m()\u001b[0m\n\u001b[1;32m      1\u001b[0m \u001b[0;32mimport\u001b[0m \u001b[0mimport_ipynb\u001b[0m\u001b[0;34m\u001b[0m\u001b[0m\n\u001b[0;32m----> 2\u001b[0;31m \u001b[0;32mimport\u001b[0m \u001b[0mRMT_Util\u001b[0m\u001b[0;34m\u001b[0m\u001b[0m\n\u001b[0m",
      "\u001b[0;31mModuleNotFoundError\u001b[0m: No module named 'RMT_Util'"
     ]
    }
   ],
   "source": [
    "import import_ipynb\n",
    "import ../RMT_Util"
   ]
  },
  {
   "cell_type": "code",
   "execution_count": null,
   "metadata": {
    "ExecuteTime": {
     "end_time": "2018-09-14T16:14:42.576882Z",
     "start_time": "2018-09-14T16:14:41.688Z"
    }
   },
   "outputs": [],
   "source": [
    "import matplotlib.pyplot as plt\n",
    "plt.rcParams['figure.figsize'] = [5, 5]\n",
    "matplotlib.rcParams.update({'font.size': 16})\n",
    "plt.tight_layout()"
   ]
  },
  {
   "cell_type": "markdown",
   "metadata": {
    "ExecuteTime": {
     "end_time": "2018-09-13T18:43:42.458316Z",
     "start_time": "2018-09-13T18:43:42.451991Z"
    }
   },
   "source": [
    "### All data combined in allennlp.dat, with header"
   ]
  },
  {
   "cell_type": "code",
   "execution_count": null,
   "metadata": {
    "ExecuteTime": {
     "end_time": "2018-09-14T16:14:42.578188Z",
     "start_time": "2018-09-14T16:14:41.690Z"
    }
   },
   "outputs": [],
   "source": [
    "DATAFILE = \"allennlp.dat\""
   ]
  },
  {
   "cell_type": "code",
   "execution_count": null,
   "metadata": {
    "ExecuteTime": {
     "end_time": "2018-09-14T16:14:42.580089Z",
     "start_time": "2018-09-14T16:14:41.692Z"
    }
   },
   "outputs": [],
   "source": [
    "!head $DATAFILE"
   ]
  },
  {
   "cell_type": "code",
   "execution_count": null,
   "metadata": {
    "ExecuteTime": {
     "end_time": "2018-09-14T16:14:42.581745Z",
     "start_time": "2018-09-14T16:14:41.694Z"
    }
   },
   "outputs": [],
   "source": [
    "dat = pd.read_csv(DATAFILE, delimiter=\" \")\n",
    "len(dat)"
   ]
  },
  {
   "cell_type": "code",
   "execution_count": null,
   "metadata": {
    "ExecuteTime": {
     "end_time": "2018-09-14T16:14:42.584409Z",
     "start_time": "2018-09-14T16:14:41.696Z"
    }
   },
   "outputs": [],
   "source": [
    "alpha = dat['alpha'].values"
   ]
  },
  {
   "cell_type": "code",
   "execution_count": null,
   "metadata": {
    "ExecuteTime": {
     "end_time": "2018-09-14T16:14:42.586830Z",
     "start_time": "2018-09-14T16:14:41.698Z"
    }
   },
   "outputs": [],
   "source": [
    "plt.hist(alpha,bins=100);\n",
    "plt.title(r\"AllenNLP Power Law fits: $p(\\lambda)\\sim\\lambda^{-\\alpha}$\")\n",
    "plt.xlabel(r\"$\\alpha$\")\n",
    "plt.savefig(\"../img/allennlp.png\")"
   ]
  },
  {
   "cell_type": "code",
   "execution_count": null,
   "metadata": {
    "ExecuteTime": {
     "end_time": "2018-09-14T16:14:42.588779Z",
     "start_time": "2018-09-14T16:14:41.699Z"
    }
   },
   "outputs": [],
   "source": [
    "N =  dat['N'].values\n",
    "M =  dat['M'].values"
   ]
  },
  {
   "cell_type": "code",
   "execution_count": null,
   "metadata": {
    "ExecuteTime": {
     "end_time": "2018-09-14T16:14:42.590424Z",
     "start_time": "2018-09-14T16:14:41.700Z"
    }
   },
   "outputs": [],
   "source": [
    "Q=N/M"
   ]
  },
  {
   "cell_type": "code",
   "execution_count": null,
   "metadata": {
    "ExecuteTime": {
     "end_time": "2018-09-14T16:14:42.592312Z",
     "start_time": "2018-09-14T16:14:41.702Z"
    }
   },
   "outputs": [],
   "source": [
    "plt.scatter(Q, alpha)\n",
    "plt.xlabel(\"Q\")\n",
    "plt.ylabel(r\"$\\alpha$\")\n",
    "plt.title(r\"AllenNLP: Q vs $\\alpha$\")"
   ]
  },
  {
   "cell_type": "code",
   "execution_count": null,
   "metadata": {
    "ExecuteTime": {
     "end_time": "2018-09-14T16:14:42.593997Z",
     "start_time": "2018-09-14T16:14:41.704Z"
    }
   },
   "outputs": [],
   "source": [
    "len(alpha[alpha>4])/len(alpha)"
   ]
  },
  {
   "cell_type": "code",
   "execution_count": null,
   "metadata": {},
   "outputs": [],
   "source": []
  }
 ],
 "metadata": {
  "kernelspec": {
   "display_name": "Python 3",
   "language": "python",
   "name": "python3"
  },
  "language_info": {
   "codemirror_mode": {
    "name": "ipython",
    "version": 3
   },
   "file_extension": ".py",
   "mimetype": "text/x-python",
   "name": "python",
   "nbconvert_exporter": "python",
   "pygments_lexer": "ipython3",
   "version": "3.6.5"
  }
 },
 "nbformat": 4,
 "nbformat_minor": 2
}
