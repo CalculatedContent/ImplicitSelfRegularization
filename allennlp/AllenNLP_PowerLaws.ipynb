{
 "cells": [
  {
   "cell_type": "markdown",
   "metadata": {},
   "source": [
    "# AllenNLP Power Law fits for Linear Layers\n",
    "\n",
    "https://allennlp.org/models\n",
    "\n",
    "\n",
    "Machine Comprehension\n",
    "\n",
    "MAC: https://s3-us-west-2.amazonaws.com/allennlp/models/ner-model-2018.04.26.tar.gz\n",
    "\n",
    "Textual Entailment\n",
    "\n",
    "ELMO: https://s3-us-west-2.amazonaws.com/allennlp/models/decomposable-attention-elmo-2018.02.19.tar.gza\n",
    "\n",
    "Semantic Role Labeling\n",
    "\n",
    "SRL:  https://s3-us-west-2.amazonaws.com/allennlp/models/srl-model-2018.05.25.tar.gz\n",
    "\n",
    "Coreference Resolution\n",
    "\n",
    "COREF: https://s3-us-west-2.amazonaws.com/allennlp/models/coref-model-2018.02.05.tar.gz\n",
    "\n",
    "Constituency Parsing\n",
    "\n",
    "CP: https://s3-us-west-2.amazonaws.com/allennlp/models/elmo-constituency-parser-2018.03.14.tar.gz\n",
    "\n",
    "Named Entity Recognition\n",
    "\n",
    "\n",
    "NER:  https://s3-us-west-2.amazonaws.com/allennlp/models/ner-model-2018.04.26.tar.gz"
   ]
  },
  {
   "cell_type": "code",
   "execution_count": 1,
   "metadata": {
    "ExecuteTime": {
     "end_time": "2018-09-14T16:19:23.216157Z",
     "start_time": "2018-09-14T16:19:22.789560Z"
    }
   },
   "outputs": [],
   "source": [
    "import numpy as np\n",
    "import scipy as sp\n",
    "\n",
    "import pandas as pd\n",
    "\n",
    "import matplotlib\n",
    "import numpy as np\n",
    "import matplotlib.pyplot as plt\n",
    "%matplotlib inline  "
   ]
  },
  {
   "cell_type": "code",
   "execution_count": 2,
   "metadata": {
    "ExecuteTime": {
     "end_time": "2018-09-14T16:19:23.333359Z",
     "start_time": "2018-09-14T16:19:23.326066Z"
    }
   },
   "outputs": [
    {
     "data": {
      "text/plain": [
       "<Figure size 360x360 with 0 Axes>"
      ]
     },
     "metadata": {},
     "output_type": "display_data"
    }
   ],
   "source": [
    "import matplotlib.pyplot as plt\n",
    "plt.rcParams['figure.figsize'] = [5, 5]\n",
    "matplotlib.rcParams.update({'font.size': 16})\n",
    "plt.tight_layout()"
   ]
  },
  {
   "cell_type": "markdown",
   "metadata": {
    "ExecuteTime": {
     "end_time": "2018-09-13T18:43:42.458316Z",
     "start_time": "2018-09-13T18:43:42.451991Z"
    }
   },
   "source": [
    "### All data combined in allennlp.dat, with header"
   ]
  },
  {
   "cell_type": "code",
   "execution_count": 14,
   "metadata": {
    "ExecuteTime": {
     "end_time": "2018-09-14T16:19:23.984322Z",
     "start_time": "2018-09-14T16:19:23.981957Z"
    }
   },
   "outputs": [],
   "source": [
    "DATAFILE = \"allennlp.dat\""
   ]
  },
  {
   "cell_type": "code",
   "execution_count": 24,
   "metadata": {
    "ExecuteTime": {
     "end_time": "2018-09-14T16:19:24.329115Z",
     "start_time": "2018-09-14T16:19:24.206657Z"
    }
   },
   "outputs": [
    {
     "name": "stdout",
     "output_type": "stream",
     "text": [
      "im M N alpha D minsval\r\n",
      "23 2048 4096 5.7029920495989135 0.028451610511374015 0.8689229488372803\r\n",
      "24 2048 4096 5.234361514445998 0.04264377526480412 1.407131314277649\r\n",
      "25 512 2048 3.2759086154868178 0.04030197619663345 2.686722755432129\r\n",
      "28 512 16384 2.791929117673587 0.025378700331326387 5.430802345275879\r\n",
      "29 512 16384 3.0783106162008305 0.021362407748185208 4.471874237060547\r\n",
      "30 512 4096 3.6895340823321936 0.02273021600925962 3.063931465148926\r\n",
      "32 512 16384 2.8383103170005635 0.02525349278695277 5.508063793182373\r\n",
      "33 512 16384 3.1297699262888057 0.017658737880242026 5.766214847564697\r\n",
      "34 512 4096 3.8378605851245453 0.026490257683743468 2.3823835849761963\r\n"
     ]
    }
   ],
   "source": [
    "!head $DATAFILE"
   ]
  },
  {
   "cell_type": "code",
   "execution_count": 25,
   "metadata": {
    "ExecuteTime": {
     "end_time": "2018-09-14T16:19:24.411289Z",
     "start_time": "2018-09-14T16:19:24.398281Z"
    }
   },
   "outputs": [
    {
     "data": {
      "text/plain": [
       "85"
      ]
     },
     "execution_count": 25,
     "metadata": {},
     "output_type": "execute_result"
    }
   ],
   "source": [
    "dat = pd.read_csv(DATAFILE, delimiter=\" \")\n",
    "len(dat)"
   ]
  },
  {
   "cell_type": "code",
   "execution_count": 26,
   "metadata": {
    "ExecuteTime": {
     "end_time": "2018-09-14T16:19:24.585658Z",
     "start_time": "2018-09-14T16:19:24.582949Z"
    }
   },
   "outputs": [
    {
     "data": {
      "text/plain": [
       "array([5.70299205, 5.23436151, 3.27590862, 2.79192912, 3.07831062,\n",
       "       3.68953408, 2.83831032, 3.12976993, 3.83786059, 2.86946955,\n",
       "       3.66481646, 5.35268859, 2.8296809 , 3.58320601, 5.031763  ,\n",
       "       2.3318407 , 5.70299205, 5.23436151, 3.27590862, 2.79192912,\n",
       "       3.07831062, 3.68953408, 2.83831032, 3.12976993, 3.83786059,\n",
       "       2.86946955, 3.66481646, 5.35268859, 2.8296809 , 3.58320601,\n",
       "       5.031763  , 2.210492  , 2.05946345, 6.25043134, 4.80892471,\n",
       "       7.17353658, 2.91302442, 2.83129573, 3.66381675, 2.97971892,\n",
       "       2.80861318, 3.59682755, 3.04316867, 3.5645376 , 5.94355429,\n",
       "       2.99438845, 3.65159862, 5.82581822, 4.71170315, 3.67574213,\n",
       "       2.76860923, 2.94500551, 2.51974291, 2.7893335 , 2.51567377,\n",
       "       2.77974515, 2.56625531, 2.71295543, 2.5922946 , 2.67150378,\n",
       "       2.47022768, 2.39712803, 2.47082163, 2.70093508, 2.9512953 ,\n",
       "       2.52328866, 2.42554796, 2.41031438, 2.50355945, 5.70299205,\n",
       "       5.23436151, 3.27590862, 2.79192912, 3.07831062, 3.68953408,\n",
       "       2.83831032, 3.12976993, 3.83786059, 2.86946955, 3.66481646,\n",
       "       5.35268859, 2.8296809 , 3.58320601, 5.031763  , 2.3318407 ])"
      ]
     },
     "execution_count": 26,
     "metadata": {},
     "output_type": "execute_result"
    }
   ],
   "source": [
    "alpha = dat['alpha'].values\n",
    "alpha"
   ]
  },
  {
   "cell_type": "code",
   "execution_count": 27,
   "metadata": {
    "ExecuteTime": {
     "end_time": "2018-09-14T16:19:25.255064Z",
     "start_time": "2018-09-14T16:19:24.805810Z"
    }
   },
   "outputs": [
    {
     "data": {
      "image/png": "[encoded data removed]",
      "text/plain": [
       "<Figure size 360x360 with 1 Axes>"
      ]
     },
     "metadata": {},
     "output_type": "display_data"
    }
   ],
   "source": [
    "plt.hist(alpha,bins=100);\n",
    "plt.title(r\"AllenNLP Power Law fits: $p(\\lambda)\\sim\\lambda^{-\\alpha}$\")\n",
    "plt.xlabel(r\"$\\alpha$\")\n",
    "plt.savefig(\"../img/allennlp.png\")"
   ]
  },
  {
   "cell_type": "code",
   "execution_count": 30,
   "metadata": {
    "ExecuteTime": {
     "end_time": "2018-09-14T16:19:25.260956Z",
     "start_time": "2018-09-14T16:19:25.257196Z"
    }
   },
   "outputs": [],
   "source": [
    "N =  dat['N'].values\n",
    "M =  dat['M'].values\n",
    "Q= N/M"
   ]
  },
  {
   "cell_type": "markdown",
   "metadata": {
    "ExecuteTime": {
     "end_time": "2018-09-14T16:18:23.524967Z",
     "start_time": "2018-09-14T16:18:22.959Z"
    }
   },
   "source": [
    "#### 80% of all alphas are between 2 and 4\n",
    "\n",
    "and deviations occur at smallerish Q"
   ]
  },
  {
   "cell_type": "code",
   "execution_count": 31,
   "metadata": {
    "ExecuteTime": {
     "end_time": "2018-09-14T16:19:25.671231Z",
     "start_time": "2018-09-14T16:19:25.534337Z"
    }
   },
   "outputs": [
    {
     "data": {
      "text/plain": [
       "Text(0.5,1,'AllenNLP: Q vs $\\\\alpha$')"
      ]
     },
     "execution_count": 31,
     "metadata": {},
     "output_type": "execute_result"
    },
    {
     "data": {
      "image/png": "[encoded data removed]",
      "text/plain": [
       "<Figure size 360x360 with 1 Axes>"
      ]
     },
     "metadata": {},
     "output_type": "display_data"
    }
   ],
   "source": [
    "plt.scatter(Q, alpha)\n",
    "plt.xlabel(\"Q\")\n",
    "plt.ylabel(r\"$\\alpha$\")\n",
    "plt.title(r\"AllenNLP: Q vs $\\alpha$\")"
   ]
  }
 ],
 "metadata": {
  "kernelspec": {
   "display_name": "Python 3",
   "language": "python",
   "name": "python3"
  },
  "language_info": {
   "codemirror_mode": {
    "name": "ipython",
    "version": 3
   },
   "file_extension": ".py",
   "mimetype": "text/x-python",
   "name": "python",
   "nbconvert_exporter": "python",
   "pygments_lexer": "ipython3",
   "version": "3.6.5"
  }
 },
 "nbformat": 4,
 "nbformat_minor": 2
}
